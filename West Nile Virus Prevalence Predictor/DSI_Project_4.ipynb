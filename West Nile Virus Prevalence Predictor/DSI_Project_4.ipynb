{
 "cells": [
  {
   "cell_type": "markdown",
   "id": "a23e0437-ca19-4881-beb4-91011f623e03",
   "metadata": {},
   "source": [
    "# Project 4: West Nile Virus Classifer\n",
    "---"
   ]
  },
  {
   "cell_type": "markdown",
   "id": "8bd5bdc5-5cab-40dd-8108-c41806adfd34",
   "metadata": {
    "tags": []
   },
   "source": [
    "Collaborators from the class of DSIF-11-SG (Jun '23 - Dec '23):\n",
    "1. Liyena Yusof\n",
    "2. Maimunah Iskhander\n",
    "3. Marko Lim\n",
    "4. Tiffany Tan"
   ]
  },
  {
   "cell_type": "markdown",
   "id": "34e9a138-1187-4fbf-997d-8cfa736d860b",
   "metadata": {},
   "source": [
    "## Contents\n",
    "1. [Problem Statement](#Problem-Statement)\n",
    "2. [Data Dictionary](#Data-Dictionary)\n",
    "3. [Cleaning & Preprocessing](#Cleaning-&-Preprocessing)\n",
    "4. [EDA](#EDA)\n",
    "5. [Modelling](#Modelling)\n",
    "6. [Findings & Conclusion](#Findings-&-Conclusion)"
   ]
  },
  {
   "cell_type": "markdown",
   "id": "49dbec2c-4c50-416b-b285-e4d46cf640af",
   "metadata": {},
   "source": [
    "## Problem Statement\n",
    "---"
   ]
  },
  {
   "cell_type": "code",
   "execution_count": null,
   "id": "13476341-b457-4c4e-b5cf-d89203243eaf",
   "metadata": {},
   "outputs": [],
   "source": []
  },
  {
   "cell_type": "markdown",
   "id": "1fc5a093-e22b-4fe5-bcb4-acad6730ee79",
   "metadata": {},
   "source": [
    "## Data Dictionary\n",
    "---"
   ]
  },
  {
   "cell_type": "code",
   "execution_count": null,
   "id": "b34904bf-8eeb-4c15-aa88-ce0fbc917529",
   "metadata": {},
   "outputs": [],
   "source": []
  },
  {
   "cell_type": "markdown",
   "id": "91755786-58bb-4aee-aa43-1f75d349a847",
   "metadata": {},
   "source": [
    "## Cleaning & Preprocessing\n",
    "---"
   ]
  },
  {
   "cell_type": "markdown",
   "id": "40eb697e-f412-472e-9d5b-167461cdb20d",
   "metadata": {},
   "source": [
    "#### Import Libraries"
   ]
  },
  {
   "cell_type": "code",
   "execution_count": 1,
   "id": "e0d73f81-a1e8-4d42-8334-20268dc31933",
   "metadata": {
    "tags": []
   },
   "outputs": [],
   "source": [
    "import pandas as pd\n",
    "import matplotlib.pyplot as plt\n",
    "import seaborn as sns\n",
    "import numpy as np"
   ]
  },
  {
   "cell_type": "markdown",
   "id": "85077b89-548b-412c-8006-b7bb94337dd7",
   "metadata": {},
   "source": [
    "#### Read in the Datasets"
   ]
  },
  {
   "cell_type": "code",
   "execution_count": 2,
   "id": "61eb7abc-3472-4abe-88b7-311a7e7fc679",
   "metadata": {
    "tags": []
   },
   "outputs": [],
   "source": [
    "train_df = pd.read_csv('./datasets/train.csv')\n",
    "test_df = pd.read_csv('./datasets/test.csv')\n",
    "spray_df = pd.read_csv('./datasets/spray.csv')\n",
    "weather_df = pd.read_csv('./datasets/weather.csv')"
   ]
  },
  {
   "cell_type": "markdown",
   "id": "6eaf71bb-3f63-4995-a95a-69011e5dbc92",
   "metadata": {},
   "source": [
    "#### Understanding Train Dataset"
   ]
  },
  {
   "cell_type": "code",
   "execution_count": 3,
   "id": "c6b0d428-8772-450c-9e1b-945ef438b280",
   "metadata": {
    "tags": []
   },
   "outputs": [
    {
     "data": {
      "text/plain": [
       "(10506, 12)"
      ]
     },
     "execution_count": 3,
     "metadata": {},
     "output_type": "execute_result"
    }
   ],
   "source": [
    "train_df.shape"
   ]
  },
  {
   "cell_type": "code",
   "execution_count": 4,
   "id": "e1bb7c4e-4208-45b1-873d-03b08c0c6e45",
   "metadata": {
    "tags": []
   },
   "outputs": [
    {
     "data": {
      "text/plain": [
       "(813, 12)"
      ]
     },
     "execution_count": 4,
     "metadata": {},
     "output_type": "execute_result"
    }
   ],
   "source": [
    "train_df[train_df.duplicated()].shape"
   ]
  },
  {
   "cell_type": "code",
   "execution_count": 5,
   "id": "6ff64eac-b1dc-4b52-a21d-a88ab7c0a768",
   "metadata": {
    "tags": []
   },
   "outputs": [
    {
     "data": {
      "text/html": [
       "<div>\n",
       "<style scoped>\n",
       "    .dataframe tbody tr th:only-of-type {\n",
       "        vertical-align: middle;\n",
       "    }\n",
       "\n",
       "    .dataframe tbody tr th {\n",
       "        vertical-align: top;\n",
       "    }\n",
       "\n",
       "    .dataframe thead th {\n",
       "        text-align: right;\n",
       "    }\n",
       "</style>\n",
       "<table border=\"1\" class=\"dataframe\">\n",
       "  <thead>\n",
       "    <tr style=\"text-align: right;\">\n",
       "      <th></th>\n",
       "      <th>Date</th>\n",
       "      <th>Address</th>\n",
       "      <th>Species</th>\n",
       "      <th>Block</th>\n",
       "      <th>Street</th>\n",
       "      <th>Trap</th>\n",
       "      <th>AddressNumberAndStreet</th>\n",
       "      <th>Latitude</th>\n",
       "      <th>Longitude</th>\n",
       "      <th>AddressAccuracy</th>\n",
       "      <th>NumMosquitos</th>\n",
       "      <th>WnvPresent</th>\n",
       "    </tr>\n",
       "  </thead>\n",
       "  <tbody>\n",
       "    <tr>\n",
       "      <th>0</th>\n",
       "      <td>2007-05-29</td>\n",
       "      <td>4100 North Oak Park Avenue, Chicago, IL 60634,...</td>\n",
       "      <td>CULEX PIPIENS/RESTUANS</td>\n",
       "      <td>41</td>\n",
       "      <td>N OAK PARK AVE</td>\n",
       "      <td>T002</td>\n",
       "      <td>4100  N OAK PARK AVE, Chicago, IL</td>\n",
       "      <td>41.954690</td>\n",
       "      <td>-87.800991</td>\n",
       "      <td>9</td>\n",
       "      <td>1</td>\n",
       "      <td>0</td>\n",
       "    </tr>\n",
       "    <tr>\n",
       "      <th>1</th>\n",
       "      <td>2007-05-29</td>\n",
       "      <td>4100 North Oak Park Avenue, Chicago, IL 60634,...</td>\n",
       "      <td>CULEX RESTUANS</td>\n",
       "      <td>41</td>\n",
       "      <td>N OAK PARK AVE</td>\n",
       "      <td>T002</td>\n",
       "      <td>4100  N OAK PARK AVE, Chicago, IL</td>\n",
       "      <td>41.954690</td>\n",
       "      <td>-87.800991</td>\n",
       "      <td>9</td>\n",
       "      <td>1</td>\n",
       "      <td>0</td>\n",
       "    </tr>\n",
       "    <tr>\n",
       "      <th>2</th>\n",
       "      <td>2007-05-29</td>\n",
       "      <td>6200 North Mandell Avenue, Chicago, IL 60646, USA</td>\n",
       "      <td>CULEX RESTUANS</td>\n",
       "      <td>62</td>\n",
       "      <td>N MANDELL AVE</td>\n",
       "      <td>T007</td>\n",
       "      <td>6200  N MANDELL AVE, Chicago, IL</td>\n",
       "      <td>41.994991</td>\n",
       "      <td>-87.769279</td>\n",
       "      <td>9</td>\n",
       "      <td>1</td>\n",
       "      <td>0</td>\n",
       "    </tr>\n",
       "    <tr>\n",
       "      <th>3</th>\n",
       "      <td>2007-05-29</td>\n",
       "      <td>7900 West Foster Avenue, Chicago, IL 60656, USA</td>\n",
       "      <td>CULEX PIPIENS/RESTUANS</td>\n",
       "      <td>79</td>\n",
       "      <td>W FOSTER AVE</td>\n",
       "      <td>T015</td>\n",
       "      <td>7900  W FOSTER AVE, Chicago, IL</td>\n",
       "      <td>41.974089</td>\n",
       "      <td>-87.824812</td>\n",
       "      <td>8</td>\n",
       "      <td>1</td>\n",
       "      <td>0</td>\n",
       "    </tr>\n",
       "    <tr>\n",
       "      <th>4</th>\n",
       "      <td>2007-05-29</td>\n",
       "      <td>7900 West Foster Avenue, Chicago, IL 60656, USA</td>\n",
       "      <td>CULEX RESTUANS</td>\n",
       "      <td>79</td>\n",
       "      <td>W FOSTER AVE</td>\n",
       "      <td>T015</td>\n",
       "      <td>7900  W FOSTER AVE, Chicago, IL</td>\n",
       "      <td>41.974089</td>\n",
       "      <td>-87.824812</td>\n",
       "      <td>8</td>\n",
       "      <td>4</td>\n",
       "      <td>0</td>\n",
       "    </tr>\n",
       "  </tbody>\n",
       "</table>\n",
       "</div>"
      ],
      "text/plain": [
       "         Date                                            Address  \\\n",
       "0  2007-05-29  4100 North Oak Park Avenue, Chicago, IL 60634,...   \n",
       "1  2007-05-29  4100 North Oak Park Avenue, Chicago, IL 60634,...   \n",
       "2  2007-05-29  6200 North Mandell Avenue, Chicago, IL 60646, USA   \n",
       "3  2007-05-29    7900 West Foster Avenue, Chicago, IL 60656, USA   \n",
       "4  2007-05-29    7900 West Foster Avenue, Chicago, IL 60656, USA   \n",
       "\n",
       "                  Species  Block           Street  Trap  \\\n",
       "0  CULEX PIPIENS/RESTUANS     41   N OAK PARK AVE  T002   \n",
       "1          CULEX RESTUANS     41   N OAK PARK AVE  T002   \n",
       "2          CULEX RESTUANS     62    N MANDELL AVE  T007   \n",
       "3  CULEX PIPIENS/RESTUANS     79     W FOSTER AVE  T015   \n",
       "4          CULEX RESTUANS     79     W FOSTER AVE  T015   \n",
       "\n",
       "              AddressNumberAndStreet   Latitude  Longitude  AddressAccuracy  \\\n",
       "0  4100  N OAK PARK AVE, Chicago, IL  41.954690 -87.800991                9   \n",
       "1  4100  N OAK PARK AVE, Chicago, IL  41.954690 -87.800991                9   \n",
       "2   6200  N MANDELL AVE, Chicago, IL  41.994991 -87.769279                9   \n",
       "3    7900  W FOSTER AVE, Chicago, IL  41.974089 -87.824812                8   \n",
       "4    7900  W FOSTER AVE, Chicago, IL  41.974089 -87.824812                8   \n",
       "\n",
       "   NumMosquitos  WnvPresent  \n",
       "0             1           0  \n",
       "1             1           0  \n",
       "2             1           0  \n",
       "3             1           0  \n",
       "4             4           0  "
      ]
     },
     "execution_count": 5,
     "metadata": {},
     "output_type": "execute_result"
    }
   ],
   "source": [
    "train_df.head()"
   ]
  },
  {
   "cell_type": "code",
   "execution_count": 6,
   "id": "6f4e0864-2fc9-48bd-85ca-e4321ad94bb3",
   "metadata": {
    "tags": []
   },
   "outputs": [
    {
     "name": "stdout",
     "output_type": "stream",
     "text": [
      "<class 'pandas.core.frame.DataFrame'>\n",
      "RangeIndex: 10506 entries, 0 to 10505\n",
      "Data columns (total 12 columns):\n",
      " #   Column                  Non-Null Count  Dtype  \n",
      "---  ------                  --------------  -----  \n",
      " 0   Date                    10506 non-null  object \n",
      " 1   Address                 10506 non-null  object \n",
      " 2   Species                 10506 non-null  object \n",
      " 3   Block                   10506 non-null  int64  \n",
      " 4   Street                  10506 non-null  object \n",
      " 5   Trap                    10506 non-null  object \n",
      " 6   AddressNumberAndStreet  10506 non-null  object \n",
      " 7   Latitude                10506 non-null  float64\n",
      " 8   Longitude               10506 non-null  float64\n",
      " 9   AddressAccuracy         10506 non-null  int64  \n",
      " 10  NumMosquitos            10506 non-null  int64  \n",
      " 11  WnvPresent              10506 non-null  int64  \n",
      "dtypes: float64(2), int64(4), object(6)\n",
      "memory usage: 985.1+ KB\n"
     ]
    }
   ],
   "source": [
    "train_df.info()"
   ]
  },
  {
   "cell_type": "code",
   "execution_count": 7,
   "id": "a140f807-e1d1-4153-8f34-e2d6313bc489",
   "metadata": {
    "tags": []
   },
   "outputs": [
    {
     "data": {
      "text/plain": [
       "Date                      0\n",
       "Address                   0\n",
       "Species                   0\n",
       "Block                     0\n",
       "Street                    0\n",
       "Trap                      0\n",
       "AddressNumberAndStreet    0\n",
       "Latitude                  0\n",
       "Longitude                 0\n",
       "AddressAccuracy           0\n",
       "NumMosquitos              0\n",
       "WnvPresent                0\n",
       "dtype: int64"
      ]
     },
     "execution_count": 7,
     "metadata": {},
     "output_type": "execute_result"
    }
   ],
   "source": [
    "train_df.isnull().sum()"
   ]
  },
  {
   "cell_type": "code",
   "execution_count": 8,
   "id": "769fc95d-e9d4-435b-bcbf-625db5c8b187",
   "metadata": {
    "tags": []
   },
   "outputs": [
    {
     "data": {
      "text/html": [
       "<div>\n",
       "<style scoped>\n",
       "    .dataframe tbody tr th:only-of-type {\n",
       "        vertical-align: middle;\n",
       "    }\n",
       "\n",
       "    .dataframe tbody tr th {\n",
       "        vertical-align: top;\n",
       "    }\n",
       "\n",
       "    .dataframe thead th {\n",
       "        text-align: right;\n",
       "    }\n",
       "</style>\n",
       "<table border=\"1\" class=\"dataframe\">\n",
       "  <thead>\n",
       "    <tr style=\"text-align: right;\">\n",
       "      <th></th>\n",
       "      <th>Longitude</th>\n",
       "      <th>Latitude</th>\n",
       "      <th>WnvPresent</th>\n",
       "      <th>AddressAccuracy</th>\n",
       "      <th>NumMosquitos</th>\n",
       "      <th>Block</th>\n",
       "    </tr>\n",
       "  </thead>\n",
       "  <tbody>\n",
       "    <tr>\n",
       "      <th>count</th>\n",
       "      <td>10506.000000</td>\n",
       "      <td>10506.000000</td>\n",
       "      <td>10506.000000</td>\n",
       "      <td>10506.000000</td>\n",
       "      <td>10506.000000</td>\n",
       "      <td>10506.000000</td>\n",
       "    </tr>\n",
       "    <tr>\n",
       "      <th>mean</th>\n",
       "      <td>-87.699908</td>\n",
       "      <td>41.841139</td>\n",
       "      <td>0.052446</td>\n",
       "      <td>7.819532</td>\n",
       "      <td>12.853512</td>\n",
       "      <td>35.687797</td>\n",
       "    </tr>\n",
       "    <tr>\n",
       "      <th>std</th>\n",
       "      <td>0.096514</td>\n",
       "      <td>0.112742</td>\n",
       "      <td>0.222936</td>\n",
       "      <td>1.452921</td>\n",
       "      <td>16.133816</td>\n",
       "      <td>24.339468</td>\n",
       "    </tr>\n",
       "    <tr>\n",
       "      <th>min</th>\n",
       "      <td>-87.930995</td>\n",
       "      <td>41.644612</td>\n",
       "      <td>0.000000</td>\n",
       "      <td>3.000000</td>\n",
       "      <td>1.000000</td>\n",
       "      <td>10.000000</td>\n",
       "    </tr>\n",
       "    <tr>\n",
       "      <th>25%</th>\n",
       "      <td>-87.760070</td>\n",
       "      <td>41.732984</td>\n",
       "      <td>0.000000</td>\n",
       "      <td>8.000000</td>\n",
       "      <td>2.000000</td>\n",
       "      <td>12.000000</td>\n",
       "    </tr>\n",
       "    <tr>\n",
       "      <th>50%</th>\n",
       "      <td>-87.694991</td>\n",
       "      <td>41.846283</td>\n",
       "      <td>0.000000</td>\n",
       "      <td>8.000000</td>\n",
       "      <td>5.000000</td>\n",
       "      <td>33.000000</td>\n",
       "    </tr>\n",
       "    <tr>\n",
       "      <th>75%</th>\n",
       "      <td>-87.627796</td>\n",
       "      <td>41.954690</td>\n",
       "      <td>0.000000</td>\n",
       "      <td>9.000000</td>\n",
       "      <td>17.000000</td>\n",
       "      <td>52.000000</td>\n",
       "    </tr>\n",
       "    <tr>\n",
       "      <th>max</th>\n",
       "      <td>-87.531635</td>\n",
       "      <td>42.017430</td>\n",
       "      <td>1.000000</td>\n",
       "      <td>9.000000</td>\n",
       "      <td>50.000000</td>\n",
       "      <td>98.000000</td>\n",
       "    </tr>\n",
       "  </tbody>\n",
       "</table>\n",
       "</div>"
      ],
      "text/plain": [
       "          Longitude      Latitude    WnvPresent  AddressAccuracy  \\\n",
       "count  10506.000000  10506.000000  10506.000000     10506.000000   \n",
       "mean     -87.699908     41.841139      0.052446         7.819532   \n",
       "std        0.096514      0.112742      0.222936         1.452921   \n",
       "min      -87.930995     41.644612      0.000000         3.000000   \n",
       "25%      -87.760070     41.732984      0.000000         8.000000   \n",
       "50%      -87.694991     41.846283      0.000000         8.000000   \n",
       "75%      -87.627796     41.954690      0.000000         9.000000   \n",
       "max      -87.531635     42.017430      1.000000         9.000000   \n",
       "\n",
       "       NumMosquitos         Block  \n",
       "count  10506.000000  10506.000000  \n",
       "mean      12.853512     35.687797  \n",
       "std       16.133816     24.339468  \n",
       "min        1.000000     10.000000  \n",
       "25%        2.000000     12.000000  \n",
       "50%        5.000000     33.000000  \n",
       "75%       17.000000     52.000000  \n",
       "max       50.000000     98.000000  "
      ]
     },
     "execution_count": 8,
     "metadata": {},
     "output_type": "execute_result"
    }
   ],
   "source": [
    "train_df.describe().sort_values('std',axis=1)"
   ]
  },
  {
   "cell_type": "markdown",
   "id": "fb793a5e-eb39-4b5e-8345-b869ae2fd8e6",
   "metadata": {
    "tags": []
   },
   "source": [
    "<b>Actions to be taken on train dataset</b>\n",
    "1. Drop 'Address' and 'AddressNumberAndStreet' and 'Street'.\n",
    "2. Use 'Street' to create a new feature 'Direction'.\n",
    "3. Extract day, month, year, week and day of week from 'Date' after converting to datetime object\n",
    "4. One hot encode 'Species' and 'Trap'"
   ]
  },
  {
   "cell_type": "code",
   "execution_count": 9,
   "id": "567b1578-46ea-4575-9fa3-f943d0b5674f",
   "metadata": {
    "tags": []
   },
   "outputs": [],
   "source": [
    "# take actions here for train dataset and apply it to the test dataset as well\n",
    "# best to write a function that can be applied to train and test dataset\n",
    "train_df.drop(columns=['Address', 'AddressNumberAndStreet'], inplace=True)\n",
    "test_df.drop(columns=['Address', 'AddressNumberAndStreet'], inplace=True)"
   ]
  },
  {
   "cell_type": "code",
   "execution_count": 10,
   "id": "d3ea8afc-c021-434b-89e0-a7d17b6d330f",
   "metadata": {
    "tags": []
   },
   "outputs": [
    {
     "data": {
      "text/html": [
       "<div>\n",
       "<style scoped>\n",
       "    .dataframe tbody tr th:only-of-type {\n",
       "        vertical-align: middle;\n",
       "    }\n",
       "\n",
       "    .dataframe tbody tr th {\n",
       "        vertical-align: top;\n",
       "    }\n",
       "\n",
       "    .dataframe thead th {\n",
       "        text-align: right;\n",
       "    }\n",
       "</style>\n",
       "<table border=\"1\" class=\"dataframe\">\n",
       "  <thead>\n",
       "    <tr style=\"text-align: right;\">\n",
       "      <th></th>\n",
       "      <th>Date</th>\n",
       "      <th>Species</th>\n",
       "      <th>Block</th>\n",
       "      <th>Street</th>\n",
       "      <th>Trap</th>\n",
       "      <th>Latitude</th>\n",
       "      <th>Longitude</th>\n",
       "      <th>AddressAccuracy</th>\n",
       "      <th>NumMosquitos</th>\n",
       "      <th>WnvPresent</th>\n",
       "    </tr>\n",
       "  </thead>\n",
       "  <tbody>\n",
       "    <tr>\n",
       "      <th>0</th>\n",
       "      <td>2007-05-29</td>\n",
       "      <td>CULEX PIPIENS/RESTUANS</td>\n",
       "      <td>41</td>\n",
       "      <td>N OAK PARK AVE</td>\n",
       "      <td>T002</td>\n",
       "      <td>41.954690</td>\n",
       "      <td>-87.800991</td>\n",
       "      <td>9</td>\n",
       "      <td>1</td>\n",
       "      <td>0</td>\n",
       "    </tr>\n",
       "    <tr>\n",
       "      <th>1</th>\n",
       "      <td>2007-05-29</td>\n",
       "      <td>CULEX RESTUANS</td>\n",
       "      <td>41</td>\n",
       "      <td>N OAK PARK AVE</td>\n",
       "      <td>T002</td>\n",
       "      <td>41.954690</td>\n",
       "      <td>-87.800991</td>\n",
       "      <td>9</td>\n",
       "      <td>1</td>\n",
       "      <td>0</td>\n",
       "    </tr>\n",
       "    <tr>\n",
       "      <th>2</th>\n",
       "      <td>2007-05-29</td>\n",
       "      <td>CULEX RESTUANS</td>\n",
       "      <td>62</td>\n",
       "      <td>N MANDELL AVE</td>\n",
       "      <td>T007</td>\n",
       "      <td>41.994991</td>\n",
       "      <td>-87.769279</td>\n",
       "      <td>9</td>\n",
       "      <td>1</td>\n",
       "      <td>0</td>\n",
       "    </tr>\n",
       "    <tr>\n",
       "      <th>3</th>\n",
       "      <td>2007-05-29</td>\n",
       "      <td>CULEX PIPIENS/RESTUANS</td>\n",
       "      <td>79</td>\n",
       "      <td>W FOSTER AVE</td>\n",
       "      <td>T015</td>\n",
       "      <td>41.974089</td>\n",
       "      <td>-87.824812</td>\n",
       "      <td>8</td>\n",
       "      <td>1</td>\n",
       "      <td>0</td>\n",
       "    </tr>\n",
       "    <tr>\n",
       "      <th>4</th>\n",
       "      <td>2007-05-29</td>\n",
       "      <td>CULEX RESTUANS</td>\n",
       "      <td>79</td>\n",
       "      <td>W FOSTER AVE</td>\n",
       "      <td>T015</td>\n",
       "      <td>41.974089</td>\n",
       "      <td>-87.824812</td>\n",
       "      <td>8</td>\n",
       "      <td>4</td>\n",
       "      <td>0</td>\n",
       "    </tr>\n",
       "  </tbody>\n",
       "</table>\n",
       "</div>"
      ],
      "text/plain": [
       "         Date                 Species  Block           Street  Trap  \\\n",
       "0  2007-05-29  CULEX PIPIENS/RESTUANS     41   N OAK PARK AVE  T002   \n",
       "1  2007-05-29          CULEX RESTUANS     41   N OAK PARK AVE  T002   \n",
       "2  2007-05-29          CULEX RESTUANS     62    N MANDELL AVE  T007   \n",
       "3  2007-05-29  CULEX PIPIENS/RESTUANS     79     W FOSTER AVE  T015   \n",
       "4  2007-05-29          CULEX RESTUANS     79     W FOSTER AVE  T015   \n",
       "\n",
       "    Latitude  Longitude  AddressAccuracy  NumMosquitos  WnvPresent  \n",
       "0  41.954690 -87.800991                9             1           0  \n",
       "1  41.954690 -87.800991                9             1           0  \n",
       "2  41.994991 -87.769279                9             1           0  \n",
       "3  41.974089 -87.824812                8             1           0  \n",
       "4  41.974089 -87.824812                8             4           0  "
      ]
     },
     "execution_count": 10,
     "metadata": {},
     "output_type": "execute_result"
    }
   ],
   "source": [
    "train_df.head()"
   ]
  },
  {
   "cell_type": "code",
   "execution_count": 11,
   "id": "20587cd8-a0da-4043-b8c5-000da1f5a2ff",
   "metadata": {
    "tags": []
   },
   "outputs": [],
   "source": [
    "# Since mosquitos are pooled in groups of 50, add the number of mosquitos & wnvpresent\n",
    "train_df = train_df.groupby(['Date', 'Species', 'Trap', 'Latitude', 'Longitude']).sum().reset_index()"
   ]
  },
  {
   "cell_type": "code",
   "execution_count": 12,
   "id": "fcbcc446-b893-4552-900a-a490490f9ae6",
   "metadata": {
    "tags": []
   },
   "outputs": [
    {
     "data": {
      "text/plain": [
       "(8475, 10)"
      ]
     },
     "execution_count": 12,
     "metadata": {},
     "output_type": "execute_result"
    }
   ],
   "source": [
    "train_df.shape"
   ]
  },
  {
   "cell_type": "code",
   "execution_count": 13,
   "id": "c7020c25-b3a6-4e7d-9ed9-eda843a3d21a",
   "metadata": {
    "tags": []
   },
   "outputs": [
    {
     "data": {
      "text/html": [
       "<div>\n",
       "<style scoped>\n",
       "    .dataframe tbody tr th:only-of-type {\n",
       "        vertical-align: middle;\n",
       "    }\n",
       "\n",
       "    .dataframe tbody tr th {\n",
       "        vertical-align: top;\n",
       "    }\n",
       "\n",
       "    .dataframe thead th {\n",
       "        text-align: right;\n",
       "    }\n",
       "</style>\n",
       "<table border=\"1\" class=\"dataframe\">\n",
       "  <thead>\n",
       "    <tr style=\"text-align: right;\">\n",
       "      <th></th>\n",
       "      <th>Date</th>\n",
       "      <th>Species</th>\n",
       "      <th>Trap</th>\n",
       "      <th>Latitude</th>\n",
       "      <th>Longitude</th>\n",
       "      <th>Block</th>\n",
       "      <th>Street</th>\n",
       "      <th>AddressAccuracy</th>\n",
       "      <th>NumMosquitos</th>\n",
       "      <th>WnvPresent</th>\n",
       "    </tr>\n",
       "  </thead>\n",
       "  <tbody>\n",
       "    <tr>\n",
       "      <th>1450</th>\n",
       "      <td>2007-08-16</td>\n",
       "      <td>CULEX PIPIENS</td>\n",
       "      <td>T115</td>\n",
       "      <td>41.673408</td>\n",
       "      <td>-87.599862</td>\n",
       "      <td>612</td>\n",
       "      <td>S DOTY AVE S DOTY AVE S DOTY AVE S DOTY AVE S...</td>\n",
       "      <td>255</td>\n",
       "      <td>2532</td>\n",
       "      <td>10</td>\n",
       "    </tr>\n",
       "    <tr>\n",
       "      <th>7428</th>\n",
       "      <td>2013-08-01</td>\n",
       "      <td>CULEX PIPIENS/RESTUANS</td>\n",
       "      <td>T900</td>\n",
       "      <td>41.974689</td>\n",
       "      <td>-87.890615</td>\n",
       "      <td>250</td>\n",
       "      <td>W OHARE AIRPORT W OHARE AIRPORT W OHARE AIRPO...</td>\n",
       "      <td>225</td>\n",
       "      <td>984</td>\n",
       "      <td>9</td>\n",
       "    </tr>\n",
       "    <tr>\n",
       "      <th>7971</th>\n",
       "      <td>2013-08-29</td>\n",
       "      <td>CULEX PIPIENS</td>\n",
       "      <td>T900</td>\n",
       "      <td>41.974689</td>\n",
       "      <td>-87.890615</td>\n",
       "      <td>100</td>\n",
       "      <td>W OHARE AIRPORT W OHARE AIRPORT W OHARE AIRPO...</td>\n",
       "      <td>90</td>\n",
       "      <td>281</td>\n",
       "      <td>8</td>\n",
       "    </tr>\n",
       "    <tr>\n",
       "      <th>1666</th>\n",
       "      <td>2007-08-22</td>\n",
       "      <td>CULEX PIPIENS</td>\n",
       "      <td>T115</td>\n",
       "      <td>41.673408</td>\n",
       "      <td>-87.599862</td>\n",
       "      <td>384</td>\n",
       "      <td>S DOTY AVE S DOTY AVE S DOTY AVE S DOTY AVE S...</td>\n",
       "      <td>160</td>\n",
       "      <td>1554</td>\n",
       "      <td>7</td>\n",
       "    </tr>\n",
       "    <tr>\n",
       "      <th>1669</th>\n",
       "      <td>2007-08-22</td>\n",
       "      <td>CULEX PIPIENS</td>\n",
       "      <td>T138</td>\n",
       "      <td>41.726465</td>\n",
       "      <td>-87.585413</td>\n",
       "      <td>220</td>\n",
       "      <td>S STONY ISLAND AVE S STONY ISLAND AVE S STONY...</td>\n",
       "      <td>110</td>\n",
       "      <td>1054</td>\n",
       "      <td>6</td>\n",
       "    </tr>\n",
       "  </tbody>\n",
       "</table>\n",
       "</div>"
      ],
      "text/plain": [
       "            Date                 Species  Trap   Latitude  Longitude  Block  \\\n",
       "1450  2007-08-16           CULEX PIPIENS  T115  41.673408 -87.599862    612   \n",
       "7428  2013-08-01  CULEX PIPIENS/RESTUANS  T900  41.974689 -87.890615    250   \n",
       "7971  2013-08-29           CULEX PIPIENS  T900  41.974689 -87.890615    100   \n",
       "1666  2007-08-22           CULEX PIPIENS  T115  41.673408 -87.599862    384   \n",
       "1669  2007-08-22           CULEX PIPIENS  T138  41.726465 -87.585413    220   \n",
       "\n",
       "                                                 Street  AddressAccuracy  \\\n",
       "1450   S DOTY AVE S DOTY AVE S DOTY AVE S DOTY AVE S...              255   \n",
       "7428   W OHARE AIRPORT W OHARE AIRPORT W OHARE AIRPO...              225   \n",
       "7971   W OHARE AIRPORT W OHARE AIRPORT W OHARE AIRPO...               90   \n",
       "1666   S DOTY AVE S DOTY AVE S DOTY AVE S DOTY AVE S...              160   \n",
       "1669   S STONY ISLAND AVE S STONY ISLAND AVE S STONY...              110   \n",
       "\n",
       "      NumMosquitos  WnvPresent  \n",
       "1450          2532          10  \n",
       "7428           984           9  \n",
       "7971           281           8  \n",
       "1666          1554           7  \n",
       "1669          1054           6  "
      ]
     },
     "execution_count": 13,
     "metadata": {},
     "output_type": "execute_result"
    }
   ],
   "source": [
    "# WnvPresent needs to be mapped to 0 and 1\n",
    "train_df.sort_values('WnvPresent',ascending=False).head()"
   ]
  },
  {
   "cell_type": "code",
   "execution_count": 14,
   "id": "b521001e-9333-427b-b1f2-9741aa9bb450",
   "metadata": {
    "tags": []
   },
   "outputs": [],
   "source": [
    "# Map values of WnvPresent to 0 or 1\n",
    "train_df['WnvPresent'] = (train_df['WnvPresent'] > 0).astype(int)"
   ]
  },
  {
   "cell_type": "code",
   "execution_count": 15,
   "id": "f660f3a6-ad88-46ee-b1ff-acf850a60141",
   "metadata": {
    "tags": []
   },
   "outputs": [
    {
     "data": {
      "text/plain": [
       "WnvPresent\n",
       "0    8018\n",
       "1     457\n",
       "Name: count, dtype: int64"
      ]
     },
     "execution_count": 15,
     "metadata": {},
     "output_type": "execute_result"
    }
   ],
   "source": [
    "# Check that WnvPresent is binary, either 0 or 1\n",
    "train_df['WnvPresent'].value_counts()"
   ]
  },
  {
   "cell_type": "code",
   "execution_count": 16,
   "id": "752d54d0-d59e-4b00-97ef-d59f140fb672",
   "metadata": {
    "tags": []
   },
   "outputs": [],
   "source": [
    "# Create function to create new date related features\n",
    "def date_features(df):    \n",
    "    # Convert date to datetime object\n",
    "    df['Date'] = pd.to_datetime(df['Date'])\n",
    "\n",
    "    # Extract day, month, year and week to create new features\n",
    "    df['Day'] = df['Date'].dt.day\n",
    "    df['Month'] = df['Date'].dt.month\n",
    "    df['Year'] = df['Date'].dt.year\n",
    "    df['Week'] = df['Date'].dt.isocalendar().week # Note: 52 weeks in a year\n",
    "    df['DayOfWeek'] = df['Date'].dt.dayofweek # Note: Monday = 0, Sunday = 6\n",
    "    \n",
    "    return df"
   ]
  },
  {
   "cell_type": "code",
   "execution_count": 17,
   "id": "dc8df82f-6265-422d-aac2-dffc51e25872",
   "metadata": {},
   "outputs": [],
   "source": [
    "train_df = date_features(train_df)\n",
    "test_df= date_features(test_df)"
   ]
  },
  {
   "cell_type": "code",
   "execution_count": 18,
   "id": "844791a2-3697-45a4-90d5-ab1dbc9fb713",
   "metadata": {
    "tags": []
   },
   "outputs": [
    {
     "data": {
      "image/png": "[encoded data removed]",
      "text/plain": [
       "<Figure size 640x480 with 2 Axes>"
      ]
     },
     "metadata": {},
     "output_type": "display_data"
    }
   ],
   "source": [
    "corr = train_df[['Day','Month','Year','Week','DayOfWeek']].corr()\n",
    "sns.heatmap(corr)\n",
    "plt.show()"
   ]
  },
  {
   "cell_type": "markdown",
   "id": "d3405c01-3a38-425b-a1c8-d3b3ad2c958c",
   "metadata": {},
   "source": [
    "We will use all the columns in our model."
   ]
  },
  {
   "cell_type": "code",
   "execution_count": 19,
   "id": "20bc0429-8dd4-4919-bc07-044d63096057",
   "metadata": {},
   "outputs": [],
   "source": [
    "# Instead of using street, will just use the north, south, east, west directions\n",
    "# W Armitage\n",
    "train_df[\"Direction\"] = train_df[\"Street\"].str[:2]\n",
    "directions = {\" N\": 0, \" W\": 1, \" S\": 2, \" E\": 3, \"  \": 1}\n",
    "train_df[\"Direction\"] = train_df[\"Direction\"].map(directions)"
   ]
  },
  {
   "cell_type": "code",
   "execution_count": 20,
   "id": "f67be0af-e6c9-4154-a709-d7056406e9c1",
   "metadata": {
    "tags": []
   },
   "outputs": [],
   "source": [
    "test_df[\"Direction\"] = test_df[\"Street\"].str[:2]\n",
    "directions = {\" N\": 0, \" W\": 1, \" S\": 2, \" E\": 3, \"  \": 1}\n",
    "test_df[\"Direction\"] = test_df[\"Direction\"].map(directions)"
   ]
  },
  {
   "cell_type": "code",
   "execution_count": 21,
   "id": "a2989fe7-82ea-4c25-8a26-ba628c7024aa",
   "metadata": {
    "tags": []
   },
   "outputs": [
    {
     "data": {
      "text/html": [
       "<div>\n",
       "<style scoped>\n",
       "    .dataframe tbody tr th:only-of-type {\n",
       "        vertical-align: middle;\n",
       "    }\n",
       "\n",
       "    .dataframe tbody tr th {\n",
       "        vertical-align: top;\n",
       "    }\n",
       "\n",
       "    .dataframe thead th {\n",
       "        text-align: right;\n",
       "    }\n",
       "</style>\n",
       "<table border=\"1\" class=\"dataframe\">\n",
       "  <thead>\n",
       "    <tr style=\"text-align: right;\">\n",
       "      <th></th>\n",
       "      <th>Street</th>\n",
       "      <th>Direction</th>\n",
       "    </tr>\n",
       "  </thead>\n",
       "  <tbody>\n",
       "  </tbody>\n",
       "</table>\n",
       "</div>"
      ],
      "text/plain": [
       "Empty DataFrame\n",
       "Columns: [Street, Direction]\n",
       "Index: []"
      ]
     },
     "execution_count": 21,
     "metadata": {},
     "output_type": "execute_result"
    }
   ],
   "source": [
    "train_df[train_df['Direction'].isnull()][['Street', 'Direction']].head()"
   ]
  },
  {
   "cell_type": "code",
   "execution_count": 22,
   "id": "df878b40-d444-4993-85f8-7aef5cf80406",
   "metadata": {
    "tags": []
   },
   "outputs": [
    {
     "data": {
      "text/plain": [
       "Date               0\n",
       "Species            0\n",
       "Trap               0\n",
       "Latitude           0\n",
       "Longitude          0\n",
       "Block              0\n",
       "Street             0\n",
       "AddressAccuracy    0\n",
       "NumMosquitos       0\n",
       "WnvPresent         0\n",
       "Day                0\n",
       "Month              0\n",
       "Year               0\n",
       "Week               0\n",
       "DayOfWeek          0\n",
       "Direction          0\n",
       "dtype: int64"
      ]
     },
     "execution_count": 22,
     "metadata": {},
     "output_type": "execute_result"
    }
   ],
   "source": [
    "train_df.isnull().sum()"
   ]
  },
  {
   "cell_type": "code",
   "execution_count": 23,
   "id": "666a5cab-aa4f-43f2-9a0e-4ae15abaa4fa",
   "metadata": {
    "tags": []
   },
   "outputs": [
    {
     "data": {
      "text/html": [
       "<div>\n",
       "<style scoped>\n",
       "    .dataframe tbody tr th:only-of-type {\n",
       "        vertical-align: middle;\n",
       "    }\n",
       "\n",
       "    .dataframe tbody tr th {\n",
       "        vertical-align: top;\n",
       "    }\n",
       "\n",
       "    .dataframe thead th {\n",
       "        text-align: right;\n",
       "    }\n",
       "</style>\n",
       "<table border=\"1\" class=\"dataframe\">\n",
       "  <thead>\n",
       "    <tr style=\"text-align: right;\">\n",
       "      <th></th>\n",
       "      <th>Date</th>\n",
       "      <th>Species</th>\n",
       "      <th>Trap</th>\n",
       "      <th>Latitude</th>\n",
       "      <th>Longitude</th>\n",
       "      <th>Block</th>\n",
       "      <th>Street</th>\n",
       "      <th>AddressAccuracy</th>\n",
       "      <th>NumMosquitos</th>\n",
       "      <th>WnvPresent</th>\n",
       "      <th>Day</th>\n",
       "      <th>Month</th>\n",
       "      <th>Year</th>\n",
       "      <th>Week</th>\n",
       "      <th>DayOfWeek</th>\n",
       "      <th>Direction</th>\n",
       "    </tr>\n",
       "  </thead>\n",
       "  <tbody>\n",
       "    <tr>\n",
       "      <th>1450</th>\n",
       "      <td>2007-08-16</td>\n",
       "      <td>CULEX PIPIENS</td>\n",
       "      <td>T115</td>\n",
       "      <td>41.673408</td>\n",
       "      <td>-87.599862</td>\n",
       "      <td>612</td>\n",
       "      <td>S DOTY AVE S DOTY AVE S DOTY AVE S DOTY AVE S...</td>\n",
       "      <td>255</td>\n",
       "      <td>2532</td>\n",
       "      <td>1</td>\n",
       "      <td>16</td>\n",
       "      <td>8</td>\n",
       "      <td>2007</td>\n",
       "      <td>33</td>\n",
       "      <td>3</td>\n",
       "      <td>2</td>\n",
       "    </tr>\n",
       "    <tr>\n",
       "      <th>564</th>\n",
       "      <td>2007-07-25</td>\n",
       "      <td>CULEX PIPIENS</td>\n",
       "      <td>T115</td>\n",
       "      <td>41.673408</td>\n",
       "      <td>-87.599862</td>\n",
       "      <td>588</td>\n",
       "      <td>S DOTY AVE S DOTY AVE S DOTY AVE S DOTY AVE S...</td>\n",
       "      <td>245</td>\n",
       "      <td>2356</td>\n",
       "      <td>1</td>\n",
       "      <td>25</td>\n",
       "      <td>7</td>\n",
       "      <td>2007</td>\n",
       "      <td>30</td>\n",
       "      <td>2</td>\n",
       "      <td>2</td>\n",
       "    </tr>\n",
       "    <tr>\n",
       "      <th>1897</th>\n",
       "      <td>2007-08-28</td>\n",
       "      <td>CULEX PIPIENS</td>\n",
       "      <td>T115</td>\n",
       "      <td>41.673408</td>\n",
       "      <td>-87.599862</td>\n",
       "      <td>540</td>\n",
       "      <td>S DOTY AVE S DOTY AVE S DOTY AVE S DOTY AVE S...</td>\n",
       "      <td>225</td>\n",
       "      <td>2207</td>\n",
       "      <td>1</td>\n",
       "      <td>28</td>\n",
       "      <td>8</td>\n",
       "      <td>2007</td>\n",
       "      <td>35</td>\n",
       "      <td>1</td>\n",
       "      <td>2</td>\n",
       "    </tr>\n",
       "    <tr>\n",
       "      <th>1190</th>\n",
       "      <td>2007-08-08</td>\n",
       "      <td>CULEX PIPIENS</td>\n",
       "      <td>T138</td>\n",
       "      <td>41.726465</td>\n",
       "      <td>-87.585413</td>\n",
       "      <td>340</td>\n",
       "      <td>S STONY ISLAND AVE S STONY ISLAND AVE S STONY...</td>\n",
       "      <td>170</td>\n",
       "      <td>1658</td>\n",
       "      <td>1</td>\n",
       "      <td>8</td>\n",
       "      <td>8</td>\n",
       "      <td>2007</td>\n",
       "      <td>32</td>\n",
       "      <td>2</td>\n",
       "      <td>2</td>\n",
       "    </tr>\n",
       "    <tr>\n",
       "      <th>2032</th>\n",
       "      <td>2007-09-05</td>\n",
       "      <td>CULEX PIPIENS</td>\n",
       "      <td>T115</td>\n",
       "      <td>41.673408</td>\n",
       "      <td>-87.599862</td>\n",
       "      <td>396</td>\n",
       "      <td>S DOTY AVE S DOTY AVE S DOTY AVE S DOTY AVE S...</td>\n",
       "      <td>165</td>\n",
       "      <td>1648</td>\n",
       "      <td>1</td>\n",
       "      <td>5</td>\n",
       "      <td>9</td>\n",
       "      <td>2007</td>\n",
       "      <td>36</td>\n",
       "      <td>2</td>\n",
       "      <td>2</td>\n",
       "    </tr>\n",
       "    <tr>\n",
       "      <th>...</th>\n",
       "      <td>...</td>\n",
       "      <td>...</td>\n",
       "      <td>...</td>\n",
       "      <td>...</td>\n",
       "      <td>...</td>\n",
       "      <td>...</td>\n",
       "      <td>...</td>\n",
       "      <td>...</td>\n",
       "      <td>...</td>\n",
       "      <td>...</td>\n",
       "      <td>...</td>\n",
       "      <td>...</td>\n",
       "      <td>...</td>\n",
       "      <td>...</td>\n",
       "      <td>...</td>\n",
       "      <td>...</td>\n",
       "    </tr>\n",
       "    <tr>\n",
       "      <th>3180</th>\n",
       "      <td>2009-06-19</td>\n",
       "      <td>CULEX RESTUANS</td>\n",
       "      <td>T138</td>\n",
       "      <td>41.726465</td>\n",
       "      <td>-87.585413</td>\n",
       "      <td>10</td>\n",
       "      <td>S STONY ISLAND AVE</td>\n",
       "      <td>5</td>\n",
       "      <td>1</td>\n",
       "      <td>0</td>\n",
       "      <td>19</td>\n",
       "      <td>6</td>\n",
       "      <td>2009</td>\n",
       "      <td>25</td>\n",
       "      <td>4</td>\n",
       "      <td>2</td>\n",
       "    </tr>\n",
       "    <tr>\n",
       "      <th>3184</th>\n",
       "      <td>2009-06-19</td>\n",
       "      <td>CULEX RESTUANS</td>\n",
       "      <td>T151</td>\n",
       "      <td>41.916265</td>\n",
       "      <td>-87.800515</td>\n",
       "      <td>70</td>\n",
       "      <td>W ARMITAGE AVENUE</td>\n",
       "      <td>8</td>\n",
       "      <td>1</td>\n",
       "      <td>0</td>\n",
       "      <td>19</td>\n",
       "      <td>6</td>\n",
       "      <td>2009</td>\n",
       "      <td>25</td>\n",
       "      <td>4</td>\n",
       "      <td>1</td>\n",
       "    </tr>\n",
       "    <tr>\n",
       "      <th>3189</th>\n",
       "      <td>2009-06-19</td>\n",
       "      <td>CULEX RESTUANS</td>\n",
       "      <td>T200</td>\n",
       "      <td>41.678618</td>\n",
       "      <td>-87.559308</td>\n",
       "      <td>13</td>\n",
       "      <td>S TORRENCE AVE</td>\n",
       "      <td>5</td>\n",
       "      <td>1</td>\n",
       "      <td>0</td>\n",
       "      <td>19</td>\n",
       "      <td>6</td>\n",
       "      <td>2009</td>\n",
       "      <td>25</td>\n",
       "      <td>4</td>\n",
       "      <td>2</td>\n",
       "    </tr>\n",
       "    <tr>\n",
       "      <th>3190</th>\n",
       "      <td>2009-06-19</td>\n",
       "      <td>CULEX RESTUANS</td>\n",
       "      <td>T209</td>\n",
       "      <td>41.740641</td>\n",
       "      <td>-87.546587</td>\n",
       "      <td>13</td>\n",
       "      <td>S BRANDON</td>\n",
       "      <td>5</td>\n",
       "      <td>1</td>\n",
       "      <td>0</td>\n",
       "      <td>19</td>\n",
       "      <td>6</td>\n",
       "      <td>2009</td>\n",
       "      <td>25</td>\n",
       "      <td>4</td>\n",
       "      <td>2</td>\n",
       "    </tr>\n",
       "    <tr>\n",
       "      <th>0</th>\n",
       "      <td>2007-05-29</td>\n",
       "      <td>CULEX PIPIENS</td>\n",
       "      <td>T096</td>\n",
       "      <td>41.731922</td>\n",
       "      <td>-87.677512</td>\n",
       "      <td>22</td>\n",
       "      <td>W 89TH ST</td>\n",
       "      <td>8</td>\n",
       "      <td>1</td>\n",
       "      <td>0</td>\n",
       "      <td>29</td>\n",
       "      <td>5</td>\n",
       "      <td>2007</td>\n",
       "      <td>22</td>\n",
       "      <td>1</td>\n",
       "      <td>1</td>\n",
       "    </tr>\n",
       "  </tbody>\n",
       "</table>\n",
       "<p>8475 rows × 16 columns</p>\n",
       "</div>"
      ],
      "text/plain": [
       "           Date         Species  Trap   Latitude  Longitude  Block  \\\n",
       "1450 2007-08-16   CULEX PIPIENS  T115  41.673408 -87.599862    612   \n",
       "564  2007-07-25   CULEX PIPIENS  T115  41.673408 -87.599862    588   \n",
       "1897 2007-08-28   CULEX PIPIENS  T115  41.673408 -87.599862    540   \n",
       "1190 2007-08-08   CULEX PIPIENS  T138  41.726465 -87.585413    340   \n",
       "2032 2007-09-05   CULEX PIPIENS  T115  41.673408 -87.599862    396   \n",
       "...         ...             ...   ...        ...        ...    ...   \n",
       "3180 2009-06-19  CULEX RESTUANS  T138  41.726465 -87.585413     10   \n",
       "3184 2009-06-19  CULEX RESTUANS  T151  41.916265 -87.800515     70   \n",
       "3189 2009-06-19  CULEX RESTUANS  T200  41.678618 -87.559308     13   \n",
       "3190 2009-06-19  CULEX RESTUANS  T209  41.740641 -87.546587     13   \n",
       "0    2007-05-29   CULEX PIPIENS  T096  41.731922 -87.677512     22   \n",
       "\n",
       "                                                 Street  AddressAccuracy  \\\n",
       "1450   S DOTY AVE S DOTY AVE S DOTY AVE S DOTY AVE S...              255   \n",
       "564    S DOTY AVE S DOTY AVE S DOTY AVE S DOTY AVE S...              245   \n",
       "1897   S DOTY AVE S DOTY AVE S DOTY AVE S DOTY AVE S...              225   \n",
       "1190   S STONY ISLAND AVE S STONY ISLAND AVE S STONY...              170   \n",
       "2032   S DOTY AVE S DOTY AVE S DOTY AVE S DOTY AVE S...              165   \n",
       "...                                                 ...              ...   \n",
       "3180                                 S STONY ISLAND AVE                5   \n",
       "3184                                  W ARMITAGE AVENUE                8   \n",
       "3189                                     S TORRENCE AVE                5   \n",
       "3190                                          S BRANDON                5   \n",
       "0                                             W 89TH ST                8   \n",
       "\n",
       "      NumMosquitos  WnvPresent  Day  Month  Year  Week  DayOfWeek  Direction  \n",
       "1450          2532           1   16      8  2007    33          3          2  \n",
       "564           2356           1   25      7  2007    30          2          2  \n",
       "1897          2207           1   28      8  2007    35          1          2  \n",
       "1190          1658           1    8      8  2007    32          2          2  \n",
       "2032          1648           1    5      9  2007    36          2          2  \n",
       "...            ...         ...  ...    ...   ...   ...        ...        ...  \n",
       "3180             1           0   19      6  2009    25          4          2  \n",
       "3184             1           0   19      6  2009    25          4          1  \n",
       "3189             1           0   19      6  2009    25          4          2  \n",
       "3190             1           0   19      6  2009    25          4          2  \n",
       "0                1           0   29      5  2007    22          1          1  \n",
       "\n",
       "[8475 rows x 16 columns]"
      ]
     },
     "execution_count": 23,
     "metadata": {},
     "output_type": "execute_result"
    }
   ],
   "source": [
    "# Check that the sum of nummosquitos were done correctly\n",
    "train_df.sort_values('NumMosquitos', ascending=False)"
   ]
  },
  {
   "cell_type": "code",
   "execution_count": 24,
   "id": "a4f9241c-8d46-4386-a1b6-b5cf40b1dcc6",
   "metadata": {
    "tags": []
   },
   "outputs": [
    {
     "data": {
      "text/plain": [
       "(8475, 16)"
      ]
     },
     "execution_count": 24,
     "metadata": {},
     "output_type": "execute_result"
    }
   ],
   "source": [
    "# Check final shape of train_df\n",
    "train_df.shape"
   ]
  },
  {
   "cell_type": "code",
   "execution_count": 25,
   "id": "b2ac5c20-1ea8-4217-8d19-059875c05d0f",
   "metadata": {
    "tags": []
   },
   "outputs": [
    {
     "data": {
      "text/html": [
       "<div>\n",
       "<style scoped>\n",
       "    .dataframe tbody tr th:only-of-type {\n",
       "        vertical-align: middle;\n",
       "    }\n",
       "\n",
       "    .dataframe tbody tr th {\n",
       "        vertical-align: top;\n",
       "    }\n",
       "\n",
       "    .dataframe thead th {\n",
       "        text-align: right;\n",
       "    }\n",
       "</style>\n",
       "<table border=\"1\" class=\"dataframe\">\n",
       "  <thead>\n",
       "    <tr style=\"text-align: right;\">\n",
       "      <th></th>\n",
       "      <th>Date</th>\n",
       "      <th>Species</th>\n",
       "      <th>Trap</th>\n",
       "      <th>Latitude</th>\n",
       "      <th>Longitude</th>\n",
       "      <th>Block</th>\n",
       "      <th>Street</th>\n",
       "      <th>AddressAccuracy</th>\n",
       "      <th>NumMosquitos</th>\n",
       "      <th>WnvPresent</th>\n",
       "      <th>Day</th>\n",
       "      <th>Month</th>\n",
       "      <th>Year</th>\n",
       "      <th>Week</th>\n",
       "      <th>DayOfWeek</th>\n",
       "      <th>Direction</th>\n",
       "    </tr>\n",
       "  </thead>\n",
       "  <tbody>\n",
       "  </tbody>\n",
       "</table>\n",
       "</div>"
      ],
      "text/plain": [
       "Empty DataFrame\n",
       "Columns: [Date, Species, Trap, Latitude, Longitude, Block, Street, AddressAccuracy, NumMosquitos, WnvPresent, Day, Month, Year, Week, DayOfWeek, Direction]\n",
       "Index: []"
      ]
     },
     "execution_count": 25,
     "metadata": {},
     "output_type": "execute_result"
    }
   ],
   "source": [
    "# There are no more duplicated rows!\n",
    "train_df[train_df.duplicated()]"
   ]
  },
  {
   "cell_type": "code",
   "execution_count": 26,
   "id": "88974731-e965-49d4-b410-233173f75cc4",
   "metadata": {},
   "outputs": [
    {
     "data": {
      "text/plain": [
       "(116293, 15)"
      ]
     },
     "execution_count": 26,
     "metadata": {},
     "output_type": "execute_result"
    }
   ],
   "source": [
    "# Check final shape of test_df\n",
    "test_df.shape"
   ]
  },
  {
   "cell_type": "code",
   "execution_count": 27,
   "id": "c8698b15-5e3e-439f-8c6d-9fe2d50cad73",
   "metadata": {
    "tags": []
   },
   "outputs": [],
   "source": [
    "# Change all the column names to lowercase\n",
    "train_df.columns = train_df.columns.str.lower()\n",
    "test_df.columns = test_df.columns.str.lower()"
   ]
  },
  {
   "cell_type": "markdown",
   "id": "8474cdfc-86ed-40c3-bd57-a0224a81b9f9",
   "metadata": {},
   "source": [
    "#### Understanding Spray Dataset"
   ]
  },
  {
   "cell_type": "code",
   "execution_count": 28,
   "id": "56fc60c3-bd0b-47e6-995b-2c5dd50bf1b5",
   "metadata": {
    "tags": []
   },
   "outputs": [
    {
     "data": {
      "text/plain": [
       "(14835, 4)"
      ]
     },
     "execution_count": 28,
     "metadata": {},
     "output_type": "execute_result"
    }
   ],
   "source": [
    "spray_df.shape"
   ]
  },
  {
   "cell_type": "code",
   "execution_count": 29,
   "id": "682636f6-2581-48f9-baf5-e6c03df7e7fb",
   "metadata": {
    "tags": []
   },
   "outputs": [
    {
     "data": {
      "text/plain": [
       "(541, 4)"
      ]
     },
     "execution_count": 29,
     "metadata": {},
     "output_type": "execute_result"
    }
   ],
   "source": [
    "spray_df[spray_df.duplicated()].shape"
   ]
  },
  {
   "cell_type": "code",
   "execution_count": 30,
   "id": "90d7b8a7-b590-4efe-9c10-c5ae38f8d337",
   "metadata": {
    "tags": []
   },
   "outputs": [
    {
     "data": {
      "text/html": [
       "<div>\n",
       "<style scoped>\n",
       "    .dataframe tbody tr th:only-of-type {\n",
       "        vertical-align: middle;\n",
       "    }\n",
       "\n",
       "    .dataframe tbody tr th {\n",
       "        vertical-align: top;\n",
       "    }\n",
       "\n",
       "    .dataframe thead th {\n",
       "        text-align: right;\n",
       "    }\n",
       "</style>\n",
       "<table border=\"1\" class=\"dataframe\">\n",
       "  <thead>\n",
       "    <tr style=\"text-align: right;\">\n",
       "      <th></th>\n",
       "      <th>Date</th>\n",
       "      <th>Time</th>\n",
       "      <th>Latitude</th>\n",
       "      <th>Longitude</th>\n",
       "    </tr>\n",
       "  </thead>\n",
       "  <tbody>\n",
       "    <tr>\n",
       "      <th>0</th>\n",
       "      <td>2011-08-29</td>\n",
       "      <td>6:56:58 PM</td>\n",
       "      <td>42.391623</td>\n",
       "      <td>-88.089163</td>\n",
       "    </tr>\n",
       "    <tr>\n",
       "      <th>1</th>\n",
       "      <td>2011-08-29</td>\n",
       "      <td>6:57:08 PM</td>\n",
       "      <td>42.391348</td>\n",
       "      <td>-88.089163</td>\n",
       "    </tr>\n",
       "    <tr>\n",
       "      <th>2</th>\n",
       "      <td>2011-08-29</td>\n",
       "      <td>6:57:18 PM</td>\n",
       "      <td>42.391022</td>\n",
       "      <td>-88.089157</td>\n",
       "    </tr>\n",
       "    <tr>\n",
       "      <th>3</th>\n",
       "      <td>2011-08-29</td>\n",
       "      <td>6:57:28 PM</td>\n",
       "      <td>42.390637</td>\n",
       "      <td>-88.089158</td>\n",
       "    </tr>\n",
       "    <tr>\n",
       "      <th>4</th>\n",
       "      <td>2011-08-29</td>\n",
       "      <td>6:57:38 PM</td>\n",
       "      <td>42.390410</td>\n",
       "      <td>-88.088858</td>\n",
       "    </tr>\n",
       "  </tbody>\n",
       "</table>\n",
       "</div>"
      ],
      "text/plain": [
       "         Date        Time   Latitude  Longitude\n",
       "0  2011-08-29  6:56:58 PM  42.391623 -88.089163\n",
       "1  2011-08-29  6:57:08 PM  42.391348 -88.089163\n",
       "2  2011-08-29  6:57:18 PM  42.391022 -88.089157\n",
       "3  2011-08-29  6:57:28 PM  42.390637 -88.089158\n",
       "4  2011-08-29  6:57:38 PM  42.390410 -88.088858"
      ]
     },
     "execution_count": 30,
     "metadata": {},
     "output_type": "execute_result"
    }
   ],
   "source": [
    "spray_df.head()"
   ]
  },
  {
   "cell_type": "code",
   "execution_count": 31,
   "id": "16a52cb2-318f-4637-b313-9efedfa22e54",
   "metadata": {
    "tags": []
   },
   "outputs": [
    {
     "data": {
      "text/html": [
       "<div>\n",
       "<style scoped>\n",
       "    .dataframe tbody tr th:only-of-type {\n",
       "        vertical-align: middle;\n",
       "    }\n",
       "\n",
       "    .dataframe tbody tr th {\n",
       "        vertical-align: top;\n",
       "    }\n",
       "\n",
       "    .dataframe thead th {\n",
       "        text-align: right;\n",
       "    }\n",
       "</style>\n",
       "<table border=\"1\" class=\"dataframe\">\n",
       "  <thead>\n",
       "    <tr style=\"text-align: right;\">\n",
       "      <th></th>\n",
       "      <th>Latitude</th>\n",
       "      <th>Longitude</th>\n",
       "    </tr>\n",
       "  </thead>\n",
       "  <tbody>\n",
       "    <tr>\n",
       "      <th>count</th>\n",
       "      <td>14835.000000</td>\n",
       "      <td>14835.000000</td>\n",
       "    </tr>\n",
       "    <tr>\n",
       "      <th>mean</th>\n",
       "      <td>41.904828</td>\n",
       "      <td>-87.736690</td>\n",
       "    </tr>\n",
       "    <tr>\n",
       "      <th>std</th>\n",
       "      <td>0.104381</td>\n",
       "      <td>0.067292</td>\n",
       "    </tr>\n",
       "    <tr>\n",
       "      <th>min</th>\n",
       "      <td>41.713925</td>\n",
       "      <td>-88.096468</td>\n",
       "    </tr>\n",
       "    <tr>\n",
       "      <th>25%</th>\n",
       "      <td>41.785001</td>\n",
       "      <td>-87.794225</td>\n",
       "    </tr>\n",
       "    <tr>\n",
       "      <th>50%</th>\n",
       "      <td>41.940075</td>\n",
       "      <td>-87.727853</td>\n",
       "    </tr>\n",
       "    <tr>\n",
       "      <th>75%</th>\n",
       "      <td>41.980978</td>\n",
       "      <td>-87.694108</td>\n",
       "    </tr>\n",
       "    <tr>\n",
       "      <th>max</th>\n",
       "      <td>42.395983</td>\n",
       "      <td>-87.586727</td>\n",
       "    </tr>\n",
       "  </tbody>\n",
       "</table>\n",
       "</div>"
      ],
      "text/plain": [
       "           Latitude     Longitude\n",
       "count  14835.000000  14835.000000\n",
       "mean      41.904828    -87.736690\n",
       "std        0.104381      0.067292\n",
       "min       41.713925    -88.096468\n",
       "25%       41.785001    -87.794225\n",
       "50%       41.940075    -87.727853\n",
       "75%       41.980978    -87.694108\n",
       "max       42.395983    -87.586727"
      ]
     },
     "execution_count": 31,
     "metadata": {},
     "output_type": "execute_result"
    }
   ],
   "source": [
    "spray_df.describe()"
   ]
  },
  {
   "cell_type": "code",
   "execution_count": 32,
   "id": "c3f9178f-8d6c-4174-930e-1e4487c60db4",
   "metadata": {
    "tags": []
   },
   "outputs": [
    {
     "name": "stdout",
     "output_type": "stream",
     "text": [
      "<class 'pandas.core.frame.DataFrame'>\n",
      "RangeIndex: 14835 entries, 0 to 14834\n",
      "Data columns (total 4 columns):\n",
      " #   Column     Non-Null Count  Dtype  \n",
      "---  ------     --------------  -----  \n",
      " 0   Date       14835 non-null  object \n",
      " 1   Time       14251 non-null  object \n",
      " 2   Latitude   14835 non-null  float64\n",
      " 3   Longitude  14835 non-null  float64\n",
      "dtypes: float64(2), object(2)\n",
      "memory usage: 463.7+ KB\n"
     ]
    }
   ],
   "source": [
    "spray_df.info()"
   ]
  },
  {
   "cell_type": "code",
   "execution_count": 33,
   "id": "fbaa9630-fa0d-472c-8b2b-10d16fab0c64",
   "metadata": {
    "tags": []
   },
   "outputs": [
    {
     "data": {
      "text/plain": [
       "Date           0\n",
       "Time         584\n",
       "Latitude       0\n",
       "Longitude      0\n",
       "dtype: int64"
      ]
     },
     "execution_count": 33,
     "metadata": {},
     "output_type": "execute_result"
    }
   ],
   "source": [
    "spray_df.isnull().sum()"
   ]
  },
  {
   "cell_type": "markdown",
   "id": "c0a115d7-bd8d-4440-b770-5bd6f70ac818",
   "metadata": {},
   "source": [
    "<b>Actions to be taken on spray dataset</b>\n",
    "1. Create new date features e.g. day, month, year, week and day of week\n",
    "2. Drop null rows in 'Time' column since there isn't much variability in time"
   ]
  },
  {
   "cell_type": "code",
   "execution_count": 34,
   "id": "57e26b0c-5357-47ed-9dd4-63239630c736",
   "metadata": {
    "tags": []
   },
   "outputs": [],
   "source": [
    "# Drop the null rows in 'Time' column\n",
    "spray_df = spray_df.dropna(subset=['Time']).reset_index(drop=True)"
   ]
  },
  {
   "cell_type": "code",
   "execution_count": 35,
   "id": "67245131-dd2a-42af-946b-c9896cf735a1",
   "metadata": {
    "tags": []
   },
   "outputs": [
    {
     "data": {
      "text/html": [
       "<div>\n",
       "<style scoped>\n",
       "    .dataframe tbody tr th:only-of-type {\n",
       "        vertical-align: middle;\n",
       "    }\n",
       "\n",
       "    .dataframe tbody tr th {\n",
       "        vertical-align: top;\n",
       "    }\n",
       "\n",
       "    .dataframe thead th {\n",
       "        text-align: right;\n",
       "    }\n",
       "</style>\n",
       "<table border=\"1\" class=\"dataframe\">\n",
       "  <thead>\n",
       "    <tr style=\"text-align: right;\">\n",
       "      <th></th>\n",
       "      <th>Date</th>\n",
       "      <th>Time</th>\n",
       "      <th>Latitude</th>\n",
       "      <th>Longitude</th>\n",
       "      <th>Day</th>\n",
       "      <th>Month</th>\n",
       "      <th>Year</th>\n",
       "      <th>Week</th>\n",
       "      <th>DayOfWeek</th>\n",
       "    </tr>\n",
       "  </thead>\n",
       "  <tbody>\n",
       "    <tr>\n",
       "      <th>0</th>\n",
       "      <td>2011-08-29</td>\n",
       "      <td>6:56:58 PM</td>\n",
       "      <td>42.391623</td>\n",
       "      <td>-88.089163</td>\n",
       "      <td>29</td>\n",
       "      <td>8</td>\n",
       "      <td>2011</td>\n",
       "      <td>35</td>\n",
       "      <td>0</td>\n",
       "    </tr>\n",
       "    <tr>\n",
       "      <th>1</th>\n",
       "      <td>2011-08-29</td>\n",
       "      <td>6:57:08 PM</td>\n",
       "      <td>42.391348</td>\n",
       "      <td>-88.089163</td>\n",
       "      <td>29</td>\n",
       "      <td>8</td>\n",
       "      <td>2011</td>\n",
       "      <td>35</td>\n",
       "      <td>0</td>\n",
       "    </tr>\n",
       "    <tr>\n",
       "      <th>2</th>\n",
       "      <td>2011-08-29</td>\n",
       "      <td>6:57:18 PM</td>\n",
       "      <td>42.391022</td>\n",
       "      <td>-88.089157</td>\n",
       "      <td>29</td>\n",
       "      <td>8</td>\n",
       "      <td>2011</td>\n",
       "      <td>35</td>\n",
       "      <td>0</td>\n",
       "    </tr>\n",
       "    <tr>\n",
       "      <th>3</th>\n",
       "      <td>2011-08-29</td>\n",
       "      <td>6:57:28 PM</td>\n",
       "      <td>42.390637</td>\n",
       "      <td>-88.089158</td>\n",
       "      <td>29</td>\n",
       "      <td>8</td>\n",
       "      <td>2011</td>\n",
       "      <td>35</td>\n",
       "      <td>0</td>\n",
       "    </tr>\n",
       "    <tr>\n",
       "      <th>4</th>\n",
       "      <td>2011-08-29</td>\n",
       "      <td>6:57:38 PM</td>\n",
       "      <td>42.390410</td>\n",
       "      <td>-88.088858</td>\n",
       "      <td>29</td>\n",
       "      <td>8</td>\n",
       "      <td>2011</td>\n",
       "      <td>35</td>\n",
       "      <td>0</td>\n",
       "    </tr>\n",
       "  </tbody>\n",
       "</table>\n",
       "</div>"
      ],
      "text/plain": [
       "        Date        Time   Latitude  Longitude  Day  Month  Year  Week  \\\n",
       "0 2011-08-29  6:56:58 PM  42.391623 -88.089163   29      8  2011    35   \n",
       "1 2011-08-29  6:57:08 PM  42.391348 -88.089163   29      8  2011    35   \n",
       "2 2011-08-29  6:57:18 PM  42.391022 -88.089157   29      8  2011    35   \n",
       "3 2011-08-29  6:57:28 PM  42.390637 -88.089158   29      8  2011    35   \n",
       "4 2011-08-29  6:57:38 PM  42.390410 -88.088858   29      8  2011    35   \n",
       "\n",
       "   DayOfWeek  \n",
       "0          0  \n",
       "1          0  \n",
       "2          0  \n",
       "3          0  \n",
       "4          0  "
      ]
     },
     "execution_count": 35,
     "metadata": {},
     "output_type": "execute_result"
    }
   ],
   "source": [
    "spray_df = date_features(spray_df)\n",
    "spray_df.head()"
   ]
  },
  {
   "cell_type": "code",
   "execution_count": 36,
   "id": "873e8a80-fc33-4e24-8434-d7f42b3c1427",
   "metadata": {
    "tags": []
   },
   "outputs": [
    {
     "data": {
      "text/html": [
       "<div>\n",
       "<style scoped>\n",
       "    .dataframe tbody tr th:only-of-type {\n",
       "        vertical-align: middle;\n",
       "    }\n",
       "\n",
       "    .dataframe tbody tr th {\n",
       "        vertical-align: top;\n",
       "    }\n",
       "\n",
       "    .dataframe thead th {\n",
       "        text-align: right;\n",
       "    }\n",
       "</style>\n",
       "<table border=\"1\" class=\"dataframe\">\n",
       "  <thead>\n",
       "    <tr style=\"text-align: right;\">\n",
       "      <th></th>\n",
       "      <th>date</th>\n",
       "      <th>time</th>\n",
       "      <th>latitude</th>\n",
       "      <th>longitude</th>\n",
       "      <th>day</th>\n",
       "      <th>month</th>\n",
       "      <th>year</th>\n",
       "      <th>week</th>\n",
       "      <th>dayofweek</th>\n",
       "    </tr>\n",
       "  </thead>\n",
       "  <tbody>\n",
       "    <tr>\n",
       "      <th>0</th>\n",
       "      <td>2011-08-29</td>\n",
       "      <td>6:56:58 PM</td>\n",
       "      <td>42.391623</td>\n",
       "      <td>-88.089163</td>\n",
       "      <td>29</td>\n",
       "      <td>8</td>\n",
       "      <td>2011</td>\n",
       "      <td>35</td>\n",
       "      <td>0</td>\n",
       "    </tr>\n",
       "    <tr>\n",
       "      <th>1</th>\n",
       "      <td>2011-08-29</td>\n",
       "      <td>6:57:08 PM</td>\n",
       "      <td>42.391348</td>\n",
       "      <td>-88.089163</td>\n",
       "      <td>29</td>\n",
       "      <td>8</td>\n",
       "      <td>2011</td>\n",
       "      <td>35</td>\n",
       "      <td>0</td>\n",
       "    </tr>\n",
       "    <tr>\n",
       "      <th>2</th>\n",
       "      <td>2011-08-29</td>\n",
       "      <td>6:57:18 PM</td>\n",
       "      <td>42.391022</td>\n",
       "      <td>-88.089157</td>\n",
       "      <td>29</td>\n",
       "      <td>8</td>\n",
       "      <td>2011</td>\n",
       "      <td>35</td>\n",
       "      <td>0</td>\n",
       "    </tr>\n",
       "    <tr>\n",
       "      <th>3</th>\n",
       "      <td>2011-08-29</td>\n",
       "      <td>6:57:28 PM</td>\n",
       "      <td>42.390637</td>\n",
       "      <td>-88.089158</td>\n",
       "      <td>29</td>\n",
       "      <td>8</td>\n",
       "      <td>2011</td>\n",
       "      <td>35</td>\n",
       "      <td>0</td>\n",
       "    </tr>\n",
       "    <tr>\n",
       "      <th>4</th>\n",
       "      <td>2011-08-29</td>\n",
       "      <td>6:57:38 PM</td>\n",
       "      <td>42.390410</td>\n",
       "      <td>-88.088858</td>\n",
       "      <td>29</td>\n",
       "      <td>8</td>\n",
       "      <td>2011</td>\n",
       "      <td>35</td>\n",
       "      <td>0</td>\n",
       "    </tr>\n",
       "  </tbody>\n",
       "</table>\n",
       "</div>"
      ],
      "text/plain": [
       "        date        time   latitude  longitude  day  month  year  week  \\\n",
       "0 2011-08-29  6:56:58 PM  42.391623 -88.089163   29      8  2011    35   \n",
       "1 2011-08-29  6:57:08 PM  42.391348 -88.089163   29      8  2011    35   \n",
       "2 2011-08-29  6:57:18 PM  42.391022 -88.089157   29      8  2011    35   \n",
       "3 2011-08-29  6:57:28 PM  42.390637 -88.089158   29      8  2011    35   \n",
       "4 2011-08-29  6:57:38 PM  42.390410 -88.088858   29      8  2011    35   \n",
       "\n",
       "   dayofweek  \n",
       "0          0  \n",
       "1          0  \n",
       "2          0  \n",
       "3          0  \n",
       "4          0  "
      ]
     },
     "execution_count": 36,
     "metadata": {},
     "output_type": "execute_result"
    }
   ],
   "source": [
    "spray_df.columns = spray_df.columns.str.lower()\n",
    "spray_df.head()"
   ]
  },
  {
   "cell_type": "code",
   "execution_count": 37,
   "id": "22adf85b-1b5a-4a77-8453-f2870e2725ef",
   "metadata": {},
   "outputs": [
    {
     "data": {
      "text/plain": [
       "(14251, 9)"
      ]
     },
     "execution_count": 37,
     "metadata": {},
     "output_type": "execute_result"
    }
   ],
   "source": [
    "# Check final shape of spray_df\n",
    "spray_df.shape"
   ]
  },
  {
   "cell_type": "markdown",
   "id": "77718d78-d4d3-440a-a8b1-68c108701067",
   "metadata": {},
   "source": [
    "#### Understanding Weather Dataset"
   ]
  },
  {
   "cell_type": "code",
   "execution_count": 38,
   "id": "4b90f0b0-751b-4eb6-bbb8-4175c9272683",
   "metadata": {
    "tags": []
   },
   "outputs": [
    {
     "data": {
      "text/plain": [
       "(2944, 22)"
      ]
     },
     "execution_count": 38,
     "metadata": {},
     "output_type": "execute_result"
    }
   ],
   "source": [
    "weather_df.shape"
   ]
  },
  {
   "cell_type": "code",
   "execution_count": 39,
   "id": "4ae8edb3-a521-44c1-9f88-291cdbbffaae",
   "metadata": {
    "tags": []
   },
   "outputs": [
    {
     "data": {
      "text/plain": [
       "(0, 22)"
      ]
     },
     "execution_count": 39,
     "metadata": {},
     "output_type": "execute_result"
    }
   ],
   "source": [
    "weather_df[weather_df.duplicated()].shape"
   ]
  },
  {
   "cell_type": "code",
   "execution_count": 40,
   "id": "37f09a4a-9ce1-4aab-a979-e6dbfdddb6bf",
   "metadata": {
    "tags": []
   },
   "outputs": [
    {
     "data": {
      "text/html": [
       "<div>\n",
       "<style scoped>\n",
       "    .dataframe tbody tr th:only-of-type {\n",
       "        vertical-align: middle;\n",
       "    }\n",
       "\n",
       "    .dataframe tbody tr th {\n",
       "        vertical-align: top;\n",
       "    }\n",
       "\n",
       "    .dataframe thead th {\n",
       "        text-align: right;\n",
       "    }\n",
       "</style>\n",
       "<table border=\"1\" class=\"dataframe\">\n",
       "  <thead>\n",
       "    <tr style=\"text-align: right;\">\n",
       "      <th></th>\n",
       "      <th>Station</th>\n",
       "      <th>Date</th>\n",
       "      <th>Tmax</th>\n",
       "      <th>Tmin</th>\n",
       "      <th>Tavg</th>\n",
       "      <th>Depart</th>\n",
       "      <th>DewPoint</th>\n",
       "      <th>WetBulb</th>\n",
       "      <th>Heat</th>\n",
       "      <th>Cool</th>\n",
       "      <th>...</th>\n",
       "      <th>CodeSum</th>\n",
       "      <th>Depth</th>\n",
       "      <th>Water1</th>\n",
       "      <th>SnowFall</th>\n",
       "      <th>PrecipTotal</th>\n",
       "      <th>StnPressure</th>\n",
       "      <th>SeaLevel</th>\n",
       "      <th>ResultSpeed</th>\n",
       "      <th>ResultDir</th>\n",
       "      <th>AvgSpeed</th>\n",
       "    </tr>\n",
       "  </thead>\n",
       "  <tbody>\n",
       "    <tr>\n",
       "      <th>0</th>\n",
       "      <td>1</td>\n",
       "      <td>2007-05-01</td>\n",
       "      <td>83</td>\n",
       "      <td>50</td>\n",
       "      <td>67</td>\n",
       "      <td>14</td>\n",
       "      <td>51</td>\n",
       "      <td>56</td>\n",
       "      <td>0</td>\n",
       "      <td>2</td>\n",
       "      <td>...</td>\n",
       "      <td></td>\n",
       "      <td>0</td>\n",
       "      <td>M</td>\n",
       "      <td>0.0</td>\n",
       "      <td>0.00</td>\n",
       "      <td>29.10</td>\n",
       "      <td>29.82</td>\n",
       "      <td>1.7</td>\n",
       "      <td>27</td>\n",
       "      <td>9.2</td>\n",
       "    </tr>\n",
       "    <tr>\n",
       "      <th>1</th>\n",
       "      <td>2</td>\n",
       "      <td>2007-05-01</td>\n",
       "      <td>84</td>\n",
       "      <td>52</td>\n",
       "      <td>68</td>\n",
       "      <td>M</td>\n",
       "      <td>51</td>\n",
       "      <td>57</td>\n",
       "      <td>0</td>\n",
       "      <td>3</td>\n",
       "      <td>...</td>\n",
       "      <td></td>\n",
       "      <td>M</td>\n",
       "      <td>M</td>\n",
       "      <td>M</td>\n",
       "      <td>0.00</td>\n",
       "      <td>29.18</td>\n",
       "      <td>29.82</td>\n",
       "      <td>2.7</td>\n",
       "      <td>25</td>\n",
       "      <td>9.6</td>\n",
       "    </tr>\n",
       "    <tr>\n",
       "      <th>2</th>\n",
       "      <td>1</td>\n",
       "      <td>2007-05-02</td>\n",
       "      <td>59</td>\n",
       "      <td>42</td>\n",
       "      <td>51</td>\n",
       "      <td>-3</td>\n",
       "      <td>42</td>\n",
       "      <td>47</td>\n",
       "      <td>14</td>\n",
       "      <td>0</td>\n",
       "      <td>...</td>\n",
       "      <td>BR</td>\n",
       "      <td>0</td>\n",
       "      <td>M</td>\n",
       "      <td>0.0</td>\n",
       "      <td>0.00</td>\n",
       "      <td>29.38</td>\n",
       "      <td>30.09</td>\n",
       "      <td>13.0</td>\n",
       "      <td>4</td>\n",
       "      <td>13.4</td>\n",
       "    </tr>\n",
       "    <tr>\n",
       "      <th>3</th>\n",
       "      <td>2</td>\n",
       "      <td>2007-05-02</td>\n",
       "      <td>60</td>\n",
       "      <td>43</td>\n",
       "      <td>52</td>\n",
       "      <td>M</td>\n",
       "      <td>42</td>\n",
       "      <td>47</td>\n",
       "      <td>13</td>\n",
       "      <td>0</td>\n",
       "      <td>...</td>\n",
       "      <td>BR HZ</td>\n",
       "      <td>M</td>\n",
       "      <td>M</td>\n",
       "      <td>M</td>\n",
       "      <td>0.00</td>\n",
       "      <td>29.44</td>\n",
       "      <td>30.08</td>\n",
       "      <td>13.3</td>\n",
       "      <td>2</td>\n",
       "      <td>13.4</td>\n",
       "    </tr>\n",
       "    <tr>\n",
       "      <th>4</th>\n",
       "      <td>1</td>\n",
       "      <td>2007-05-03</td>\n",
       "      <td>66</td>\n",
       "      <td>46</td>\n",
       "      <td>56</td>\n",
       "      <td>2</td>\n",
       "      <td>40</td>\n",
       "      <td>48</td>\n",
       "      <td>9</td>\n",
       "      <td>0</td>\n",
       "      <td>...</td>\n",
       "      <td></td>\n",
       "      <td>0</td>\n",
       "      <td>M</td>\n",
       "      <td>0.0</td>\n",
       "      <td>0.00</td>\n",
       "      <td>29.39</td>\n",
       "      <td>30.12</td>\n",
       "      <td>11.7</td>\n",
       "      <td>7</td>\n",
       "      <td>11.9</td>\n",
       "    </tr>\n",
       "  </tbody>\n",
       "</table>\n",
       "<p>5 rows × 22 columns</p>\n",
       "</div>"
      ],
      "text/plain": [
       "   Station        Date  Tmax  Tmin Tavg Depart  DewPoint WetBulb Heat Cool  \\\n",
       "0        1  2007-05-01    83    50   67     14        51      56    0    2   \n",
       "1        2  2007-05-01    84    52   68      M        51      57    0    3   \n",
       "2        1  2007-05-02    59    42   51     -3        42      47   14    0   \n",
       "3        2  2007-05-02    60    43   52      M        42      47   13    0   \n",
       "4        1  2007-05-03    66    46   56      2        40      48    9    0   \n",
       "\n",
       "   ... CodeSum Depth Water1 SnowFall PrecipTotal StnPressure SeaLevel  \\\n",
       "0  ...             0      M      0.0        0.00       29.10    29.82   \n",
       "1  ...             M      M        M        0.00       29.18    29.82   \n",
       "2  ...      BR     0      M      0.0        0.00       29.38    30.09   \n",
       "3  ...   BR HZ     M      M        M        0.00       29.44    30.08   \n",
       "4  ...             0      M      0.0        0.00       29.39    30.12   \n",
       "\n",
       "  ResultSpeed ResultDir  AvgSpeed  \n",
       "0         1.7        27       9.2  \n",
       "1         2.7        25       9.6  \n",
       "2        13.0         4      13.4  \n",
       "3        13.3         2      13.4  \n",
       "4        11.7         7      11.9  \n",
       "\n",
       "[5 rows x 22 columns]"
      ]
     },
     "execution_count": 40,
     "metadata": {},
     "output_type": "execute_result"
    }
   ],
   "source": [
    "weather_df.head()"
   ]
  },
  {
   "cell_type": "code",
   "execution_count": 41,
   "id": "aa853063-0bc0-4033-ad33-e4056adf4789",
   "metadata": {
    "tags": []
   },
   "outputs": [
    {
     "data": {
      "text/html": [
       "<div>\n",
       "<style scoped>\n",
       "    .dataframe tbody tr th:only-of-type {\n",
       "        vertical-align: middle;\n",
       "    }\n",
       "\n",
       "    .dataframe tbody tr th {\n",
       "        vertical-align: top;\n",
       "    }\n",
       "\n",
       "    .dataframe thead th {\n",
       "        text-align: right;\n",
       "    }\n",
       "</style>\n",
       "<table border=\"1\" class=\"dataframe\">\n",
       "  <thead>\n",
       "    <tr style=\"text-align: right;\">\n",
       "      <th></th>\n",
       "      <th>Station</th>\n",
       "      <th>ResultSpeed</th>\n",
       "      <th>ResultDir</th>\n",
       "      <th>Tmin</th>\n",
       "      <th>DewPoint</th>\n",
       "      <th>Tmax</th>\n",
       "    </tr>\n",
       "  </thead>\n",
       "  <tbody>\n",
       "    <tr>\n",
       "      <th>count</th>\n",
       "      <td>2944.000000</td>\n",
       "      <td>2944.000000</td>\n",
       "      <td>2944.000000</td>\n",
       "      <td>2944.000000</td>\n",
       "      <td>2944.000000</td>\n",
       "      <td>2944.000000</td>\n",
       "    </tr>\n",
       "    <tr>\n",
       "      <th>mean</th>\n",
       "      <td>1.500000</td>\n",
       "      <td>6.960666</td>\n",
       "      <td>17.494905</td>\n",
       "      <td>57.810462</td>\n",
       "      <td>53.457880</td>\n",
       "      <td>76.166101</td>\n",
       "    </tr>\n",
       "    <tr>\n",
       "      <th>std</th>\n",
       "      <td>0.500085</td>\n",
       "      <td>3.587527</td>\n",
       "      <td>10.063609</td>\n",
       "      <td>10.381939</td>\n",
       "      <td>10.675181</td>\n",
       "      <td>11.461970</td>\n",
       "    </tr>\n",
       "    <tr>\n",
       "      <th>min</th>\n",
       "      <td>1.000000</td>\n",
       "      <td>0.100000</td>\n",
       "      <td>1.000000</td>\n",
       "      <td>29.000000</td>\n",
       "      <td>22.000000</td>\n",
       "      <td>41.000000</td>\n",
       "    </tr>\n",
       "    <tr>\n",
       "      <th>25%</th>\n",
       "      <td>1.000000</td>\n",
       "      <td>4.300000</td>\n",
       "      <td>7.000000</td>\n",
       "      <td>50.000000</td>\n",
       "      <td>46.000000</td>\n",
       "      <td>69.000000</td>\n",
       "    </tr>\n",
       "    <tr>\n",
       "      <th>50%</th>\n",
       "      <td>1.500000</td>\n",
       "      <td>6.400000</td>\n",
       "      <td>19.000000</td>\n",
       "      <td>59.000000</td>\n",
       "      <td>54.000000</td>\n",
       "      <td>78.000000</td>\n",
       "    </tr>\n",
       "    <tr>\n",
       "      <th>75%</th>\n",
       "      <td>2.000000</td>\n",
       "      <td>9.200000</td>\n",
       "      <td>25.000000</td>\n",
       "      <td>66.000000</td>\n",
       "      <td>62.000000</td>\n",
       "      <td>85.000000</td>\n",
       "    </tr>\n",
       "    <tr>\n",
       "      <th>max</th>\n",
       "      <td>2.000000</td>\n",
       "      <td>24.100000</td>\n",
       "      <td>36.000000</td>\n",
       "      <td>83.000000</td>\n",
       "      <td>75.000000</td>\n",
       "      <td>104.000000</td>\n",
       "    </tr>\n",
       "  </tbody>\n",
       "</table>\n",
       "</div>"
      ],
      "text/plain": [
       "           Station  ResultSpeed    ResultDir         Tmin     DewPoint  \\\n",
       "count  2944.000000  2944.000000  2944.000000  2944.000000  2944.000000   \n",
       "mean      1.500000     6.960666    17.494905    57.810462    53.457880   \n",
       "std       0.500085     3.587527    10.063609    10.381939    10.675181   \n",
       "min       1.000000     0.100000     1.000000    29.000000    22.000000   \n",
       "25%       1.000000     4.300000     7.000000    50.000000    46.000000   \n",
       "50%       1.500000     6.400000    19.000000    59.000000    54.000000   \n",
       "75%       2.000000     9.200000    25.000000    66.000000    62.000000   \n",
       "max       2.000000    24.100000    36.000000    83.000000    75.000000   \n",
       "\n",
       "              Tmax  \n",
       "count  2944.000000  \n",
       "mean     76.166101  \n",
       "std      11.461970  \n",
       "min      41.000000  \n",
       "25%      69.000000  \n",
       "50%      78.000000  \n",
       "75%      85.000000  \n",
       "max     104.000000  "
      ]
     },
     "execution_count": 41,
     "metadata": {},
     "output_type": "execute_result"
    }
   ],
   "source": [
    "weather_df.describe().sort_values('std',axis=1)"
   ]
  },
  {
   "cell_type": "code",
   "execution_count": 42,
   "id": "ae01d667-5f46-45a0-942f-83cf6b290f20",
   "metadata": {
    "tags": []
   },
   "outputs": [
    {
     "name": "stdout",
     "output_type": "stream",
     "text": [
      "<class 'pandas.core.frame.DataFrame'>\n",
      "RangeIndex: 2944 entries, 0 to 2943\n",
      "Data columns (total 22 columns):\n",
      " #   Column       Non-Null Count  Dtype  \n",
      "---  ------       --------------  -----  \n",
      " 0   Station      2944 non-null   int64  \n",
      " 1   Date         2944 non-null   object \n",
      " 2   Tmax         2944 non-null   int64  \n",
      " 3   Tmin         2944 non-null   int64  \n",
      " 4   Tavg         2944 non-null   object \n",
      " 5   Depart       2944 non-null   object \n",
      " 6   DewPoint     2944 non-null   int64  \n",
      " 7   WetBulb      2944 non-null   object \n",
      " 8   Heat         2944 non-null   object \n",
      " 9   Cool         2944 non-null   object \n",
      " 10  Sunrise      2944 non-null   object \n",
      " 11  Sunset       2944 non-null   object \n",
      " 12  CodeSum      2944 non-null   object \n",
      " 13  Depth        2944 non-null   object \n",
      " 14  Water1       2944 non-null   object \n",
      " 15  SnowFall     2944 non-null   object \n",
      " 16  PrecipTotal  2944 non-null   object \n",
      " 17  StnPressure  2944 non-null   object \n",
      " 18  SeaLevel     2944 non-null   object \n",
      " 19  ResultSpeed  2944 non-null   float64\n",
      " 20  ResultDir    2944 non-null   int64  \n",
      " 21  AvgSpeed     2944 non-null   object \n",
      "dtypes: float64(1), int64(5), object(16)\n",
      "memory usage: 506.1+ KB\n"
     ]
    }
   ],
   "source": [
    "weather_df.info()"
   ]
  },
  {
   "cell_type": "code",
   "execution_count": 43,
   "id": "540c82a9-613c-42bb-8a1c-fb7fe4ea6535",
   "metadata": {
    "tags": []
   },
   "outputs": [
    {
     "data": {
      "text/plain": [
       "Station        0\n",
       "Date           0\n",
       "Tmax           0\n",
       "Tmin           0\n",
       "Tavg           0\n",
       "Depart         0\n",
       "DewPoint       0\n",
       "WetBulb        0\n",
       "Heat           0\n",
       "Cool           0\n",
       "Sunrise        0\n",
       "Sunset         0\n",
       "CodeSum        0\n",
       "Depth          0\n",
       "Water1         0\n",
       "SnowFall       0\n",
       "PrecipTotal    0\n",
       "StnPressure    0\n",
       "SeaLevel       0\n",
       "ResultSpeed    0\n",
       "ResultDir      0\n",
       "AvgSpeed       0\n",
       "dtype: int64"
      ]
     },
     "execution_count": 43,
     "metadata": {},
     "output_type": "execute_result"
    }
   ],
   "source": [
    "# There does not seem to be any null values.\n",
    "weather_df.isnull().sum()"
   ]
  },
  {
   "cell_type": "code",
   "execution_count": 44,
   "id": "91965315-25b2-4483-9a61-e5b6d55d8e2a",
   "metadata": {
    "tags": []
   },
   "outputs": [],
   "source": [
    "# Calculate percentage of required char in affected columns\n",
    "def missing(char):\n",
    "    vals = (weather_df == char).sum()\n",
    "    return 100*vals[vals > 0]/len(weather_df)"
   ]
  },
  {
   "cell_type": "code",
   "execution_count": 45,
   "id": "a568435b-a385-4e7a-814e-7b5b0b74c2f6",
   "metadata": {
    "tags": []
   },
   "outputs": [
    {
     "data": {
      "text/plain": [
       "CodeSum    54.653533\n",
       "dtype: float64"
      ]
     },
     "execution_count": 45,
     "metadata": {},
     "output_type": "execute_result"
    }
   ],
   "source": [
    "# There are empty strings.\n",
    "missing(' ')"
   ]
  },
  {
   "cell_type": "code",
   "execution_count": 46,
   "id": "899cf0b8-947e-414e-bb62-528998b0ba4c",
   "metadata": {
    "tags": []
   },
   "outputs": [
    {
     "data": {
      "text/plain": [
       "Sunrise    50.0\n",
       "Sunset     50.0\n",
       "dtype: float64"
      ]
     },
     "execution_count": 46,
     "metadata": {},
     "output_type": "execute_result"
    }
   ],
   "source": [
    "# There are also '-' values as cited in the documentation.\n",
    "missing('-')"
   ]
  },
  {
   "cell_type": "code",
   "execution_count": 47,
   "id": "cd5dcde0-a539-4b16-848e-c93218090683",
   "metadata": {
    "tags": []
   },
   "outputs": [
    {
     "data": {
      "text/plain": [
       "Tavg             0.373641\n",
       "Depart          50.000000\n",
       "WetBulb          0.135870\n",
       "Heat             0.373641\n",
       "Cool             0.373641\n",
       "Depth           50.000000\n",
       "Water1         100.000000\n",
       "SnowFall        50.000000\n",
       "PrecipTotal      0.067935\n",
       "StnPressure      0.135870\n",
       "SeaLevel         0.305707\n",
       "AvgSpeed         0.101902\n",
       "dtype: float64"
      ]
     },
     "execution_count": 47,
     "metadata": {},
     "output_type": "execute_result"
    }
   ],
   "source": [
    "# There are also 'M' values as cited in the documentation.\n",
    "missing('M')"
   ]
  },
  {
   "cell_type": "code",
   "execution_count": 48,
   "id": "f65b4d3b-a8a6-4568-b01a-469c00eea75a",
   "metadata": {
    "tags": []
   },
   "outputs": [
    {
     "data": {
      "text/plain": [
       "SnowFall        0.407609\n",
       "PrecipTotal    10.801630\n",
       "dtype: float64"
      ]
     },
     "execution_count": 48,
     "metadata": {},
     "output_type": "execute_result"
    }
   ],
   "source": [
    "# There are also 'T' values as cited in the documentation.\n",
    "missing('  T')"
   ]
  },
  {
   "cell_type": "code",
   "execution_count": 49,
   "id": "0285ea4a-039c-45d0-9167-d580b38560fc",
   "metadata": {
    "tags": []
   },
   "outputs": [
    {
     "data": {
      "text/plain": [
       "PrecipTotal\n",
       "0.00    1577\n",
       "  T      318\n",
       "0.01     127\n",
       "0.02      63\n",
       "0.03      46\n",
       "        ... \n",
       "3.64       1\n",
       "4.73       1\n",
       "1.60       1\n",
       "2.24       1\n",
       "1.18       1\n",
       "Name: count, Length: 168, dtype: int64"
      ]
     },
     "execution_count": 49,
     "metadata": {},
     "output_type": "execute_result"
    }
   ],
   "source": [
    "# Check out what values PrecipTotal has\n",
    "weather_df['PrecipTotal'].value_counts()"
   ]
  },
  {
   "cell_type": "code",
   "execution_count": 50,
   "id": "9523b3e6-f21f-4e7e-a09e-ac31b0d09c55",
   "metadata": {
    "tags": []
   },
   "outputs": [
    {
     "data": {
      "text/plain": [
       "Station  Sunrise  Sunset\n",
       "2        -        -         1472\n",
       "Name: count, dtype: int64"
      ]
     },
     "execution_count": 50,
     "metadata": {},
     "output_type": "execute_result"
    }
   ],
   "source": [
    "# All '-' values come from Station 2\n",
    "weather_df[weather_df['Station']==2][['Station','Sunrise','Sunset']].value_counts()"
   ]
  },
  {
   "cell_type": "code",
   "execution_count": 51,
   "id": "b21bf9b8-16df-485c-b6b8-72acfcd5726a",
   "metadata": {
    "tags": []
   },
   "outputs": [
    {
     "data": {
      "text/html": [
       "<div>\n",
       "<style scoped>\n",
       "    .dataframe tbody tr th:only-of-type {\n",
       "        vertical-align: middle;\n",
       "    }\n",
       "\n",
       "    .dataframe tbody tr th {\n",
       "        vertical-align: top;\n",
       "    }\n",
       "\n",
       "    .dataframe thead th {\n",
       "        text-align: right;\n",
       "    }\n",
       "</style>\n",
       "<table border=\"1\" class=\"dataframe\">\n",
       "  <thead>\n",
       "    <tr style=\"text-align: right;\">\n",
       "      <th></th>\n",
       "      <th>Tavg</th>\n",
       "      <th>Tmin</th>\n",
       "      <th>Tmax</th>\n",
       "    </tr>\n",
       "  </thead>\n",
       "  <tbody>\n",
       "    <tr>\n",
       "      <th>7</th>\n",
       "      <td>M</td>\n",
       "      <td>51</td>\n",
       "      <td>78</td>\n",
       "    </tr>\n",
       "    <tr>\n",
       "      <th>505</th>\n",
       "      <td>M</td>\n",
       "      <td>46</td>\n",
       "      <td>86</td>\n",
       "    </tr>\n",
       "    <tr>\n",
       "      <th>675</th>\n",
       "      <td>M</td>\n",
       "      <td>46</td>\n",
       "      <td>62</td>\n",
       "    </tr>\n",
       "    <tr>\n",
       "      <th>1637</th>\n",
       "      <td>M</td>\n",
       "      <td>71</td>\n",
       "      <td>100</td>\n",
       "    </tr>\n",
       "    <tr>\n",
       "      <th>2067</th>\n",
       "      <td>M</td>\n",
       "      <td>72</td>\n",
       "      <td>84</td>\n",
       "    </tr>\n",
       "    <tr>\n",
       "      <th>2211</th>\n",
       "      <td>M</td>\n",
       "      <td>42</td>\n",
       "      <td>71</td>\n",
       "    </tr>\n",
       "    <tr>\n",
       "      <th>2501</th>\n",
       "      <td>M</td>\n",
       "      <td>52</td>\n",
       "      <td>91</td>\n",
       "    </tr>\n",
       "    <tr>\n",
       "      <th>2511</th>\n",
       "      <td>M</td>\n",
       "      <td>53</td>\n",
       "      <td>84</td>\n",
       "    </tr>\n",
       "    <tr>\n",
       "      <th>2525</th>\n",
       "      <td>M</td>\n",
       "      <td>48</td>\n",
       "      <td>76</td>\n",
       "    </tr>\n",
       "    <tr>\n",
       "      <th>2579</th>\n",
       "      <td>M</td>\n",
       "      <td>47</td>\n",
       "      <td>80</td>\n",
       "    </tr>\n",
       "    <tr>\n",
       "      <th>2811</th>\n",
       "      <td>M</td>\n",
       "      <td>49</td>\n",
       "      <td>86</td>\n",
       "    </tr>\n",
       "  </tbody>\n",
       "</table>\n",
       "</div>"
      ],
      "text/plain": [
       "     Tavg  Tmin  Tmax\n",
       "7       M    51    78\n",
       "505     M    46    86\n",
       "675     M    46    62\n",
       "1637    M    71   100\n",
       "2067    M    72    84\n",
       "2211    M    42    71\n",
       "2501    M    52    91\n",
       "2511    M    53    84\n",
       "2525    M    48    76\n",
       "2579    M    47    80\n",
       "2811    M    49    86"
      ]
     },
     "execution_count": 51,
     "metadata": {},
     "output_type": "execute_result"
    }
   ],
   "source": [
    "weather_df[weather_df['Tavg']=='M'][['Tavg','Tmin','Tmax']]"
   ]
  },
  {
   "cell_type": "code",
   "execution_count": 52,
   "id": "6488d948-be68-411d-8a4e-dcdbbb46f655",
   "metadata": {
    "tags": []
   },
   "outputs": [
    {
     "data": {
      "text/html": [
       "<div>\n",
       "<style scoped>\n",
       "    .dataframe tbody tr th:only-of-type {\n",
       "        vertical-align: middle;\n",
       "    }\n",
       "\n",
       "    .dataframe tbody tr th {\n",
       "        vertical-align: top;\n",
       "    }\n",
       "\n",
       "    .dataframe thead th {\n",
       "        text-align: right;\n",
       "    }\n",
       "</style>\n",
       "<table border=\"1\" class=\"dataframe\">\n",
       "  <thead>\n",
       "    <tr style=\"text-align: right;\">\n",
       "      <th></th>\n",
       "      <th>Tavg</th>\n",
       "      <th>Tmin</th>\n",
       "      <th>Tmax</th>\n",
       "    </tr>\n",
       "  </thead>\n",
       "  <tbody>\n",
       "    <tr>\n",
       "      <th>0</th>\n",
       "      <td>67</td>\n",
       "      <td>50</td>\n",
       "      <td>83</td>\n",
       "    </tr>\n",
       "    <tr>\n",
       "      <th>1</th>\n",
       "      <td>68</td>\n",
       "      <td>52</td>\n",
       "      <td>84</td>\n",
       "    </tr>\n",
       "    <tr>\n",
       "      <th>2</th>\n",
       "      <td>51</td>\n",
       "      <td>42</td>\n",
       "      <td>59</td>\n",
       "    </tr>\n",
       "    <tr>\n",
       "      <th>3</th>\n",
       "      <td>52</td>\n",
       "      <td>43</td>\n",
       "      <td>60</td>\n",
       "    </tr>\n",
       "    <tr>\n",
       "      <th>4</th>\n",
       "      <td>56</td>\n",
       "      <td>46</td>\n",
       "      <td>66</td>\n",
       "    </tr>\n",
       "    <tr>\n",
       "      <th>...</th>\n",
       "      <td>...</td>\n",
       "      <td>...</td>\n",
       "      <td>...</td>\n",
       "    </tr>\n",
       "    <tr>\n",
       "      <th>2939</th>\n",
       "      <td>45</td>\n",
       "      <td>40</td>\n",
       "      <td>49</td>\n",
       "    </tr>\n",
       "    <tr>\n",
       "      <th>2940</th>\n",
       "      <td>42</td>\n",
       "      <td>32</td>\n",
       "      <td>51</td>\n",
       "    </tr>\n",
       "    <tr>\n",
       "      <th>2941</th>\n",
       "      <td>45</td>\n",
       "      <td>37</td>\n",
       "      <td>53</td>\n",
       "    </tr>\n",
       "    <tr>\n",
       "      <th>2942</th>\n",
       "      <td>40</td>\n",
       "      <td>33</td>\n",
       "      <td>47</td>\n",
       "    </tr>\n",
       "    <tr>\n",
       "      <th>2943</th>\n",
       "      <td>42</td>\n",
       "      <td>34</td>\n",
       "      <td>49</td>\n",
       "    </tr>\n",
       "  </tbody>\n",
       "</table>\n",
       "<p>2944 rows × 3 columns</p>\n",
       "</div>"
      ],
      "text/plain": [
       "     Tavg  Tmin  Tmax\n",
       "0      67    50    83\n",
       "1      68    52    84\n",
       "2      51    42    59\n",
       "3      52    43    60\n",
       "4      56    46    66\n",
       "...   ...   ...   ...\n",
       "2939   45    40    49\n",
       "2940   42    32    51\n",
       "2941   45    37    53\n",
       "2942   40    33    47\n",
       "2943   42    34    49\n",
       "\n",
       "[2944 rows x 3 columns]"
      ]
     },
     "execution_count": 52,
     "metadata": {},
     "output_type": "execute_result"
    }
   ],
   "source": [
    "weather_df[['Tavg','Tmin','Tmax']]"
   ]
  },
  {
   "cell_type": "code",
   "execution_count": 53,
   "id": "f17a411f-bc3b-414e-9433-4003cc2ff801",
   "metadata": {
    "tags": []
   },
   "outputs": [
    {
     "data": {
      "text/plain": [
       "0       66.5\n",
       "1       68.0\n",
       "2       50.5\n",
       "3       51.5\n",
       "4       56.0\n",
       "        ... \n",
       "2939    44.5\n",
       "2940    41.5\n",
       "2941    45.0\n",
       "2942    40.0\n",
       "2943    41.5\n",
       "Length: 2944, dtype: float64"
      ]
     },
     "execution_count": 53,
     "metadata": {},
     "output_type": "execute_result"
    }
   ],
   "source": [
    "# Calculate the average temperature from Tmin and Tmax\n",
    "# Trend is to round up the value\n",
    "# We can use the same technique to impute the missing values in Tavg\n",
    "0.5 * weather_df['Tmin'] + 0.5 * weather_df['Tmax']"
   ]
  },
  {
   "cell_type": "markdown",
   "id": "9a02dbc8-c8e4-4a48-870a-9652dc237609",
   "metadata": {
    "tags": []
   },
   "source": [
    "<b>Actions to be taken on weather dataset</b>\n",
    "1. Extract day, month, year, day of the week after converting 'Date' to datetime object.\n",
    "2. Replace 'M' values in 'Tavg' column using the average from 'Tmin' and 'Tmax' and rounding it up.\n",
    "3. Using forward fill to replace 'M' values in 'WetBulb', 'Heat, 'Cool', 'PrecipTotal', 'StnPressure', 'SeaLevel' and 'AvgSpeed' columns to maintain temporal consistency in the weather data.\n",
    "4. For 'PrecipTotal', convert to boolean values, either 'Y' or 'N' for presence of precipitation.\n",
    "5. Drop columns 'CodeSum', 'Depart', 'SnowFall', 'Water1' and 'Depth' as there are more than 30% missing values.\n",
    "6. Impute 'Sunrise' and 'Sunset' missing values in Station 2 using forward fill."
   ]
  },
  {
   "cell_type": "code",
   "execution_count": 54,
   "id": "30fc9866-9315-4821-850b-8ffa696af0b8",
   "metadata": {
    "tags": []
   },
   "outputs": [],
   "source": [
    "# Drop the columns where there are more than 30% missing values\n",
    "drop_list = ['CodeSum','Depart','SnowFall','Water1','Depth']\n",
    "weather_df.drop(columns=drop_list, inplace=True)"
   ]
  },
  {
   "cell_type": "code",
   "execution_count": 55,
   "id": "adbf7609-aa27-46e1-8562-4b7219f5424e",
   "metadata": {},
   "outputs": [],
   "source": [
    "# Perform imputation\n",
    "\n",
    "weather_df['Sunrise'].replace('-', np.nan, inplace=True)\n",
    "weather_df['Sunset'].replace('-', np.nan, inplace=True)\n",
    "weather_df['Sunrise'] = weather_df['Sunrise'].fillna(method='ffill')\n",
    "weather_df['Sunset'] = weather_df['Sunset'].fillna(method='ffill')\n",
    "\n",
    "weather_df['PrecipBool'] = weather_df['PrecipTotal'].apply(lambda x: 'N' if x=='0.00' else 'Y')\n",
    "weather_df['PrecipTotal'] = weather_df['PrecipTotal'].apply(lambda x: 0.00 if str(x).strip()=='T' or pd.isnull(x) else x)\n",
    "weather_df['PrecipBool'] = weather_df['PrecipBool'].apply(lambda x: 1 if x=='Y' else 0)\n",
    "\n",
    "# Replace 'M' values with calculated rounded up average\n",
    "weather_df.loc[weather_df['Tavg'] == 'M', 'Tavg'] = ((weather_df['Tmax'] + weather_df['Tmin']) / 2).round().astype(int)\n",
    "\n",
    "# Replace other 'M' values with Nan then use forward fill\n",
    "weather_df = weather_df.replace('M', np.nan).fillna(method='ffill')"
   ]
  },
  {
   "cell_type": "code",
   "execution_count": 56,
   "id": "72e374bb-abb8-43aa-88c9-0bb8f9976ed1",
   "metadata": {},
   "outputs": [
    {
     "data": {
      "text/html": [
       "<div>\n",
       "<style scoped>\n",
       "    .dataframe tbody tr th:only-of-type {\n",
       "        vertical-align: middle;\n",
       "    }\n",
       "\n",
       "    .dataframe tbody tr th {\n",
       "        vertical-align: top;\n",
       "    }\n",
       "\n",
       "    .dataframe thead th {\n",
       "        text-align: right;\n",
       "    }\n",
       "</style>\n",
       "<table border=\"1\" class=\"dataframe\">\n",
       "  <thead>\n",
       "    <tr style=\"text-align: right;\">\n",
       "      <th></th>\n",
       "      <th>Station</th>\n",
       "      <th>Sunrise</th>\n",
       "      <th>Sunset</th>\n",
       "    </tr>\n",
       "  </thead>\n",
       "  <tbody>\n",
       "    <tr>\n",
       "      <th>0</th>\n",
       "      <td>1</td>\n",
       "      <td>0448</td>\n",
       "      <td>1849</td>\n",
       "    </tr>\n",
       "    <tr>\n",
       "      <th>1</th>\n",
       "      <td>2</td>\n",
       "      <td>0448</td>\n",
       "      <td>1849</td>\n",
       "    </tr>\n",
       "    <tr>\n",
       "      <th>2</th>\n",
       "      <td>1</td>\n",
       "      <td>0447</td>\n",
       "      <td>1850</td>\n",
       "    </tr>\n",
       "    <tr>\n",
       "      <th>3</th>\n",
       "      <td>2</td>\n",
       "      <td>0447</td>\n",
       "      <td>1850</td>\n",
       "    </tr>\n",
       "    <tr>\n",
       "      <th>4</th>\n",
       "      <td>1</td>\n",
       "      <td>0446</td>\n",
       "      <td>1851</td>\n",
       "    </tr>\n",
       "    <tr>\n",
       "      <th>...</th>\n",
       "      <td>...</td>\n",
       "      <td>...</td>\n",
       "      <td>...</td>\n",
       "    </tr>\n",
       "    <tr>\n",
       "      <th>2939</th>\n",
       "      <td>2</td>\n",
       "      <td>0620</td>\n",
       "      <td>1650</td>\n",
       "    </tr>\n",
       "    <tr>\n",
       "      <th>2940</th>\n",
       "      <td>1</td>\n",
       "      <td>0622</td>\n",
       "      <td>1649</td>\n",
       "    </tr>\n",
       "    <tr>\n",
       "      <th>2941</th>\n",
       "      <td>2</td>\n",
       "      <td>0622</td>\n",
       "      <td>1649</td>\n",
       "    </tr>\n",
       "    <tr>\n",
       "      <th>2942</th>\n",
       "      <td>1</td>\n",
       "      <td>0623</td>\n",
       "      <td>1647</td>\n",
       "    </tr>\n",
       "    <tr>\n",
       "      <th>2943</th>\n",
       "      <td>2</td>\n",
       "      <td>0623</td>\n",
       "      <td>1647</td>\n",
       "    </tr>\n",
       "  </tbody>\n",
       "</table>\n",
       "<p>2944 rows × 3 columns</p>\n",
       "</div>"
      ],
      "text/plain": [
       "      Station Sunrise Sunset\n",
       "0           1    0448   1849\n",
       "1           2    0448   1849\n",
       "2           1    0447   1850\n",
       "3           2    0447   1850\n",
       "4           1    0446   1851\n",
       "...       ...     ...    ...\n",
       "2939        2    0620   1650\n",
       "2940        1    0622   1649\n",
       "2941        2    0622   1649\n",
       "2942        1    0623   1647\n",
       "2943        2    0623   1647\n",
       "\n",
       "[2944 rows x 3 columns]"
      ]
     },
     "execution_count": 56,
     "metadata": {},
     "output_type": "execute_result"
    }
   ],
   "source": [
    "# Check that imputation has been done correctly for 'Sunrise' and 'Sunset' columns\n",
    "weather_df[['Station','Sunrise','Sunset']]"
   ]
  },
  {
   "cell_type": "code",
   "execution_count": 57,
   "id": "65c17acc-0a90-4daa-b844-49e8465552cf",
   "metadata": {
    "tags": []
   },
   "outputs": [
    {
     "data": {
      "text/plain": [
       "Index(['Station', 'Date', 'Tmax', 'Tmin', 'Tavg', 'DewPoint', 'WetBulb',\n",
       "       'Heat', 'Cool', 'Sunrise', 'Sunset', 'PrecipTotal', 'StnPressure',\n",
       "       'SeaLevel', 'ResultSpeed', 'ResultDir', 'AvgSpeed', 'PrecipBool'],\n",
       "      dtype='object')"
      ]
     },
     "execution_count": 57,
     "metadata": {},
     "output_type": "execute_result"
    }
   ],
   "source": [
    "weather_df.columns"
   ]
  },
  {
   "cell_type": "code",
   "execution_count": 58,
   "id": "25678c6d-cae1-4c79-922b-d0fb0e938b39",
   "metadata": {},
   "outputs": [],
   "source": [
    "# Create date related features for weather data\n",
    "weather_df = date_features(weather_df)"
   ]
  },
  {
   "cell_type": "code",
   "execution_count": 59,
   "id": "1ce9528e-f5f8-44ca-8c1d-514341542fd5",
   "metadata": {
    "tags": []
   },
   "outputs": [],
   "source": [
    "# Use lowercase names for columns\n",
    "weather_df.columns = weather_df.columns.str.lower()"
   ]
  },
  {
   "cell_type": "code",
   "execution_count": 60,
   "id": "a3007c02-b465-4ab1-bafc-3296e0432055",
   "metadata": {
    "tags": []
   },
   "outputs": [],
   "source": [
    "# Cast all the original mixed types columns to float\n",
    "object_cols = weather_df.select_dtypes(include='object').columns\n",
    "object_cols\n",
    "\n",
    "for col in object_cols:\n",
    "    weather_df[col] = weather_df[col].astype(float)"
   ]
  },
  {
   "cell_type": "code",
   "execution_count": 61,
   "id": "311ff3d8-928b-4954-853f-ee057e2750cd",
   "metadata": {
    "tags": []
   },
   "outputs": [
    {
     "name": "stdout",
     "output_type": "stream",
     "text": [
      "<class 'pandas.core.frame.DataFrame'>\n",
      "RangeIndex: 2944 entries, 0 to 2943\n",
      "Data columns (total 23 columns):\n",
      " #   Column       Non-Null Count  Dtype         \n",
      "---  ------       --------------  -----         \n",
      " 0   station      2944 non-null   int64         \n",
      " 1   date         2944 non-null   datetime64[ns]\n",
      " 2   tmax         2944 non-null   int64         \n",
      " 3   tmin         2944 non-null   int64         \n",
      " 4   tavg         2944 non-null   float64       \n",
      " 5   dewpoint     2944 non-null   int64         \n",
      " 6   wetbulb      2944 non-null   float64       \n",
      " 7   heat         2944 non-null   float64       \n",
      " 8   cool         2944 non-null   float64       \n",
      " 9   sunrise      2944 non-null   float64       \n",
      " 10  sunset       2944 non-null   float64       \n",
      " 11  preciptotal  2944 non-null   float64       \n",
      " 12  stnpressure  2944 non-null   float64       \n",
      " 13  sealevel     2944 non-null   float64       \n",
      " 14  resultspeed  2944 non-null   float64       \n",
      " 15  resultdir    2944 non-null   int64         \n",
      " 16  avgspeed     2944 non-null   float64       \n",
      " 17  precipbool   2944 non-null   int64         \n",
      " 18  day          2944 non-null   int32         \n",
      " 19  month        2944 non-null   int32         \n",
      " 20  year         2944 non-null   int32         \n",
      " 21  week         2944 non-null   UInt32        \n",
      " 22  dayofweek    2944 non-null   int32         \n",
      "dtypes: UInt32(1), datetime64[ns](1), float64(11), int32(4), int64(6)\n",
      "memory usage: 474.5 KB\n"
     ]
    }
   ],
   "source": [
    "weather_df.info()"
   ]
  },
  {
   "cell_type": "markdown",
   "id": "6238f49a-c021-4f61-9753-81b45c257634",
   "metadata": {
    "tags": []
   },
   "source": [
    "#### Merging Datasets"
   ]
  },
  {
   "cell_type": "markdown",
   "id": "7a07a331-82f0-4eb6-a97e-591069b72486",
   "metadata": {},
   "source": [
    "This will be done using Haversine to take into account the curvature of the Earth."
   ]
  },
  {
   "cell_type": "code",
   "execution_count": 62,
   "id": "d7e4408d-d5cf-4106-a8b5-fa34c8131f0a",
   "metadata": {
    "tags": []
   },
   "outputs": [],
   "source": [
    "# Create a haversine function\n",
    "def haversine(lat1, lon1, lat2, lon2):\n",
    "    R = 6371  # Earth's radius in kilometers\n",
    "    dlat = np.radians(lat2 - lat1)\n",
    "    dlon = np.radians(lon2 - lon1)\n",
    "    a = np.sin(dlat/2) * np.sin(dlat/2) + np.cos(np.radians(lat1)) * np.cos(np.radians(lat2)) * np.sin(dlon/2) * np.sin(dlon/2)\n",
    "    c = 2 * np.arctan2(np.sqrt(a), np.sqrt(1-a))\n",
    "    distance = R * c\n",
    "    return distance\n",
    "\n",
    "# Create a function to assign the nearest station using the haversine function\n",
    "def assign_station(df):\n",
    "    # Calculate distances to both stations for each observation in df\n",
    "    df['distance_to_station_1'] = haversine(df['latitude'], df['longitude'], lat1, lon1)\n",
    "    df['distance_to_station_2'] = haversine(df['latitude'], df['longitude'], lat2, lon2)\n",
    "\n",
    "    # Assign the nearest station to each observation\n",
    "    df['nearest_station'] = np.where(df['distance_to_station_1'] < df['distance_to_station_2'], 1, 2)\n",
    "\n",
    "    # Merge train_df with weather_df based on date and nearest_station\n",
    "    merged_df = df.merge(weather_df, \n",
    "                         left_on=['date', 'nearest_station'], \n",
    "                         right_on=['date', 'station'])\n",
    "    merged_df = df.merge(weather_df, \n",
    "                         left_on=['date', 'nearest_station'], \n",
    "                         right_on=['date', 'station'])\n",
    "    \n",
    "    # Drop distance columns\n",
    "    merged_df.drop(columns=['distance_to_station_1', 'distance_to_station_2', 'nearest_station'], inplace=True)\n",
    "    \n",
    "    return merged_df"
   ]
  },
  {
   "cell_type": "code",
   "execution_count": 63,
   "id": "0aaed336-d073-47fc-a027-dce2b9d4058a",
   "metadata": {
    "tags": []
   },
   "outputs": [],
   "source": [
    "# Coordinates for Station 1 and Station 2\n",
    "lat1, lon1 = 41.995, -87.933\n",
    "lat2, lon2 = 41.786, -87.752\n",
    "\n",
    "# Drop the common columns from weather_df\n",
    "weather_df.drop(columns=['day','month','year','week','dayofweek'], inplace=True)\n",
    "\n",
    "# Assign stations and merge\n",
    "merge_train = assign_station(train_df)\n",
    "merge_test = assign_station(test_df)"
   ]
  },
  {
   "cell_type": "code",
   "execution_count": 64,
   "id": "51e3e693-7904-4f61-a61e-fbc8f062082f",
   "metadata": {},
   "outputs": [
    {
     "data": {
      "text/html": [
       "<div>\n",
       "<style scoped>\n",
       "    .dataframe tbody tr th:only-of-type {\n",
       "        vertical-align: middle;\n",
       "    }\n",
       "\n",
       "    .dataframe tbody tr th {\n",
       "        vertical-align: top;\n",
       "    }\n",
       "\n",
       "    .dataframe thead th {\n",
       "        text-align: right;\n",
       "    }\n",
       "</style>\n",
       "<table border=\"1\" class=\"dataframe\">\n",
       "  <thead>\n",
       "    <tr style=\"text-align: right;\">\n",
       "      <th></th>\n",
       "      <th>date</th>\n",
       "      <th>species</th>\n",
       "      <th>trap</th>\n",
       "      <th>latitude</th>\n",
       "      <th>longitude</th>\n",
       "      <th>block</th>\n",
       "      <th>street</th>\n",
       "      <th>addressaccuracy</th>\n",
       "      <th>nummosquitos</th>\n",
       "      <th>wnvpresent</th>\n",
       "      <th>...</th>\n",
       "      <th>cool</th>\n",
       "      <th>sunrise</th>\n",
       "      <th>sunset</th>\n",
       "      <th>preciptotal</th>\n",
       "      <th>stnpressure</th>\n",
       "      <th>sealevel</th>\n",
       "      <th>resultspeed</th>\n",
       "      <th>resultdir</th>\n",
       "      <th>avgspeed</th>\n",
       "      <th>precipbool</th>\n",
       "    </tr>\n",
       "  </thead>\n",
       "  <tbody>\n",
       "    <tr>\n",
       "      <th>0</th>\n",
       "      <td>2007-05-29</td>\n",
       "      <td>CULEX PIPIENS</td>\n",
       "      <td>T096</td>\n",
       "      <td>41.731922</td>\n",
       "      <td>-87.677512</td>\n",
       "      <td>22</td>\n",
       "      <td>W 89TH ST</td>\n",
       "      <td>8</td>\n",
       "      <td>1</td>\n",
       "      <td>0</td>\n",
       "      <td>...</td>\n",
       "      <td>12.0</td>\n",
       "      <td>421.0</td>\n",
       "      <td>1917.0</td>\n",
       "      <td>0.0</td>\n",
       "      <td>29.44</td>\n",
       "      <td>30.09</td>\n",
       "      <td>5.8</td>\n",
       "      <td>16</td>\n",
       "      <td>7.4</td>\n",
       "      <td>0</td>\n",
       "    </tr>\n",
       "    <tr>\n",
       "      <th>1</th>\n",
       "      <td>2007-05-29</td>\n",
       "      <td>CULEX PIPIENS/RESTUANS</td>\n",
       "      <td>T048</td>\n",
       "      <td>41.867108</td>\n",
       "      <td>-87.654224</td>\n",
       "      <td>11</td>\n",
       "      <td>W ROOSEVELT</td>\n",
       "      <td>8</td>\n",
       "      <td>1</td>\n",
       "      <td>0</td>\n",
       "      <td>...</td>\n",
       "      <td>12.0</td>\n",
       "      <td>421.0</td>\n",
       "      <td>1917.0</td>\n",
       "      <td>0.0</td>\n",
       "      <td>29.44</td>\n",
       "      <td>30.09</td>\n",
       "      <td>5.8</td>\n",
       "      <td>16</td>\n",
       "      <td>7.4</td>\n",
       "      <td>0</td>\n",
       "    </tr>\n",
       "    <tr>\n",
       "      <th>2</th>\n",
       "      <td>2007-05-29</td>\n",
       "      <td>CULEX PIPIENS/RESTUANS</td>\n",
       "      <td>T050</td>\n",
       "      <td>41.919343</td>\n",
       "      <td>-87.694259</td>\n",
       "      <td>21</td>\n",
       "      <td>N STAVE ST</td>\n",
       "      <td>8</td>\n",
       "      <td>1</td>\n",
       "      <td>0</td>\n",
       "      <td>...</td>\n",
       "      <td>12.0</td>\n",
       "      <td>421.0</td>\n",
       "      <td>1917.0</td>\n",
       "      <td>0.0</td>\n",
       "      <td>29.44</td>\n",
       "      <td>30.09</td>\n",
       "      <td>5.8</td>\n",
       "      <td>16</td>\n",
       "      <td>7.4</td>\n",
       "      <td>0</td>\n",
       "    </tr>\n",
       "    <tr>\n",
       "      <th>3</th>\n",
       "      <td>2007-05-29</td>\n",
       "      <td>CULEX PIPIENS/RESTUANS</td>\n",
       "      <td>T054</td>\n",
       "      <td>41.921965</td>\n",
       "      <td>-87.632085</td>\n",
       "      <td>22</td>\n",
       "      <td>N CANNON DR</td>\n",
       "      <td>8</td>\n",
       "      <td>2</td>\n",
       "      <td>0</td>\n",
       "      <td>...</td>\n",
       "      <td>12.0</td>\n",
       "      <td>421.0</td>\n",
       "      <td>1917.0</td>\n",
       "      <td>0.0</td>\n",
       "      <td>29.44</td>\n",
       "      <td>30.09</td>\n",
       "      <td>5.8</td>\n",
       "      <td>16</td>\n",
       "      <td>7.4</td>\n",
       "      <td>0</td>\n",
       "    </tr>\n",
       "    <tr>\n",
       "      <th>4</th>\n",
       "      <td>2007-05-29</td>\n",
       "      <td>CULEX PIPIENS/RESTUANS</td>\n",
       "      <td>T086</td>\n",
       "      <td>41.688324</td>\n",
       "      <td>-87.676709</td>\n",
       "      <td>22</td>\n",
       "      <td>W 113TH ST</td>\n",
       "      <td>8</td>\n",
       "      <td>1</td>\n",
       "      <td>0</td>\n",
       "      <td>...</td>\n",
       "      <td>12.0</td>\n",
       "      <td>421.0</td>\n",
       "      <td>1917.0</td>\n",
       "      <td>0.0</td>\n",
       "      <td>29.44</td>\n",
       "      <td>30.09</td>\n",
       "      <td>5.8</td>\n",
       "      <td>16</td>\n",
       "      <td>7.4</td>\n",
       "      <td>0</td>\n",
       "    </tr>\n",
       "  </tbody>\n",
       "</table>\n",
       "<p>5 rows × 33 columns</p>\n",
       "</div>"
      ],
      "text/plain": [
       "        date                 species  trap   latitude  longitude  block  \\\n",
       "0 2007-05-29           CULEX PIPIENS  T096  41.731922 -87.677512     22   \n",
       "1 2007-05-29  CULEX PIPIENS/RESTUANS  T048  41.867108 -87.654224     11   \n",
       "2 2007-05-29  CULEX PIPIENS/RESTUANS  T050  41.919343 -87.694259     21   \n",
       "3 2007-05-29  CULEX PIPIENS/RESTUANS  T054  41.921965 -87.632085     22   \n",
       "4 2007-05-29  CULEX PIPIENS/RESTUANS  T086  41.688324 -87.676709     22   \n",
       "\n",
       "         street  addressaccuracy  nummosquitos  wnvpresent  ...  cool  \\\n",
       "0     W 89TH ST                8             1           0  ...  12.0   \n",
       "1   W ROOSEVELT                8             1           0  ...  12.0   \n",
       "2    N STAVE ST                8             1           0  ...  12.0   \n",
       "3   N CANNON DR                8             2           0  ...  12.0   \n",
       "4    W 113TH ST                8             1           0  ...  12.0   \n",
       "\n",
       "   sunrise  sunset  preciptotal  stnpressure  sealevel  resultspeed  \\\n",
       "0    421.0  1917.0          0.0        29.44     30.09          5.8   \n",
       "1    421.0  1917.0          0.0        29.44     30.09          5.8   \n",
       "2    421.0  1917.0          0.0        29.44     30.09          5.8   \n",
       "3    421.0  1917.0          0.0        29.44     30.09          5.8   \n",
       "4    421.0  1917.0          0.0        29.44     30.09          5.8   \n",
       "\n",
       "   resultdir  avgspeed  precipbool  \n",
       "0         16       7.4           0  \n",
       "1         16       7.4           0  \n",
       "2         16       7.4           0  \n",
       "3         16       7.4           0  \n",
       "4         16       7.4           0  \n",
       "\n",
       "[5 rows x 33 columns]"
      ]
     },
     "execution_count": 64,
     "metadata": {},
     "output_type": "execute_result"
    }
   ],
   "source": [
    "merge_train.head()"
   ]
  },
  {
   "cell_type": "code",
   "execution_count": 65,
   "id": "47047789-eb18-4e3b-abdf-00442c04dace",
   "metadata": {
    "tags": []
   },
   "outputs": [
    {
     "data": {
      "image/png": "[encoded data removed]",
      "text/plain": [
       "<Figure size 640x480 with 2 Axes>"
      ]
     },
     "metadata": {},
     "output_type": "display_data"
    }
   ],
   "source": [
    "corr = merge_train.corr(numeric_only=True)\n",
    "sns.heatmap(corr, cmap='Blues');"
   ]
  },
  {
   "cell_type": "code",
   "execution_count": 66,
   "id": "f375e11f-fd01-494e-8f7a-2f543525ccde",
   "metadata": {
    "tags": []
   },
   "outputs": [],
   "source": [
    "merge_train.drop(columns=['street','date','dewpoint','station', 'preciptotal', 'nummosquitos'], inplace=True)\n",
    "merge_test.drop(columns=['street','date','dewpoint','station', 'preciptotal'], inplace=True)"
   ]
  },
  {
   "cell_type": "code",
   "execution_count": 67,
   "id": "2997cd9f-fb77-4a79-b87b-6d836828e02c",
   "metadata": {
    "tags": []
   },
   "outputs": [],
   "source": [
    "# merge_train.drop(columns=['street','date','day','dayofweek','year','dewpoint','station', 'preciptotal','sunrise','sunset'], inplace=True)"
   ]
  },
  {
   "cell_type": "code",
   "execution_count": 68,
   "id": "5fc05cea-b373-4080-be9f-515088ac9d31",
   "metadata": {
    "tags": []
   },
   "outputs": [
    {
     "data": {
      "text/plain": [
       "(8475, 27)"
      ]
     },
     "execution_count": 68,
     "metadata": {},
     "output_type": "execute_result"
    }
   ],
   "source": [
    "merge_train.shape"
   ]
  },
  {
   "cell_type": "code",
   "execution_count": 69,
   "id": "719cea69-c0f7-4468-abec-a31559905389",
   "metadata": {
    "tags": []
   },
   "outputs": [
    {
     "data": {
      "text/plain": [
       "(116293, 27)"
      ]
     },
     "execution_count": 69,
     "metadata": {},
     "output_type": "execute_result"
    }
   ],
   "source": [
    "merge_test.shape"
   ]
  },
  {
   "cell_type": "code",
   "execution_count": 70,
   "id": "3496d665-58a3-4ffc-b9f0-c7247579b4a6",
   "metadata": {},
   "outputs": [],
   "source": [
    "# Save clean datasets to dataset folder\n",
    "merge_train.to_csv('./datasets/merge_train.csv', index=False)\n",
    "merge_test.to_csv('./datasets/merge_test.csv', index=False)"
   ]
  },
  {
   "cell_type": "markdown",
   "id": "37f42dd8-f1bb-462a-b7a8-bc70569236e9",
   "metadata": {},
   "source": [
    "## EDA"
   ]
  },
  {
   "cell_type": "code",
   "execution_count": 71,
   "id": "a45199f6-fcba-4d4f-92f9-fb45e5058e79",
   "metadata": {
    "tags": []
   },
   "outputs": [],
   "source": [
    "# insert EDA here"
   ]
  },
  {
   "cell_type": "markdown",
   "id": "6dc2b5a1-2fee-4005-8e03-548de71a5503",
   "metadata": {},
   "source": [
    "## Feature Engineering"
   ]
  },
  {
   "cell_type": "markdown",
   "id": "2377785e-14c2-4d0f-b102-e68c272959aa",
   "metadata": {},
   "source": [
    "We will be using PCA to reduce the number of features."
   ]
  },
  {
   "cell_type": "markdown",
   "id": "27640f6d-a32d-4c6d-b014-48d968fed35b",
   "metadata": {
    "tags": []
   },
   "source": [
    "#### Import Libraries"
   ]
  },
  {
   "cell_type": "code",
   "execution_count": 72,
   "id": "4d1d94c6-1cbf-4d12-94df-e3dfaf04a86e",
   "metadata": {
    "tags": []
   },
   "outputs": [],
   "source": [
    "from sklearn.preprocessing import StandardScaler\n",
    "from sklearn.decomposition import PCA\n",
    "from sklearn.preprocessing import LabelEncoder"
   ]
  },
  {
   "cell_type": "code",
   "execution_count": 73,
   "id": "848760b1-07e4-45dc-98a8-af4e8b99aa00",
   "metadata": {},
   "outputs": [],
   "source": [
    "# Label encode species and trap\n",
    "\n",
    "encoder = LabelEncoder()\n",
    "encoder.fit(merge_train['species'].tolist() + [\"UNKNOWN\"])\n",
    "merge_train['species'] = encoder.transform(merge_train['species'])\n",
    "merge_test['species'] = merge_test['species'].map(lambda s: s if s in encoder.classes_ else \"UNKNOWN\")\n",
    "merge_test['species'] = encoder.transform(merge_test['species'])\n",
    "\n",
    "encoder = LabelEncoder()\n",
    "encoder.fit(merge_train['trap'].tolist() + [\"UNKNOWN\"])\n",
    "merge_train['trap'] = encoder.transform(merge_train['trap'])\n",
    "merge_test['trap'] = merge_test['trap'].map(lambda s: s if s in encoder.classes_ else \"UNKNOWN\")\n",
    "merge_test['trap'] = encoder.transform(merge_test['trap'])"
   ]
  },
  {
   "cell_type": "code",
   "execution_count": 74,
   "id": "04929550-a6b9-40f8-b3d3-47ab29c59f73",
   "metadata": {
    "tags": []
   },
   "outputs": [],
   "source": [
    "data = pd.get_dummies(merge_train.drop(columns='wnvpresent'))"
   ]
  },
  {
   "cell_type": "code",
   "execution_count": 75,
   "id": "2a64ad07-e5d9-4ce6-8d71-221c08ad7dad",
   "metadata": {
    "tags": []
   },
   "outputs": [
    {
     "data": {
      "text/plain": [
       "Index(['species', 'trap', 'latitude', 'longitude', 'block', 'addressaccuracy',\n",
       "       'wnvpresent', 'day', 'month', 'year', 'week', 'dayofweek', 'direction',\n",
       "       'tmax', 'tmin', 'tavg', 'wetbulb', 'heat', 'cool', 'sunrise', 'sunset',\n",
       "       'stnpressure', 'sealevel', 'resultspeed', 'resultdir', 'avgspeed',\n",
       "       'precipbool'],\n",
       "      dtype='object')"
      ]
     },
     "execution_count": 75,
     "metadata": {},
     "output_type": "execute_result"
    }
   ],
   "source": [
    "merge_train.columns"
   ]
  },
  {
   "cell_type": "code",
   "execution_count": 76,
   "id": "96730b35-f7c8-40b7-9938-424762590d6c",
   "metadata": {
    "tags": []
   },
   "outputs": [
    {
     "data": {
      "text/plain": [
       "species            0\n",
       "trap               0\n",
       "latitude           0\n",
       "longitude          0\n",
       "block              0\n",
       "addressaccuracy    0\n",
       "wnvpresent         0\n",
       "day                0\n",
       "month              0\n",
       "year               0\n",
       "week               0\n",
       "dayofweek          0\n",
       "direction          0\n",
       "tmax               0\n",
       "tmin               0\n",
       "tavg               0\n",
       "wetbulb            0\n",
       "heat               0\n",
       "cool               0\n",
       "sunrise            0\n",
       "sunset             0\n",
       "stnpressure        0\n",
       "sealevel           0\n",
       "resultspeed        0\n",
       "resultdir          0\n",
       "avgspeed           0\n",
       "precipbool         0\n",
       "dtype: int64"
      ]
     },
     "execution_count": 76,
     "metadata": {},
     "output_type": "execute_result"
    }
   ],
   "source": [
    "merge_train.isnull().sum()"
   ]
  },
  {
   "cell_type": "code",
   "execution_count": 77,
   "id": "4fd239ea-49bf-486e-852a-d168817f61e1",
   "metadata": {
    "tags": []
   },
   "outputs": [],
   "source": [
    "pca = PCA(n_components=10)"
   ]
  },
  {
   "cell_type": "code",
   "execution_count": 78,
   "id": "b6ea849f-6380-479d-9af5-45d29476fab1",
   "metadata": {
    "tags": []
   },
   "outputs": [
    {
     "data": {
      "text/plain": [
       "array([[-6.78998140e+01, -8.70391938e+00, -2.36601939e+01, ...,\n",
       "        -6.72206960e+00, -5.53266124e+00,  1.93880707e+00],\n",
       "       [-6.78135879e+01,  2.95741999e+01, -3.66643012e+01, ...,\n",
       "        -6.39566935e+00, -5.41750655e+00,  1.97299082e+00],\n",
       "       [-6.80562262e+01,  2.81692302e+01, -2.67083535e+01, ...,\n",
       "        -6.66837031e+00, -5.41085872e+00,  1.99503537e+00],\n",
       "       ...,\n",
       "       [ 1.47120486e+02, -1.20893162e+01, -3.07472398e+01, ...,\n",
       "        -9.22062957e+00, -5.34922338e+00, -5.47095208e-03],\n",
       "       [ 1.47204453e+02, -4.48484691e+01, -2.59547752e+01, ...,\n",
       "        -9.32785147e+00, -5.47622210e+00, -2.34341322e-02],\n",
       "       [ 1.46534684e+02, -4.93064633e+01,  1.43552005e+00, ...,\n",
       "        -9.55043292e+00, -5.36748426e+00, -2.91668276e-02]])"
      ]
     },
     "execution_count": 78,
     "metadata": {},
     "output_type": "execute_result"
    }
   ],
   "source": [
    "pca.fit_transform(data)"
   ]
  },
  {
   "cell_type": "code",
   "execution_count": 79,
   "id": "80c631f1-86d1-4f39-9403-76dd32fb595d",
   "metadata": {
    "tags": []
   },
   "outputs": [
    {
     "name": "stdout",
     "output_type": "stream",
     "text": [
      "[0.64694598 0.15905443 0.12974082 0.0270906  0.00942895 0.00902559\n",
      " 0.00739538 0.00664575 0.0015452  0.00106772]\n",
      "\n",
      "Top 3 principal components captures 93.57% of the total variance in the dataset.\n"
     ]
    }
   ],
   "source": [
    "n = 3\n",
    "print(pca.explained_variance_ratio_)\n",
    "print(f\"\\nTop {n} principal components captures {round(100 * sum(pca.explained_variance_ratio_[0:n]),2)}% of the total variance in the dataset.\")"
   ]
  },
  {
   "cell_type": "code",
   "execution_count": 80,
   "id": "0e0c9c5a-3a79-46e5-8413-4694069d3f07",
   "metadata": {
    "tags": []
   },
   "outputs": [
    {
     "data": {
      "text/html": [
       "<div>\n",
       "<style scoped>\n",
       "    .dataframe tbody tr th:only-of-type {\n",
       "        vertical-align: middle;\n",
       "    }\n",
       "\n",
       "    .dataframe tbody tr th {\n",
       "        vertical-align: top;\n",
       "    }\n",
       "\n",
       "    .dataframe thead th {\n",
       "        text-align: right;\n",
       "    }\n",
       "</style>\n",
       "<table border=\"1\" class=\"dataframe\">\n",
       "  <thead>\n",
       "    <tr style=\"text-align: right;\">\n",
       "      <th></th>\n",
       "      <th>species</th>\n",
       "      <th>trap</th>\n",
       "      <th>latitude</th>\n",
       "      <th>longitude</th>\n",
       "      <th>block</th>\n",
       "      <th>addressaccuracy</th>\n",
       "      <th>day</th>\n",
       "      <th>month</th>\n",
       "      <th>year</th>\n",
       "      <th>week</th>\n",
       "      <th>...</th>\n",
       "      <th>heat</th>\n",
       "      <th>cool</th>\n",
       "      <th>sunrise</th>\n",
       "      <th>sunset</th>\n",
       "      <th>stnpressure</th>\n",
       "      <th>sealevel</th>\n",
       "      <th>resultspeed</th>\n",
       "      <th>resultdir</th>\n",
       "      <th>avgspeed</th>\n",
       "      <th>precipbool</th>\n",
       "    </tr>\n",
       "  </thead>\n",
       "  <tbody>\n",
       "    <tr>\n",
       "      <th>0</th>\n",
       "      <td>-0.002374</td>\n",
       "      <td>0.004835</td>\n",
       "      <td>-0.000027</td>\n",
       "      <td>0.000023</td>\n",
       "      <td>-0.025197</td>\n",
       "      <td>-0.006263</td>\n",
       "      <td>0.007254</td>\n",
       "      <td>0.012254</td>\n",
       "      <td>-0.003475</td>\n",
       "      <td>0.054828</td>\n",
       "      <td>...</td>\n",
       "      <td>0.008660</td>\n",
       "      <td>-0.013239</td>\n",
       "      <td>0.574670</td>\n",
       "      <td>-0.814739</td>\n",
       "      <td>0.000555</td>\n",
       "      <td>0.000582</td>\n",
       "      <td>-0.003819</td>\n",
       "      <td>0.002049</td>\n",
       "      <td>-0.003259</td>\n",
       "      <td>-0.001087</td>\n",
       "    </tr>\n",
       "    <tr>\n",
       "      <th>1</th>\n",
       "      <td>-0.000929</td>\n",
       "      <td>-0.998022</td>\n",
       "      <td>0.000816</td>\n",
       "      <td>-0.000429</td>\n",
       "      <td>0.058538</td>\n",
       "      <td>-0.014896</td>\n",
       "      <td>-0.005748</td>\n",
       "      <td>0.000039</td>\n",
       "      <td>-0.006897</td>\n",
       "      <td>-0.000460</td>\n",
       "      <td>...</td>\n",
       "      <td>-0.000399</td>\n",
       "      <td>0.001480</td>\n",
       "      <td>-0.001948</td>\n",
       "      <td>-0.009290</td>\n",
       "      <td>-0.000173</td>\n",
       "      <td>-0.000022</td>\n",
       "      <td>-0.002118</td>\n",
       "      <td>-0.005398</td>\n",
       "      <td>-0.001376</td>\n",
       "      <td>0.000142</td>\n",
       "    </tr>\n",
       "    <tr>\n",
       "      <th>2</th>\n",
       "      <td>-0.001691</td>\n",
       "      <td>0.055732</td>\n",
       "      <td>0.000065</td>\n",
       "      <td>-0.000358</td>\n",
       "      <td>0.984442</td>\n",
       "      <td>0.158671</td>\n",
       "      <td>-0.008458</td>\n",
       "      <td>0.001668</td>\n",
       "      <td>-0.002299</td>\n",
       "      <td>0.005867</td>\n",
       "      <td>...</td>\n",
       "      <td>-0.003254</td>\n",
       "      <td>0.013739</td>\n",
       "      <td>0.030947</td>\n",
       "      <td>-0.011073</td>\n",
       "      <td>-0.000135</td>\n",
       "      <td>0.000045</td>\n",
       "      <td>-0.003363</td>\n",
       "      <td>-0.004931</td>\n",
       "      <td>-0.003405</td>\n",
       "      <td>-0.000598</td>\n",
       "    </tr>\n",
       "    <tr>\n",
       "      <th>3</th>\n",
       "      <td>0.004042</td>\n",
       "      <td>0.000829</td>\n",
       "      <td>0.000460</td>\n",
       "      <td>-0.000526</td>\n",
       "      <td>0.040436</td>\n",
       "      <td>0.002656</td>\n",
       "      <td>-0.048332</td>\n",
       "      <td>-0.011528</td>\n",
       "      <td>0.012285</td>\n",
       "      <td>-0.056398</td>\n",
       "      <td>...</td>\n",
       "      <td>0.117557</td>\n",
       "      <td>-0.320434</td>\n",
       "      <td>-0.311894</td>\n",
       "      <td>-0.176299</td>\n",
       "      <td>0.002071</td>\n",
       "      <td>0.002606</td>\n",
       "      <td>0.007309</td>\n",
       "      <td>-0.151852</td>\n",
       "      <td>-0.007066</td>\n",
       "      <td>-0.004558</td>\n",
       "    </tr>\n",
       "    <tr>\n",
       "      <th>4</th>\n",
       "      <td>0.001827</td>\n",
       "      <td>0.010711</td>\n",
       "      <td>-0.000079</td>\n",
       "      <td>0.000192</td>\n",
       "      <td>-0.001401</td>\n",
       "      <td>-0.010051</td>\n",
       "      <td>-0.079222</td>\n",
       "      <td>-0.004533</td>\n",
       "      <td>-0.025251</td>\n",
       "      <td>-0.031394</td>\n",
       "      <td>...</td>\n",
       "      <td>-0.040747</td>\n",
       "      <td>0.147858</td>\n",
       "      <td>-0.635068</td>\n",
       "      <td>-0.473018</td>\n",
       "      <td>0.000252</td>\n",
       "      <td>0.000058</td>\n",
       "      <td>0.024616</td>\n",
       "      <td>-0.460652</td>\n",
       "      <td>0.011065</td>\n",
       "      <td>0.001372</td>\n",
       "    </tr>\n",
       "    <tr>\n",
       "      <th>5</th>\n",
       "      <td>0.006334</td>\n",
       "      <td>-0.002914</td>\n",
       "      <td>0.000273</td>\n",
       "      <td>-0.000161</td>\n",
       "      <td>0.023181</td>\n",
       "      <td>-0.038906</td>\n",
       "      <td>0.679430</td>\n",
       "      <td>-0.028746</td>\n",
       "      <td>0.020504</td>\n",
       "      <td>-0.030313</td>\n",
       "      <td>...</td>\n",
       "      <td>-0.012651</td>\n",
       "      <td>-0.000953</td>\n",
       "      <td>-0.326706</td>\n",
       "      <td>-0.228242</td>\n",
       "      <td>-0.003015</td>\n",
       "      <td>-0.002995</td>\n",
       "      <td>0.085156</td>\n",
       "      <td>0.597224</td>\n",
       "      <td>0.096167</td>\n",
       "      <td>0.010335</td>\n",
       "    </tr>\n",
       "    <tr>\n",
       "      <th>6</th>\n",
       "      <td>-0.003421</td>\n",
       "      <td>-0.024146</td>\n",
       "      <td>0.000886</td>\n",
       "      <td>-0.000939</td>\n",
       "      <td>-0.154523</td>\n",
       "      <td>0.971457</td>\n",
       "      <td>0.150987</td>\n",
       "      <td>-0.006625</td>\n",
       "      <td>-0.002641</td>\n",
       "      <td>-0.007222</td>\n",
       "      <td>...</td>\n",
       "      <td>0.000155</td>\n",
       "      <td>-0.004307</td>\n",
       "      <td>0.018599</td>\n",
       "      <td>0.011071</td>\n",
       "      <td>0.000265</td>\n",
       "      <td>0.000162</td>\n",
       "      <td>-0.006975</td>\n",
       "      <td>-0.088180</td>\n",
       "      <td>-0.004748</td>\n",
       "      <td>0.000790</td>\n",
       "    </tr>\n",
       "    <tr>\n",
       "      <th>7</th>\n",
       "      <td>-0.001881</td>\n",
       "      <td>-0.000791</td>\n",
       "      <td>-0.000057</td>\n",
       "      <td>0.000088</td>\n",
       "      <td>-0.027039</td>\n",
       "      <td>0.170496</td>\n",
       "      <td>-0.695523</td>\n",
       "      <td>0.027043</td>\n",
       "      <td>-0.025893</td>\n",
       "      <td>0.024996</td>\n",
       "      <td>...</td>\n",
       "      <td>0.003314</td>\n",
       "      <td>0.030198</td>\n",
       "      <td>-0.220567</td>\n",
       "      <td>-0.160136</td>\n",
       "      <td>-0.001555</td>\n",
       "      <td>-0.001448</td>\n",
       "      <td>0.056105</td>\n",
       "      <td>0.617021</td>\n",
       "      <td>0.047105</td>\n",
       "      <td>-0.007277</td>\n",
       "    </tr>\n",
       "    <tr>\n",
       "      <th>8</th>\n",
       "      <td>-0.006867</td>\n",
       "      <td>-0.004193</td>\n",
       "      <td>-0.002734</td>\n",
       "      <td>0.001908</td>\n",
       "      <td>0.003744</td>\n",
       "      <td>0.003467</td>\n",
       "      <td>-0.110885</td>\n",
       "      <td>0.011116</td>\n",
       "      <td>-0.052367</td>\n",
       "      <td>0.028590</td>\n",
       "      <td>...</td>\n",
       "      <td>0.150394</td>\n",
       "      <td>0.109146</td>\n",
       "      <td>0.038066</td>\n",
       "      <td>0.021963</td>\n",
       "      <td>-0.006328</td>\n",
       "      <td>-0.007395</td>\n",
       "      <td>0.421608</td>\n",
       "      <td>-0.007086</td>\n",
       "      <td>0.404406</td>\n",
       "      <td>0.055431</td>\n",
       "    </tr>\n",
       "    <tr>\n",
       "      <th>9</th>\n",
       "      <td>0.017237</td>\n",
       "      <td>-0.000596</td>\n",
       "      <td>0.002387</td>\n",
       "      <td>-0.001262</td>\n",
       "      <td>0.000598</td>\n",
       "      <td>-0.000343</td>\n",
       "      <td>0.041496</td>\n",
       "      <td>-0.026209</td>\n",
       "      <td>0.106950</td>\n",
       "      <td>-0.095910</td>\n",
       "      <td>...</td>\n",
       "      <td>-0.048111</td>\n",
       "      <td>-0.011846</td>\n",
       "      <td>0.076621</td>\n",
       "      <td>0.044593</td>\n",
       "      <td>-0.003862</td>\n",
       "      <td>-0.002300</td>\n",
       "      <td>0.631399</td>\n",
       "      <td>-0.131151</td>\n",
       "      <td>0.467184</td>\n",
       "      <td>-0.027856</td>\n",
       "    </tr>\n",
       "  </tbody>\n",
       "</table>\n",
       "<p>10 rows × 26 columns</p>\n",
       "</div>"
      ],
      "text/plain": [
       "    species      trap  latitude  longitude     block  addressaccuracy  \\\n",
       "0 -0.002374  0.004835 -0.000027   0.000023 -0.025197        -0.006263   \n",
       "1 -0.000929 -0.998022  0.000816  -0.000429  0.058538        -0.014896   \n",
       "2 -0.001691  0.055732  0.000065  -0.000358  0.984442         0.158671   \n",
       "3  0.004042  0.000829  0.000460  -0.000526  0.040436         0.002656   \n",
       "4  0.001827  0.010711 -0.000079   0.000192 -0.001401        -0.010051   \n",
       "5  0.006334 -0.002914  0.000273  -0.000161  0.023181        -0.038906   \n",
       "6 -0.003421 -0.024146  0.000886  -0.000939 -0.154523         0.971457   \n",
       "7 -0.001881 -0.000791 -0.000057   0.000088 -0.027039         0.170496   \n",
       "8 -0.006867 -0.004193 -0.002734   0.001908  0.003744         0.003467   \n",
       "9  0.017237 -0.000596  0.002387  -0.001262  0.000598        -0.000343   \n",
       "\n",
       "        day     month      year      week  ...      heat      cool   sunrise  \\\n",
       "0  0.007254  0.012254 -0.003475  0.054828  ...  0.008660 -0.013239  0.574670   \n",
       "1 -0.005748  0.000039 -0.006897 -0.000460  ... -0.000399  0.001480 -0.001948   \n",
       "2 -0.008458  0.001668 -0.002299  0.005867  ... -0.003254  0.013739  0.030947   \n",
       "3 -0.048332 -0.011528  0.012285 -0.056398  ...  0.117557 -0.320434 -0.311894   \n",
       "4 -0.079222 -0.004533 -0.025251 -0.031394  ... -0.040747  0.147858 -0.635068   \n",
       "5  0.679430 -0.028746  0.020504 -0.030313  ... -0.012651 -0.000953 -0.326706   \n",
       "6  0.150987 -0.006625 -0.002641 -0.007222  ...  0.000155 -0.004307  0.018599   \n",
       "7 -0.695523  0.027043 -0.025893  0.024996  ...  0.003314  0.030198 -0.220567   \n",
       "8 -0.110885  0.011116 -0.052367  0.028590  ...  0.150394  0.109146  0.038066   \n",
       "9  0.041496 -0.026209  0.106950 -0.095910  ... -0.048111 -0.011846  0.076621   \n",
       "\n",
       "     sunset  stnpressure  sealevel  resultspeed  resultdir  avgspeed  \\\n",
       "0 -0.814739     0.000555  0.000582    -0.003819   0.002049 -0.003259   \n",
       "1 -0.009290    -0.000173 -0.000022    -0.002118  -0.005398 -0.001376   \n",
       "2 -0.011073    -0.000135  0.000045    -0.003363  -0.004931 -0.003405   \n",
       "3 -0.176299     0.002071  0.002606     0.007309  -0.151852 -0.007066   \n",
       "4 -0.473018     0.000252  0.000058     0.024616  -0.460652  0.011065   \n",
       "5 -0.228242    -0.003015 -0.002995     0.085156   0.597224  0.096167   \n",
       "6  0.011071     0.000265  0.000162    -0.006975  -0.088180 -0.004748   \n",
       "7 -0.160136    -0.001555 -0.001448     0.056105   0.617021  0.047105   \n",
       "8  0.021963    -0.006328 -0.007395     0.421608  -0.007086  0.404406   \n",
       "9  0.044593    -0.003862 -0.002300     0.631399  -0.131151  0.467184   \n",
       "\n",
       "   precipbool  \n",
       "0   -0.001087  \n",
       "1    0.000142  \n",
       "2   -0.000598  \n",
       "3   -0.004558  \n",
       "4    0.001372  \n",
       "5    0.010335  \n",
       "6    0.000790  \n",
       "7   -0.007277  \n",
       "8    0.055431  \n",
       "9   -0.027856  \n",
       "\n",
       "[10 rows x 26 columns]"
      ]
     },
     "execution_count": 80,
     "metadata": {},
     "output_type": "execute_result"
    }
   ],
   "source": [
    "components = pd.DataFrame(pca.components_, columns=data.columns)\n",
    "components"
   ]
  },
  {
   "cell_type": "code",
   "execution_count": 81,
   "id": "ddeb261a-7269-4311-b44b-11808c1637ca",
   "metadata": {
    "tags": []
   },
   "outputs": [
    {
     "data": {
      "text/plain": [
       "['species',\n",
       " 'latitude',\n",
       " 'longitude',\n",
       " 'month',\n",
       " 'year',\n",
       " 'week',\n",
       " 'dayofweek',\n",
       " 'direction',\n",
       " 'heat',\n",
       " 'stnpressure',\n",
       " 'sealevel',\n",
       " 'precipbool']"
      ]
     },
     "execution_count": 81,
     "metadata": {},
     "output_type": "execute_result"
    }
   ],
   "source": [
    "# Calculate the number of times a feature has a low loading (absolute value less than 0.2) across all principal components\n",
    "low_loading_counts = (components.abs() < 0.2).sum(axis=0)\n",
    "\n",
    "# List the features that have low loadings across all 10 principal components\n",
    "discard_cols = low_loading_counts[low_loading_counts >= 10].index.tolist()\n",
    "discard_cols"
   ]
  },
  {
   "cell_type": "markdown",
   "id": "89238e19-b628-4e3e-8f05-2eaabc4cd967",
   "metadata": {},
   "source": [
    "Based on the PCA analysis, we will not drop any columns."
   ]
  },
  {
   "cell_type": "code",
   "execution_count": 82,
   "id": "bab380b1-9eb8-43e6-b999-fa9032a3ee21",
   "metadata": {
    "tags": []
   },
   "outputs": [
    {
     "data": {
      "text/plain": [
       "Index(['species', 'trap', 'latitude', 'longitude', 'block', 'addressaccuracy',\n",
       "       'wnvpresent', 'day', 'month', 'year', 'week', 'dayofweek', 'direction',\n",
       "       'tmax', 'tmin', 'tavg', 'wetbulb', 'heat', 'cool', 'sunrise', 'sunset',\n",
       "       'stnpressure', 'sealevel', 'resultspeed', 'resultdir', 'avgspeed',\n",
       "       'precipbool'],\n",
       "      dtype='object')"
      ]
     },
     "execution_count": 82,
     "metadata": {},
     "output_type": "execute_result"
    }
   ],
   "source": [
    "merge_train.columns"
   ]
  },
  {
   "cell_type": "code",
   "execution_count": 83,
   "id": "f88f0e62-cabd-4b7c-aebd-8f07deb567ca",
   "metadata": {
    "tags": []
   },
   "outputs": [
    {
     "data": {
      "text/html": [
       "<div>\n",
       "<style scoped>\n",
       "    .dataframe tbody tr th:only-of-type {\n",
       "        vertical-align: middle;\n",
       "    }\n",
       "\n",
       "    .dataframe tbody tr th {\n",
       "        vertical-align: top;\n",
       "    }\n",
       "\n",
       "    .dataframe thead th {\n",
       "        text-align: right;\n",
       "    }\n",
       "</style>\n",
       "<table border=\"1\" class=\"dataframe\">\n",
       "  <thead>\n",
       "    <tr style=\"text-align: right;\">\n",
       "      <th></th>\n",
       "      <th>species</th>\n",
       "      <th>trap</th>\n",
       "      <th>latitude</th>\n",
       "      <th>longitude</th>\n",
       "      <th>block</th>\n",
       "      <th>addressaccuracy</th>\n",
       "      <th>wnvpresent</th>\n",
       "      <th>day</th>\n",
       "      <th>month</th>\n",
       "      <th>year</th>\n",
       "      <th>...</th>\n",
       "      <th>heat</th>\n",
       "      <th>cool</th>\n",
       "      <th>sunrise</th>\n",
       "      <th>sunset</th>\n",
       "      <th>stnpressure</th>\n",
       "      <th>sealevel</th>\n",
       "      <th>resultspeed</th>\n",
       "      <th>resultdir</th>\n",
       "      <th>avgspeed</th>\n",
       "      <th>precipbool</th>\n",
       "    </tr>\n",
       "  </thead>\n",
       "  <tbody>\n",
       "    <tr>\n",
       "      <th>0</th>\n",
       "      <td>1</td>\n",
       "      <td>74</td>\n",
       "      <td>41.731922</td>\n",
       "      <td>-87.677512</td>\n",
       "      <td>22</td>\n",
       "      <td>8</td>\n",
       "      <td>0</td>\n",
       "      <td>29</td>\n",
       "      <td>5</td>\n",
       "      <td>2007</td>\n",
       "      <td>...</td>\n",
       "      <td>0.0</td>\n",
       "      <td>12.0</td>\n",
       "      <td>421.0</td>\n",
       "      <td>1917.0</td>\n",
       "      <td>29.44</td>\n",
       "      <td>30.09</td>\n",
       "      <td>5.8</td>\n",
       "      <td>16</td>\n",
       "      <td>7.4</td>\n",
       "      <td>0</td>\n",
       "    </tr>\n",
       "    <tr>\n",
       "      <th>1</th>\n",
       "      <td>2</td>\n",
       "      <td>35</td>\n",
       "      <td>41.867108</td>\n",
       "      <td>-87.654224</td>\n",
       "      <td>11</td>\n",
       "      <td>8</td>\n",
       "      <td>0</td>\n",
       "      <td>29</td>\n",
       "      <td>5</td>\n",
       "      <td>2007</td>\n",
       "      <td>...</td>\n",
       "      <td>0.0</td>\n",
       "      <td>12.0</td>\n",
       "      <td>421.0</td>\n",
       "      <td>1917.0</td>\n",
       "      <td>29.44</td>\n",
       "      <td>30.09</td>\n",
       "      <td>5.8</td>\n",
       "      <td>16</td>\n",
       "      <td>7.4</td>\n",
       "      <td>0</td>\n",
       "    </tr>\n",
       "    <tr>\n",
       "      <th>2</th>\n",
       "      <td>2</td>\n",
       "      <td>37</td>\n",
       "      <td>41.919343</td>\n",
       "      <td>-87.694259</td>\n",
       "      <td>21</td>\n",
       "      <td>8</td>\n",
       "      <td>0</td>\n",
       "      <td>29</td>\n",
       "      <td>5</td>\n",
       "      <td>2007</td>\n",
       "      <td>...</td>\n",
       "      <td>0.0</td>\n",
       "      <td>12.0</td>\n",
       "      <td>421.0</td>\n",
       "      <td>1917.0</td>\n",
       "      <td>29.44</td>\n",
       "      <td>30.09</td>\n",
       "      <td>5.8</td>\n",
       "      <td>16</td>\n",
       "      <td>7.4</td>\n",
       "      <td>0</td>\n",
       "    </tr>\n",
       "    <tr>\n",
       "      <th>3</th>\n",
       "      <td>2</td>\n",
       "      <td>39</td>\n",
       "      <td>41.921965</td>\n",
       "      <td>-87.632085</td>\n",
       "      <td>22</td>\n",
       "      <td>8</td>\n",
       "      <td>0</td>\n",
       "      <td>29</td>\n",
       "      <td>5</td>\n",
       "      <td>2007</td>\n",
       "      <td>...</td>\n",
       "      <td>0.0</td>\n",
       "      <td>12.0</td>\n",
       "      <td>421.0</td>\n",
       "      <td>1917.0</td>\n",
       "      <td>29.44</td>\n",
       "      <td>30.09</td>\n",
       "      <td>5.8</td>\n",
       "      <td>16</td>\n",
       "      <td>7.4</td>\n",
       "      <td>0</td>\n",
       "    </tr>\n",
       "    <tr>\n",
       "      <th>4</th>\n",
       "      <td>2</td>\n",
       "      <td>65</td>\n",
       "      <td>41.688324</td>\n",
       "      <td>-87.676709</td>\n",
       "      <td>22</td>\n",
       "      <td>8</td>\n",
       "      <td>0</td>\n",
       "      <td>29</td>\n",
       "      <td>5</td>\n",
       "      <td>2007</td>\n",
       "      <td>...</td>\n",
       "      <td>0.0</td>\n",
       "      <td>12.0</td>\n",
       "      <td>421.0</td>\n",
       "      <td>1917.0</td>\n",
       "      <td>29.44</td>\n",
       "      <td>30.09</td>\n",
       "      <td>5.8</td>\n",
       "      <td>16</td>\n",
       "      <td>7.4</td>\n",
       "      <td>0</td>\n",
       "    </tr>\n",
       "  </tbody>\n",
       "</table>\n",
       "<p>5 rows × 27 columns</p>\n",
       "</div>"
      ],
      "text/plain": [
       "   species  trap   latitude  longitude  block  addressaccuracy  wnvpresent  \\\n",
       "0        1    74  41.731922 -87.677512     22                8           0   \n",
       "1        2    35  41.867108 -87.654224     11                8           0   \n",
       "2        2    37  41.919343 -87.694259     21                8           0   \n",
       "3        2    39  41.921965 -87.632085     22                8           0   \n",
       "4        2    65  41.688324 -87.676709     22                8           0   \n",
       "\n",
       "   day  month  year  ...  heat  cool  sunrise  sunset  stnpressure  sealevel  \\\n",
       "0   29      5  2007  ...   0.0  12.0    421.0  1917.0        29.44     30.09   \n",
       "1   29      5  2007  ...   0.0  12.0    421.0  1917.0        29.44     30.09   \n",
       "2   29      5  2007  ...   0.0  12.0    421.0  1917.0        29.44     30.09   \n",
       "3   29      5  2007  ...   0.0  12.0    421.0  1917.0        29.44     30.09   \n",
       "4   29      5  2007  ...   0.0  12.0    421.0  1917.0        29.44     30.09   \n",
       "\n",
       "   resultspeed  resultdir  avgspeed  precipbool  \n",
       "0          5.8         16       7.4           0  \n",
       "1          5.8         16       7.4           0  \n",
       "2          5.8         16       7.4           0  \n",
       "3          5.8         16       7.4           0  \n",
       "4          5.8         16       7.4           0  \n",
       "\n",
       "[5 rows x 27 columns]"
      ]
     },
     "execution_count": 83,
     "metadata": {},
     "output_type": "execute_result"
    }
   ],
   "source": [
    "merge_train.head()"
   ]
  },
  {
   "cell_type": "code",
   "execution_count": 84,
   "id": "8df5feac-36e8-4fef-82fc-2179fac7e2e5",
   "metadata": {
    "tags": []
   },
   "outputs": [
    {
     "data": {
      "image/png": "[encoded data removed]",
      "text/plain": [
       "<Figure size 640x480 with 1 Axes>"
      ]
     },
     "metadata": {},
     "output_type": "display_data"
    }
   ],
   "source": [
    "total = merge_train.groupby('direction')['wnvpresent'].sum().sum()\n",
    "\n",
    "percentages = (merge_train.groupby('direction')['wnvpresent'].sum() * 100 / total)\n",
    "\n",
    "tavg_values = merge_train[merge_train['wnvpresent'] == 1].groupby('direction')['tavg'].mean()\n",
    "\n",
    "ax = percentages.plot(kind=\"barh\", color=\"turquoise\")\n",
    "plt.yticks(ticks=[0, 1, 2, 3], labels=[\"North\", \"West\", \"South\", \"East\"])\n",
    "plt.ylabel('Street Direction')\n",
    "plt.xlabel('Percentage of WNV Present')\n",
    "plt.title('Effect of Direction on Presence of Virus')\n",
    "\n",
    "for i, (percentage, tavg) in enumerate(zip(percentages, tavg_values)):\n",
    "    ax.text(1, i, f\"{tavg:.2f}°C\", va='baseline', fontweight='bold')\n",
    "\n",
    "plt.tight_layout()\n",
    "plt.show()"
   ]
  },
  {
   "cell_type": "code",
   "execution_count": 85,
   "id": "5107de67-917d-4c37-b2ab-a4c9e77abaae",
   "metadata": {
    "tags": []
   },
   "outputs": [],
   "source": [
    "resultdir_values = merge_train['resultdir'].value_counts()"
   ]
  },
  {
   "cell_type": "code",
   "execution_count": 86,
   "id": "0cac7b5a-15a3-4edb-bd13-5c29f62f765f",
   "metadata": {
    "tags": []
   },
   "outputs": [
    {
     "data": {
      "text/plain": [
       "{24: 'West',\n",
       " 23: 'West',\n",
       " 19: 'Southwest',\n",
       " 13: 'South',\n",
       " 25: 'West',\n",
       " 29: 'Northwest',\n",
       " 5: 'Northeast',\n",
       " 17: 'South',\n",
       " 21: 'Southwest',\n",
       " 6: 'Northeast',\n",
       " 30: 'Northwest',\n",
       " 7: 'East',\n",
       " 8: 'East',\n",
       " 16: 'South',\n",
       " 22: 'West',\n",
       " 3: 'North',\n",
       " 4: 'Northeast',\n",
       " 10: 'Southeast',\n",
       " 9: 'East',\n",
       " 36: 'North',\n",
       " 20: 'Southwest',\n",
       " 18: 'South',\n",
       " 35: 'North',\n",
       " 34: 'North',\n",
       " 15: 'South',\n",
       " 11: 'Southeast',\n",
       " 27: 'West',\n",
       " 2: 'North',\n",
       " 14: 'South',\n",
       " 26: 'West',\n",
       " 31: 'Northwest',\n",
       " 12: 'Southeast',\n",
       " 32: 'Northwest',\n",
       " 33: 'Northwest',\n",
       " 1: 'North',\n",
       " 28: 'Northwest'}"
      ]
     },
     "execution_count": 86,
     "metadata": {},
     "output_type": "execute_result"
    }
   ],
   "source": [
    "def classify_wind_direction(result_dir_value):\n",
    "    \"\"\"Classify wind direction into more granular categories based on ResultDir value.\"\"\"\n",
    "    if 1 <= result_dir_value <= 3 or 34 <= result_dir_value <= 36:\n",
    "        return 'North'\n",
    "    elif 4 <= result_dir_value <= 6:\n",
    "        return 'Northeast'\n",
    "    elif 7 <= result_dir_value <= 9:\n",
    "        return 'East'\n",
    "    elif 10 <= result_dir_value <= 12:\n",
    "        return 'Southeast'\n",
    "    elif 13 <= result_dir_value <= 18:\n",
    "        return 'South'\n",
    "    elif 19 <= result_dir_value <= 21:\n",
    "        return 'Southwest'\n",
    "    elif 22 <= result_dir_value <= 27:\n",
    "        return 'West'\n",
    "    elif 28 <= result_dir_value <= 33:\n",
    "        return 'Northwest'\n",
    "\n",
    "# Apply the granular classification to your ResultDir values\n",
    "wind_dir = {dir_value: classify_wind_direction(dir_value) for dir_value in resultdir_values.keys()}\n",
    "wind_dir"
   ]
  },
  {
   "cell_type": "code",
   "execution_count": 87,
   "id": "9a043315-bb88-41ff-8b31-734859e1a403",
   "metadata": {
    "tags": []
   },
   "outputs": [],
   "source": [
    "merge_train['winddir'] = merge_train['resultdir'].map(wind_dir)"
   ]
  },
  {
   "cell_type": "code",
   "execution_count": 88,
   "id": "9beb43d3-4821-4e94-8dad-0cf660db7b0b",
   "metadata": {
    "tags": []
   },
   "outputs": [],
   "source": [
    "merge_test['winddir'] = merge_test['resultdir'].map(wind_dir)"
   ]
  },
  {
   "cell_type": "code",
   "execution_count": 89,
   "id": "85cccc6b-c89d-4a62-8b42-bb1bc8465b1f",
   "metadata": {
    "tags": []
   },
   "outputs": [
    {
     "data": {
      "text/plain": [
       "winddir\n",
       "Northwest     23\n",
       "Southeast     27\n",
       "North         33\n",
       "East          34\n",
       "Northeast     67\n",
       "South         72\n",
       "Southwest     72\n",
       "West         129\n",
       "Name: wnvpresent, dtype: int64"
      ]
     },
     "execution_count": 89,
     "metadata": {},
     "output_type": "execute_result"
    }
   ],
   "source": [
    "merge_train.groupby('winddir')['wnvpresent'].sum().sort_values()"
   ]
  },
  {
   "cell_type": "code",
   "execution_count": 90,
   "id": "f712cd37-3688-42ce-8172-8802a96e1def",
   "metadata": {
    "tags": []
   },
   "outputs": [],
   "source": [
    "encoder = LabelEncoder()\n",
    "encoder.fit(merge_train['winddir'].tolist() + [\"UNKNOWN\"])\n",
    "merge_train['winddir'] = encoder.transform(merge_train['winddir'])\n",
    "merge_test['winddir'] = merge_test['winddir'].map(lambda s: s if s in encoder.classes_ else \"UNKNOWN\")\n",
    "merge_test['winddir'] = encoder.transform(merge_test['winddir'])"
   ]
  },
  {
   "cell_type": "code",
   "execution_count": 91,
   "id": "0acfec6a-b0ac-4bb5-8369-e879c39d346c",
   "metadata": {
    "tags": []
   },
   "outputs": [
    {
     "data": {
      "text/plain": [
       "winddir\n",
       "8    2065\n",
       "4    1513\n",
       "6    1021\n",
       "2     981\n",
       "3     907\n",
       "1     813\n",
       "0     810\n",
       "5     365\n",
       "Name: count, dtype: int64"
      ]
     },
     "execution_count": 91,
     "metadata": {},
     "output_type": "execute_result"
    }
   ],
   "source": [
    "merge_train['winddir'].value_counts()"
   ]
  },
  {
   "cell_type": "code",
   "execution_count": 92,
   "id": "115e2350-017e-4f5d-9f0c-9e487b44d65f",
   "metadata": {
    "tags": []
   },
   "outputs": [],
   "source": [
    "# Create function to classify wind speed based on the Beaufort Wind Scale\n",
    "# https://www.weather.gov/mfl/beaufort\n",
    "\n",
    "# def classify_wind_speed(speed_mph):\n",
    "#     if speed_mph <= 3:\n",
    "#         return \"Light Air\"\n",
    "#     elif 3 < speed_mph <= 7:\n",
    "#         return \"Light Breeze\"\n",
    "#     elif 7 < speed_mph <= 12:\n",
    "#         return \"Gentle Breeze\"\n",
    "#     elif 12 < speed_mph <= 18:\n",
    "#         return \"Moderate Breeze\"\n",
    "#     elif 18 < speed_mph <= 24:\n",
    "#         return \"Fresh Breeze\"\n",
    "#     elif 24 < speed_mph <= 31:\n",
    "#         return \"Strong Breeze\"\n",
    "#     elif 31 < speed_mph <= 38:\n",
    "#         return \"Near Gale\"\n",
    "#     elif 38 < speed_mph <= 46:\n",
    "#         return \"Gale\"\n",
    "#     elif 46 < speed_mph <= 54:\n",
    "#         return \"Strong Gale\"\n",
    "#     else:\n",
    "#         return \"Storm\""
   ]
  },
  {
   "cell_type": "code",
   "execution_count": 93,
   "id": "d52f5b1c-3b77-47b4-9d57-6c66bfdfad24",
   "metadata": {
    "tags": []
   },
   "outputs": [],
   "source": [
    "# merge_train['windtype'] = merge_train['resultspeed'].apply(classify_wind_speed)\n",
    "# merge_test['windtype'] = merge_test['resultspeed'].apply(classify_wind_speed)"
   ]
  },
  {
   "cell_type": "code",
   "execution_count": 94,
   "id": "07875cca-4741-4167-925e-009279c52bf5",
   "metadata": {
    "tags": []
   },
   "outputs": [],
   "source": [
    "# merge_train['windtype'].value_counts()"
   ]
  },
  {
   "cell_type": "code",
   "execution_count": 95,
   "id": "6e368bea-5893-49d2-a586-153ea3be99ef",
   "metadata": {
    "tags": []
   },
   "outputs": [],
   "source": [
    "# merge_train.groupby('windtype')['wnvpresent'].sum()"
   ]
  },
  {
   "cell_type": "code",
   "execution_count": 96,
   "id": "42a563b7-ac06-4caa-9e69-b0458ea284ff",
   "metadata": {},
   "outputs": [],
   "source": [
    "# encoder = LabelEncoder()\n",
    "# encoder.fit(merge_train['windtype'].tolist() + [\"UNKNOWN\"])\n",
    "# merge_train['windtype'] = encoder.transform(merge_train['windtype'])\n",
    "# merge_test['windtype'] = merge_test['windtype'].map(lambda s: s if s in encoder.classes_ else \"UNKNOWN\")\n",
    "# merge_test['windtype'] = encoder.transform(merge_test['windtype'])"
   ]
  },
  {
   "cell_type": "markdown",
   "id": "e2138eb0-8c73-4088-b183-7571d141091a",
   "metadata": {},
   "source": [
    "## Modelling"
   ]
  },
  {
   "cell_type": "markdown",
   "id": "363ef7ad-0b9c-4bd0-88bc-dd75a2853b1f",
   "metadata": {},
   "source": [
    "#### Import Libraries"
   ]
  },
  {
   "cell_type": "code",
   "execution_count": 97,
   "id": "344d6f78-b0ed-457f-b644-df43fdd9be69",
   "metadata": {},
   "outputs": [],
   "source": [
    "from sklearn.model_selection import train_test_split, cross_val_score, GridSearchCV, StratifiedKFold, KFold\n",
    "from sklearn.metrics import classification_report, roc_auc_score, confusion_matrix, make_scorer\n",
    "from sklearn.linear_model import LogisticRegression\n",
    "from sklearn.ensemble import RandomForestClassifier, AdaBoostClassifier, StackingClassifier, VotingClassifier\n",
    "from sklearn.tree import DecisionTreeClassifier\n",
    "from sklearn.svm import SVC\n",
    "from sklearn.neural_network import MLPClassifier\n",
    "\n",
    "from imblearn.over_sampling import SMOTE\n",
    "from imblearn.under_sampling import TomekLinks\n",
    "from imblearn.combine import SMOTETomek\n",
    "from imblearn.pipeline import Pipeline as ImbPipeline\n",
    "\n",
    "import lightgbm as lgb\n",
    "\n",
    "import xgboost as xgb\n",
    "\n",
    "from tensorflow.keras.models import Sequential\n",
    "from tensorflow.keras.layers import Input, Dense, Dropout\n",
    "from tensorflow.keras.optimizers import Adam\n",
    "from tensorflow.keras.metrics import AUC"
   ]
  },
  {
   "cell_type": "markdown",
   "id": "9d69c1bf-f040-4f0c-b651-2185c47c696b",
   "metadata": {},
   "source": [
    "#### Define X and y"
   ]
  },
  {
   "cell_type": "code",
   "execution_count": 98,
   "id": "cd9b41df-a374-46da-b951-8f07ad1bd542",
   "metadata": {
    "tags": []
   },
   "outputs": [],
   "source": [
    "X = merge_train.drop(columns='wnvpresent')\n",
    "y = merge_train['wnvpresent']"
   ]
  },
  {
   "cell_type": "code",
   "execution_count": 99,
   "id": "0b87c6a2-aa4e-4afa-8ddc-ba4149544113",
   "metadata": {
    "tags": []
   },
   "outputs": [
    {
     "data": {
      "text/plain": [
       "(8475, 27)"
      ]
     },
     "execution_count": 99,
     "metadata": {},
     "output_type": "execute_result"
    }
   ],
   "source": [
    "X.shape"
   ]
  },
  {
   "cell_type": "code",
   "execution_count": 100,
   "id": "7c29ec72-1aa8-4852-987e-8d2937c7ab98",
   "metadata": {
    "tags": []
   },
   "outputs": [
    {
     "data": {
      "text/plain": [
       "wnvpresent\n",
       "0    8018\n",
       "1     457\n",
       "Name: count, dtype: int64"
      ]
     },
     "execution_count": 100,
     "metadata": {},
     "output_type": "execute_result"
    }
   ],
   "source": [
    "# Dataset is imbalanced\n",
    "y.value_counts()"
   ]
  },
  {
   "cell_type": "markdown",
   "id": "26717e6b-31f7-4442-84c3-4b117f761855",
   "metadata": {
    "tags": []
   },
   "source": [
    "#### Train Test Split"
   ]
  },
  {
   "cell_type": "code",
   "execution_count": 101,
   "id": "28382e2a-05a3-4362-ac6b-5fbacfc5f524",
   "metadata": {
    "tags": []
   },
   "outputs": [],
   "source": [
    "X_train, X_test, y_train, y_test = train_test_split(X, y, test_size=0.3, random_state=42, stratify=y)"
   ]
  },
  {
   "cell_type": "markdown",
   "id": "360cbfe7-5564-462e-8add-57152882e9bb",
   "metadata": {},
   "source": [
    "#### Scale & Sample the Data"
   ]
  },
  {
   "cell_type": "code",
   "execution_count": 102,
   "id": "d7fe1f20-9c70-42f6-b369-22576867299a",
   "metadata": {
    "tags": []
   },
   "outputs": [],
   "source": [
    "scaler = StandardScaler()\n",
    "\n",
    "X_train = scaler.fit_transform(X_train)\n",
    "X_test = scaler.transform(X_test)\n",
    "\n",
    "smotetomek = SMOTETomek(random_state=42)\n",
    "X_train, y_train = smotetomek.fit_resample(X_train, y_train)"
   ]
  },
  {
   "cell_type": "markdown",
   "id": "bfe83729-d030-4a10-ba85-4bc58ae78bce",
   "metadata": {},
   "source": [
    "#### Feature Importance Plot"
   ]
  },
  {
   "cell_type": "code",
   "execution_count": 103,
   "id": "69934eac-7b09-4990-990c-99a0fdda283f",
   "metadata": {
    "tags": []
   },
   "outputs": [],
   "source": [
    "def feature_plot(feature_importance, num_features):\n",
    "    sorted_idx = np.argsort(feature_importance)[::-1][:num_features]\n",
    "    \n",
    "    plt.figure(figsize=(5, 6))\n",
    "    plt.barh(range(num_features), feature_importance[sorted_idx], align='center', color='navy')\n",
    "    plt.yticks(range(num_features), X.columns[sorted_idx])\n",
    "    plt.xlabel(\"Feature Importance\")\n",
    "    plt.ylabel(\"Feature\")\n",
    "    plt.title(f\"Top {num_features} Important Features\")\n",
    "    plt.gca().invert_yaxis() \n",
    "    plt.tight_layout()\n",
    "    plt.show()"
   ]
  },
  {
   "cell_type": "markdown",
   "id": "a8ae1e47-e5ef-4ec3-8b8b-470989994503",
   "metadata": {},
   "source": [
    "#### Kaggle Submission"
   ]
  },
  {
   "cell_type": "code",
   "execution_count": 104,
   "id": "3a5a8231-69fc-4985-a843-b0cf8584be42",
   "metadata": {},
   "outputs": [],
   "source": [
    "def submit(best_model, name):\n",
    "    global merge_test\n",
    "\n",
    "    # Ensure merge_test only has columns present in X\n",
    "    for col in merge_test.columns:\n",
    "        if col not in X.columns:\n",
    "            merge_test.drop(col, axis=1, inplace=True)\n",
    "\n",
    "    # Ensure merge_test has all columns present in X, fill with 0 if not\n",
    "    for col in X.columns:\n",
    "        if col not in merge_test.columns:\n",
    "            merge_test[col] = 0\n",
    "    \n",
    "    # Reorder columns in merge_test to match order in X\n",
    "    merge_test = merge_test[X.columns]\n",
    "\n",
    "    # Scale the test set\n",
    "    df_scaled = scaler.transform(merge_test)\n",
    "\n",
    "    # Predict using the appropriate method based on the model type\n",
    "    if isinstance(best_model, Sequential):\n",
    "        # For Keras models\n",
    "        preds = best_model.predict(df_scaled).flatten()\n",
    "    elif \"lightgbm\" in str(type(best_model)):\n",
    "        # For LightGBM models using the native API\n",
    "        preds = best_model.predict(df_scaled)       \n",
    "    else:\n",
    "        # For scikit-learn models\n",
    "        preds = best_model.predict_proba(df_scaled)[:, 1]\n",
    "\n",
    "    # Create the submission dataframe\n",
    "    submission_df = merge_test.copy(deep=True)\n",
    "    submission_df['wnvpresent'] = preds\n",
    "    submission_df['id'] = range(1, len(submission_df) + 1)\n",
    "\n",
    "    # Extract only the required columns and save to CSV\n",
    "    kaggle_df = submission_df[['id', 'wnvpresent']]\n",
    "    kaggle_df.to_csv(f\"./submissions/kaggle_submission_{name}.csv\", index=False)"
   ]
  },
  {
   "cell_type": "markdown",
   "id": "0a20e2af-5475-4afb-ab32-e0e05ec36267",
   "metadata": {},
   "source": [
    "#### [Baseline Model] Logistic Regression"
   ]
  },
  {
   "cell_type": "code",
   "execution_count": 105,
   "id": "99ed498f-f36f-43cb-b6cc-37509117be82",
   "metadata": {
    "tags": []
   },
   "outputs": [
    {
     "name": "stdout",
     "output_type": "stream",
     "text": [
      "Cross-validated scores: [0.75       0.759375   0.74196429 0.74196429 0.74598214]\n",
      "Average cross-validation score: 0.75\n",
      "Standard deviation: 0.01\n"
     ]
    }
   ],
   "source": [
    "logreg = LogisticRegression(max_iter=10000)\n",
    "\n",
    "# Use cross_val_score to get the scores for each fold\n",
    "scores = cross_val_score(logreg, X_train, y_train, cv=5)\n",
    "\n",
    "# Print the accuracy for each fold\n",
    "print(\"Cross-validated scores:\", scores)\n",
    "\n",
    "# Print the average accuracy and standard deviation\n",
    "print(\"Average cross-validation score: {:.2f}\".format(scores.mean()))\n",
    "print(\"Standard deviation: {:.2f}\".format(scores.std()))\n",
    "\n",
    "# If satisfied with the cross-validation scores:\n",
    "# Fit the model on the entire training set\n",
    "logreg.fit(X_train, y_train)\n",
    "\n",
    "# Make predictions on the test set\n",
    "y_pred = logreg.predict(X_test)"
   ]
  },
  {
   "cell_type": "code",
   "execution_count": 106,
   "id": "5b9ebb02-ba85-4c4d-bc97-9c9c76af686e",
   "metadata": {
    "tags": []
   },
   "outputs": [
    {
     "name": "stdout",
     "output_type": "stream",
     "text": [
      "ROC-AUC:  0.7364693497400052\n",
      "\n",
      "Confusion Matrix:\n",
      " [[1735  671]\n",
      " [  34  103]]\n",
      "\n",
      "Classification Report:\n",
      "               precision    recall  f1-score   support\n",
      "\n",
      "           0       0.98      0.72      0.83      2406\n",
      "           1       0.13      0.75      0.23       137\n",
      "\n",
      "    accuracy                           0.72      2543\n",
      "   macro avg       0.56      0.74      0.53      2543\n",
      "weighted avg       0.94      0.72      0.80      2543\n",
      "\n"
     ]
    }
   ],
   "source": [
    "print(\"ROC-AUC: \", roc_auc_score(y_test, y_pred))\n",
    "print(\"\\nConfusion Matrix:\\n\", confusion_matrix(y_test, y_pred))\n",
    "print(\"\\nClassification Report:\\n\", classification_report(y_test, y_pred))"
   ]
  },
  {
   "cell_type": "code",
   "execution_count": 107,
   "id": "0ce00fb4-a396-4c06-a263-556db7146013",
   "metadata": {
    "tags": []
   },
   "outputs": [
    {
     "data": {
      "image/png": "[encoded data removed]",
      "text/plain": [
       "<Figure size 500x600 with 1 Axes>"
      ]
     },
     "metadata": {},
     "output_type": "display_data"
    }
   ],
   "source": [
    "feature_importance = np.abs(logreg.coef_).ravel()\n",
    "feature_plot(feature_importance,22)"
   ]
  },
  {
   "cell_type": "code",
   "execution_count": 108,
   "id": "5c7d1c3f-9214-49c4-b48c-a07026856d14",
   "metadata": {
    "tags": []
   },
   "outputs": [],
   "source": [
    "submit(logreg,\"logistic\")"
   ]
  },
  {
   "cell_type": "markdown",
   "id": "b67559d7-1519-4f37-a785-a524946e4d5f",
   "metadata": {},
   "source": [
    "#### SVM"
   ]
  },
  {
   "cell_type": "code",
   "execution_count": 109,
   "id": "1a160da9-02c3-457e-987b-a378f866aefb",
   "metadata": {
    "tags": []
   },
   "outputs": [],
   "source": [
    "svm = SVC(kernel='rbf', class_weight='balanced', C=5, probability=True)  # Using a linear kernel and balanced class weights\n",
    "svm.fit(X_train, y_train)\n",
    "\n",
    "y_pred = svm.predict(X_test)"
   ]
  },
  {
   "cell_type": "code",
   "execution_count": 110,
   "id": "45b52e7c-ffe5-4671-b326-801081185f18",
   "metadata": {
    "tags": []
   },
   "outputs": [
    {
     "name": "stdout",
     "output_type": "stream",
     "text": [
      "ROC-AUC:  0.74686155657086\n",
      "\n",
      "Confusion Matrix:\n",
      " [[2066  340]\n",
      " [  50   87]]\n",
      "\n",
      "Classification Report:\n",
      "               precision    recall  f1-score   support\n",
      "\n",
      "           0       0.98      0.86      0.91      2406\n",
      "           1       0.20      0.64      0.31       137\n",
      "\n",
      "    accuracy                           0.85      2543\n",
      "   macro avg       0.59      0.75      0.61      2543\n",
      "weighted avg       0.93      0.85      0.88      2543\n",
      "\n"
     ]
    }
   ],
   "source": [
    "print(\"ROC-AUC: \", roc_auc_score(y_test, y_pred))\n",
    "print(\"\\nConfusion Matrix:\\n\", confusion_matrix(y_test, y_pred))\n",
    "print(\"\\nClassification Report:\\n\", classification_report(y_test, y_pred))"
   ]
  },
  {
   "cell_type": "code",
   "execution_count": 111,
   "id": "209b2224-a41c-44b7-a253-781836930f39",
   "metadata": {
    "tags": []
   },
   "outputs": [],
   "source": [
    "submit(svm,\"svm\")"
   ]
  },
  {
   "cell_type": "code",
   "execution_count": 112,
   "id": "2d59384d-3e69-4933-be05-4f6341b09d71",
   "metadata": {
    "tags": []
   },
   "outputs": [],
   "source": [
    "# Get the feature importance (absolute value of coefficients)\n",
    "# feature_importance = np.abs(svm.coef_).ravel()\n",
    "\n",
    "# feature_plot(feature_importance, 30)"
   ]
  },
  {
   "cell_type": "markdown",
   "id": "b89df98a-1f4e-4fca-9249-9f3ddb14de4f",
   "metadata": {},
   "source": [
    "#### Light GBM"
   ]
  },
  {
   "cell_type": "code",
   "execution_count": 113,
   "id": "d1426597-1893-48ec-ae43-1d68907a3fd0",
   "metadata": {},
   "outputs": [],
   "source": [
    "d_train = lgb.Dataset(X_train, label=y_train)"
   ]
  },
  {
   "cell_type": "code",
   "execution_count": 114,
   "id": "95d34441-f30f-4938-922d-68d89cbd6328",
   "metadata": {},
   "outputs": [],
   "source": [
    "params = {\n",
    "    'objective': 'binary',\n",
    "    'metric': 'auc',\n",
    "    'boosting_type': 'gbdt',\n",
    "    'num_leaves': 5,\n",
    "    'feature_fraction': 0.5,\n",
    "    'bagging_fraction': 0.5,\n",
    "    'bagging_freq': 20,\n",
    "    'learning_rate': 0.05,\n",
    "    'verbose': 0\n",
    "}\n"
   ]
  },
  {
   "cell_type": "code",
   "execution_count": 115,
   "id": "ecb4d629-15d9-4a71-b9cb-3737c1543afc",
   "metadata": {},
   "outputs": [],
   "source": [
    "clf = lgb.train(params, d_train, 100)\n",
    "y_pred = clf.predict(X_test, num_iteration=clf.best_iteration)"
   ]
  },
  {
   "cell_type": "code",
   "execution_count": 116,
   "id": "574e88ce-d3db-4647-9a8a-bcad4b6742ac",
   "metadata": {
    "tags": []
   },
   "outputs": [],
   "source": [
    "submit(clf,\"single light\")"
   ]
  },
  {
   "cell_type": "code",
   "execution_count": 117,
   "id": "a218097c-a079-4225-8119-3c35a003f8b4",
   "metadata": {},
   "outputs": [
    {
     "name": "stdout",
     "output_type": "stream",
     "text": [
      "ROC-AUC:  0.850166251039069\n"
     ]
    },
    {
     "data": {
      "image/png": "[encoded data removed]",
      "text/plain": [
       "<Figure size 800x600 with 1 Axes>"
      ]
     },
     "metadata": {},
     "output_type": "display_data"
    },
    {
     "name": "stdout",
     "output_type": "stream",
     "text": [
      "\n",
      "Classification Report:\n",
      "               precision    recall  f1-score   support\n",
      "\n",
      "           0       0.97      0.90      0.93      2406\n",
      "           1       0.21      0.49      0.30       137\n",
      "\n",
      "    accuracy                           0.87      2543\n",
      "   macro avg       0.59      0.69      0.61      2543\n",
      "weighted avg       0.93      0.87      0.90      2543\n",
      "\n"
     ]
    }
   ],
   "source": [
    "print(\"ROC-AUC: \", roc_auc_score(y_test, y_pred))\n",
    "\n",
    "# Convert probabilities to class labels\n",
    "threshold = 0.5\n",
    "y_pred_class = [1 if prob > threshold else 0 for prob in y_pred]\n",
    "\n",
    "# Compute confusion matrix\n",
    "cm = confusion_matrix(y_test, y_pred_class)\n",
    "\n",
    "# Plot confusion matrix\n",
    "plt.figure(figsize=(8, 6))\n",
    "sns.heatmap(cm, annot=True, fmt='g', cmap='Blues', cbar=False)\n",
    "plt.xlabel('Predicted')\n",
    "plt.ylabel('Actual')\n",
    "plt.title('Confusion Matrix')\n",
    "plt.show()\n",
    "\n",
    "print(\"\\nClassification Report:\\n\", classification_report(y_test, y_pred_class))"
   ]
  },
  {
   "cell_type": "code",
   "execution_count": 118,
   "id": "24daec9d-e34e-4acc-bd2b-2431bd4f031f",
   "metadata": {
    "tags": []
   },
   "outputs": [
    {
     "data": {
      "image/png": "[encoded data removed]",
      "text/plain": [
       "<Figure size 2000x1000 with 1 Axes>"
      ]
     },
     "metadata": {},
     "output_type": "display_data"
    }
   ],
   "source": [
    "feature_imp = pd.DataFrame(sorted(zip(clf.feature_importance(), X.columns)), columns=['Value','Feature'])\n",
    "plt.figure(figsize=(20, 10))\n",
    "sns.barplot(x=\"Value\", y=\"Feature\", data=feature_imp.sort_values(by=\"Value\", ascending=False).head(30))\n",
    "plt.title('LightGBM Features (avg over folds)')\n",
    "plt.tight_layout()\n",
    "plt.show()"
   ]
  },
  {
   "cell_type": "markdown",
   "id": "f0d1d33c-6a89-4d00-9dae-1a585e0d07c9",
   "metadata": {},
   "source": [
    "#### Voting Classifier"
   ]
  },
  {
   "cell_type": "code",
   "execution_count": 119,
   "id": "bf71794b-a922-46ae-a031-6f373c52b583",
   "metadata": {
    "tags": []
   },
   "outputs": [
    {
     "name": "stdout",
     "output_type": "stream",
     "text": [
      "\n",
      "Classification Report:\n",
      "               precision    recall  f1-score   support\n",
      "\n",
      "           0       0.98      0.85      0.91      2406\n",
      "           1       0.20      0.67      0.31       137\n",
      "\n",
      "    accuracy                           0.84      2543\n",
      "   macro avg       0.59      0.76      0.61      2543\n",
      "weighted avg       0.94      0.84      0.88      2543\n",
      "\n"
     ]
    }
   ],
   "source": [
    "pipeline_lr = ImbPipeline([\n",
    "    # Uncomment the below lines if needed\n",
    "    # ('ss', StandardScaler()),\n",
    "    # ('pca', PCA(n_components=15)), \n",
    "    # ('smote_tomek', SMOTETomek()),\n",
    "    ('classifier', LogisticRegression(max_iter=10000, solver='saga', C=0.5, penalty='l1'))\n",
    "])\n",
    "\n",
    "pipeline_svm = ImbPipeline([\n",
    "    # Uncomment the below lines if needed\n",
    "    # ('ss', StandardScaler()),\n",
    "    # ('pca', PCA(n_components=15)), \n",
    "    # ('smote_tomek', SMOTETomek()),\n",
    "    ('classifier', SVC(probability=True))  # Ensure probability=True for soft voting\n",
    "])\n",
    "\n",
    "voting_clf_lrsvm = VotingClassifier(\n",
    "    estimators=[\n",
    "        ('lr', pipeline_lr), \n",
    "        ('svm', pipeline_svm)\n",
    "    ],\n",
    "    voting='soft'\n",
    ")\n",
    "\n",
    "voting_clf_lrsvm.fit(X_train, y_train)\n",
    "y_pred = voting_clf_lrsvm.predict(X_test)\n",
    "print(\"\\nClassification Report:\\n\", classification_report(y_test, y_pred))"
   ]
  },
  {
   "cell_type": "code",
   "execution_count": 120,
   "id": "486101ec-0c55-4eaa-b62c-1402ffc9a782",
   "metadata": {
    "tags": []
   },
   "outputs": [
    {
     "name": "stdout",
     "output_type": "stream",
     "text": [
      "ROC-AUC:  0.7588753177882545\n"
     ]
    }
   ],
   "source": [
    "print(\"ROC-AUC: \", roc_auc_score(y_test, y_pred))"
   ]
  },
  {
   "cell_type": "code",
   "execution_count": 121,
   "id": "633fc484-0e95-4878-90e9-30ecf7de8c6a",
   "metadata": {
    "tags": []
   },
   "outputs": [],
   "source": [
    "submit(voting_clf_lrsvm,\"voting\")"
   ]
  },
  {
   "cell_type": "markdown",
   "id": "e3c8dc33-8da6-4d87-97a0-347879611b10",
   "metadata": {},
   "source": [
    "### Stochastic Gradient Descent (Kaggle Score Very Lousy)"
   ]
  },
  {
   "cell_type": "code",
   "execution_count": 122,
   "id": "f730b820-adb1-4ba9-b1cb-8852f25c8c12",
   "metadata": {
    "tags": []
   },
   "outputs": [
    {
     "name": "stdout",
     "output_type": "stream",
     "text": [
      "ROC-AUC:  0.8090540073174727\n",
      "\n",
      "Classification Report:\n",
      "               precision    recall  f1-score   support\n",
      "\n",
      "           0       0.98      0.72      0.83      2406\n",
      "           1       0.13      0.72      0.22       137\n",
      "\n",
      "    accuracy                           0.72      2543\n",
      "   macro avg       0.55      0.72      0.52      2543\n",
      "weighted avg       0.93      0.72      0.80      2543\n",
      "\n"
     ]
    }
   ],
   "source": [
    "from sklearn.linear_model import SGDClassifier\n",
    "from sklearn.calibration import CalibratedClassifierCV\n",
    "\n",
    "# Initialize the SGD classifier\n",
    "# sgd_clf = SGDClassifier(loss='hinge',  # default is linear SVM\n",
    "#                         penalty='l2',  # default is L2 penalty\n",
    "#                         max_iter=1000,  # number of epochs\n",
    "#                         tol=1e-3,  # stopping criterion\n",
    "#                         random_state=42)\n",
    "\n",
    "sgd_clf = SGDClassifier(loss='hinge',  \n",
    "                        penalty='elasticnet',\n",
    "                        l1_ratio=0.15,\n",
    "                        learning_rate='adaptive',\n",
    "                        eta0=0.5,\n",
    "                        early_stopping=True,\n",
    "                        validation_fraction=0.5,\n",
    "                        n_iter_no_change=5,\n",
    "                        shuffle=True,\n",
    "                        class_weight='balanced',\n",
    "                        max_iter=1000,\n",
    "                        tol=1e-3,\n",
    "                        random_state=42)\n",
    "\n",
    "# Train the classifier\n",
    "sgd_clf.fit(X_train, y_train)\n",
    "calib_clf = CalibratedClassifierCV(sgd_clf, method=\"sigmoid\", cv=\"prefit\")\n",
    "calib_clf.fit(X_train, y_train)\n",
    "\n",
    "# Now you can use predict_proba on the calibrated classifier\n",
    "y_pred = calib_clf.predict_proba(X_test)[:, 1]\n",
    "\n",
    "# Predict on the test set\n",
    "#y_pred = sgd_clf.predict(X_test)\n",
    "y_pred_class = (y_pred > 0.5).astype(int)\n",
    "print(\"ROC-AUC: \", roc_auc_score(y_test, y_pred))\n",
    "print(\"\\nClassification Report:\\n\", classification_report(y_test, y_pred_class))"
   ]
  },
  {
   "cell_type": "code",
   "execution_count": 123,
   "id": "940dd3d2-152b-4ecd-9dd7-54c82d3c6158",
   "metadata": {
    "tags": []
   },
   "outputs": [],
   "source": [
    "# Ensure merge_test only has columns present in X\n",
    "for col in merge_test.columns:\n",
    "    if col not in X.columns:\n",
    "        merge_test.drop(col, axis=1, inplace=True)\n",
    "\n",
    "# Ensure merge_test has all columns present in X, fill with 0 if not\n",
    "for col in X.columns:\n",
    "    if col not in merge_test.columns:\n",
    "        merge_test[col] = 0\n",
    "\n",
    "# Reorder columns in merge_test to match order in X\n",
    "merge_test = merge_test[X.columns]\n",
    "\n",
    "# Scale the test set\n",
    "df_scaled = scaler.transform(merge_test)\n",
    "\n",
    "# Get the decision function values\n",
    "decision_values = sgd_clf.decision_function(df_scaled)\n",
    "\n",
    "# Transform decision values to be between 0 and 1\n",
    "preds = (decision_values - decision_values.min()) / (decision_values.max() - decision_values.min())\n",
    "\n",
    "# Create the submission dataframe\n",
    "submission_df = pd.DataFrame()\n",
    "submission_df['id'] = range(1, len(preds) + 1)\n",
    "submission_df['wnvpresent'] = preds\n",
    "\n",
    "# Save to CSV for Kaggle submission\n",
    "submission_filename = \"./submissions/kaggle_submission_stochastic.csv\"\n",
    "submission_df.to_csv(submission_filename, index=False)\n"
   ]
  },
  {
   "cell_type": "markdown",
   "id": "de88cea1-8e29-4729-8910-aa262f72b27c",
   "metadata": {
    "tags": []
   },
   "source": [
    "#### XG Boost"
   ]
  },
  {
   "cell_type": "code",
   "execution_count": 124,
   "id": "ad4f1bba-21e2-41fc-876f-b82c71e41943",
   "metadata": {
    "tags": []
   },
   "outputs": [
    {
     "name": "stdout",
     "output_type": "stream",
     "text": [
      "Fitting 5 folds for each of 112 candidates, totalling 560 fits\n",
      "Best parameters found:  {'learning_rate': 0.1, 'max_depth': 7, 'n_estimators': 200}\n"
     ]
    }
   ],
   "source": [
    "# 1. Define the parameter grid\n",
    "param_grid = {\n",
    "    'n_estimators': [50, 75, 100, 125, 150, 175, 200],\n",
    "    'max_depth': [3, 5, 6, 7],\n",
    "    'learning_rate': [0.01, 0.05, 0.1, 0.5],\n",
    "}\n",
    "\n",
    "# 2. Instantiate a GridSearchCV object\n",
    "grid_search = GridSearchCV(\n",
    "    estimator=xgb.XGBClassifier(eval_metric='auc'),\n",
    "    param_grid=param_grid,\n",
    "    scoring='roc_auc',  # or another appropriate scoring metric\n",
    "    cv=5,  # number of cross-validation folds\n",
    "    n_jobs=-1,  # use all available CPU cores\n",
    "    verbose=1  # display progress\n",
    ")\n",
    "\n",
    "# 3. Fit the GridSearchCV object to the training data\n",
    "grid_search.fit(X_train, y_train)\n",
    "\n",
    "# 4. Retrieve the best model and its parameters\n",
    "best_model = grid_search.best_estimator_\n",
    "best_parameters = grid_search.best_params_\n",
    "\n",
    "print(\"Best parameters found: \", best_parameters)\n",
    "\n",
    "# Use the best model to make predictions\n",
    "y_pred = best_model.predict(X_test)"
   ]
  },
  {
   "cell_type": "code",
   "execution_count": 125,
   "id": "243e74d1-ba2b-431d-8c2c-33934a306391",
   "metadata": {
    "tags": []
   },
   "outputs": [
    {
     "name": "stdout",
     "output_type": "stream",
     "text": [
      "ROC-AUC:  0.6511413073156525\n",
      "\n",
      "Confusion Matrix:\n",
      " [[2343   63]\n",
      " [  92   45]]\n",
      "\n",
      "Classification Report:\n",
      "               precision    recall  f1-score   support\n",
      "\n",
      "           0       0.96      0.97      0.97      2406\n",
      "           1       0.42      0.33      0.37       137\n",
      "\n",
      "    accuracy                           0.94      2543\n",
      "   macro avg       0.69      0.65      0.67      2543\n",
      "weighted avg       0.93      0.94      0.94      2543\n",
      "\n"
     ]
    }
   ],
   "source": [
    "print(\"ROC-AUC: \", roc_auc_score(y_test, y_pred))\n",
    "print(\"\\nConfusion Matrix:\\n\", confusion_matrix(y_test, y_pred))\n",
    "print(\"\\nClassification Report:\\n\", classification_report(y_test, y_pred))\n",
    "submit(best_model,\"xgb\")"
   ]
  },
  {
   "cell_type": "code",
   "execution_count": 126,
   "id": "1ee01550-cdff-4398-b72c-aa72f584fef8",
   "metadata": {},
   "outputs": [
    {
     "data": {
      "image/png": "[encoded data removed]",
      "text/plain": [
       "<Figure size 800x600 with 1 Axes>"
      ]
     },
     "metadata": {},
     "output_type": "display_data"
    }
   ],
   "source": [
    "cm = confusion_matrix(y_test, y_pred)\n",
    "\n",
    "# Plot the confusion matrix\n",
    "plt.figure(figsize=(8, 6))\n",
    "sns.heatmap(cm, annot=True, fmt='g', cmap='Blues', cbar=False)\n",
    "plt.xlabel('Predicted')\n",
    "plt.ylabel('Actual')\n",
    "plt.title('Confusion Matrix')\n",
    "plt.show()"
   ]
  },
  {
   "cell_type": "markdown",
   "id": "77f03ce4-77b0-41d8-b685-3bc59068ce8d",
   "metadata": {},
   "source": [
    "#### Random Forest"
   ]
  },
  {
   "cell_type": "code",
   "execution_count": 127,
   "id": "cdbdb0f6-d453-4c5d-b8cc-0a0952ed887b",
   "metadata": {
    "tags": []
   },
   "outputs": [
    {
     "name": "stdout",
     "output_type": "stream",
     "text": [
      "Fitting 5 folds for each of 216 candidates, totalling 1080 fits\n",
      "Best parameters found:  {'bootstrap': False, 'max_depth': None, 'min_samples_leaf': 1, 'min_samples_split': 2, 'n_estimators': 150}\n",
      "ROC-AUC: 0.6368673814247836\n",
      "\n",
      "Confusion Matrix:\n",
      " [[2327   79]\n",
      " [  95   42]]\n",
      "\n",
      "Classification Report:\n",
      "               precision    recall  f1-score   support\n",
      "\n",
      "           0       0.96      0.97      0.96      2406\n",
      "           1       0.35      0.31      0.33       137\n",
      "\n",
      "    accuracy                           0.93      2543\n",
      "   macro avg       0.65      0.64      0.64      2543\n",
      "weighted avg       0.93      0.93      0.93      2543\n",
      "\n",
      "            Feature  Importance\n",
      "5   addressaccuracy    0.112539\n",
      "0           species    0.112261\n",
      "19           sunset    0.082221\n",
      "7             month    0.066494\n",
      "4             block    0.063603\n",
      "18          sunrise    0.056963\n",
      "9              week    0.054465\n",
      "3         longitude    0.047799\n",
      "11        direction    0.041240\n",
      "1              trap    0.039905\n",
      "2          latitude    0.039574\n",
      "17             cool    0.027089\n",
      "14             tavg    0.026816\n",
      "8              year    0.023591\n",
      "12             tmax    0.023334\n",
      "22      resultspeed    0.023277\n",
      "24         avgspeed    0.022915\n",
      "15          wetbulb    0.021718\n",
      "13             tmin    0.020147\n",
      "21         sealevel    0.017827\n",
      "10        dayofweek    0.017034\n",
      "20      stnpressure    0.015950\n",
      "23        resultdir    0.013975\n",
      "6               day    0.012110\n",
      "26          winddir    0.010821\n",
      "25       precipbool    0.003576\n",
      "16             heat    0.002756\n"
     ]
    }
   ],
   "source": [
    "# 1. Define the parameter grid\n",
    "param_grid_rf = {\n",
    "    'n_estimators': [50, 100, 150],\n",
    "    'max_depth': [None, 5, 10, 15],\n",
    "    'min_samples_split': [2, 5, 10],\n",
    "    'min_samples_leaf': [1, 2, 4],\n",
    "    'bootstrap': [True, False]\n",
    "}\n",
    "\n",
    "# 2. Instantiate a GridSearchCV object\n",
    "grid_search_rf = GridSearchCV(\n",
    "    estimator=RandomForestClassifier(random_state=42),\n",
    "    param_grid=param_grid_rf,\n",
    "    scoring='roc_auc',\n",
    "    cv=5,\n",
    "    n_jobs=-1,\n",
    "    verbose=1\n",
    ")\n",
    "\n",
    "# 3. Fit the GridSearchCV object to the training data\n",
    "grid_search_rf.fit(X_train, y_train)\n",
    "\n",
    "# 4. Retrieve the best model and its parameters\n",
    "best_rf_model = grid_search_rf.best_estimator_\n",
    "best_rf_parameters = grid_search_rf.best_params_\n",
    "\n",
    "print(\"Best parameters found: \", best_rf_parameters)\n",
    "\n",
    "# Use the best model to make predictions\n",
    "y_pred = best_rf_model.predict(X_test)\n",
    "\n",
    "# Evaluate the model\n",
    "print(\"ROC-AUC:\", roc_auc_score(y_test, y_pred))\n",
    "print(\"\\nConfusion Matrix:\\n\", confusion_matrix(y_test, y_pred))\n",
    "print(\"\\nClassification Report:\\n\", classification_report(y_test, y_pred))\n",
    "\n",
    "# Feature Importance\n",
    "importances = best_rf_model.feature_importances_\n",
    "feature_names = X.columns\n",
    "importance_df = pd.DataFrame({\"Feature\": feature_names, \"Importance\": importances})\n",
    "print(importance_df.sort_values(by=\"Importance\", ascending=False))"
   ]
  },
  {
   "cell_type": "code",
   "execution_count": 128,
   "id": "9af80dd7-95eb-41e5-8cde-ddab2311ab6f",
   "metadata": {},
   "outputs": [
    {
     "data": {
      "image/png": "[encoded data removed]",
      "text/plain": [
       "<Figure size 800x600 with 1 Axes>"
      ]
     },
     "metadata": {},
     "output_type": "display_data"
    }
   ],
   "source": [
    "cm = confusion_matrix(y_test, y_pred)\n",
    "\n",
    "# Plot the confusion matrix\n",
    "plt.figure(figsize=(8, 6))\n",
    "sns.heatmap(cm, annot=True, fmt='g', cmap='Blues', cbar=False)\n",
    "plt.xlabel('Predicted WNV')\n",
    "plt.ylabel('Actual WNV')\n",
    "plt.title('Confusion Matrix')\n",
    "plt.xticks(ticks=[0.5, 1.5], labels=['absent', 'present'])\n",
    "plt.yticks(ticks=[0.5, 1.5], labels=['absent', 'present'])\n",
    "plt.show()"
   ]
  },
  {
   "cell_type": "code",
   "execution_count": 129,
   "id": "1b35431e-6e3c-4fc8-8eda-1e94c8f8d166",
   "metadata": {
    "tags": []
   },
   "outputs": [],
   "source": [
    "submit(best_rf_model, \"rf\")"
   ]
  },
  {
   "cell_type": "markdown",
   "id": "7b2bbfba-a61d-4092-ab41-b83b99eb84ae",
   "metadata": {},
   "source": [
    "#### Grid Search + Light GBM"
   ]
  },
  {
   "cell_type": "code",
   "execution_count": 130,
   "id": "c6437c91-fb97-4e92-90de-d779cee47c6c",
   "metadata": {
    "tags": []
   },
   "outputs": [
    {
     "name": "stdout",
     "output_type": "stream",
     "text": [
      "Fitting 10 folds for each of 729 candidates, totalling 7290 fits\n"
     ]
    }
   ],
   "source": [
    "from sklearn.model_selection import GridSearchCV\n",
    "import lightgbm as lgb\n",
    "\n",
    "# Define the parameter grid\n",
    "param_grid = {\n",
    "    'objective': ['binary'],\n",
    "    'metric': ['auc'],\n",
    "    'boosting_type': ['gbdt'],\n",
    "    'num_leaves': [5],\n",
    "    'feature_fraction': [0.3, 0.5, 0.7],\n",
    "    'bagging_fraction': [0.3, 0.5, 0.7],\n",
    "    'bagging_freq': [10, 20, 30],\n",
    "    'learning_rate': [0.01, 0.05, 0.1],\n",
    "    'lambda_l1': [0, 0.1, 0.5],  # L1 regularization\n",
    "    'lambda_l2': [0, 0.1, 0.5],  # L2 regularization\n",
    "    'verbose': [-1],  # Suppress LightGBM's verbosity\n",
    "    'silent': [True]  # Make LightGBM quiet\n",
    "}\n",
    "\n",
    "cv = KFold(n_splits=10, shuffle=True, random_state=42)\n",
    "model = lgb.LGBMClassifier()\n",
    "\n",
    "# Create the grid search object\n",
    "grid_search = GridSearchCV(\n",
    "    estimator=model,\n",
    "    param_grid=param_grid,\n",
    "    scoring='roc_auc',\n",
    "    cv=cv,\n",
    "    n_jobs=-1,\n",
    "    verbose=1\n",
    ")\n",
    "\n",
    "# Fit the grid search object to the data\n",
    "grid_search.fit(X_train, y_train)\n",
    "\n",
    "# Get the best model\n",
    "best_model = grid_search.best_estimator_\n",
    "\n",
    "# Predict probabilities\n",
    "y_pred = best_model.predict_proba(X_test)[:, 1]"
   ]
  },
  {
   "cell_type": "code",
   "execution_count": 131,
   "id": "dcc51736-a845-4979-bdc6-e1c3dfe53d8a",
   "metadata": {},
   "outputs": [
    {
     "data": {
      "image/png": "[encoded data removed]",
      "text/plain": [
       "<Figure size 800x600 with 1 Axes>"
      ]
     },
     "metadata": {},
     "output_type": "display_data"
    },
    {
     "name": "stdout",
     "output_type": "stream",
     "text": [
      "ROC-AUC:  0.8579903647208015\n",
      "\n",
      "Classification Report for Test Data:\n",
      "               precision    recall  f1-score   support\n",
      "\n",
      "           0       0.97      0.93      0.95      2406\n",
      "           1       0.28      0.47      0.35       137\n",
      "\n",
      "    accuracy                           0.91      2543\n",
      "   macro avg       0.62      0.70      0.65      2543\n",
      "weighted avg       0.93      0.91      0.92      2543\n",
      "\n"
     ]
    }
   ],
   "source": [
    "# Convert probabilities to class labels\n",
    "threshold = 0.5\n",
    "y_pred_class = [1 if prob > threshold else 0 for prob in y_pred]\n",
    "\n",
    "# Compute confusion matrix\n",
    "cm = confusion_matrix(y_test, y_pred_class)\n",
    "\n",
    "# Plot confusion matrix\n",
    "plt.figure(figsize=(8, 6))\n",
    "sns.heatmap(cm, annot=True, fmt='g', cmap='Blues', cbar=False)\n",
    "plt.xlabel('Predicted WNV')\n",
    "plt.ylabel('Actual WNV')\n",
    "plt.title('Confusion Matrix')\n",
    "plt.xticks(ticks=[0.5, 1.5], labels=['absent', 'present'])\n",
    "plt.yticks(ticks=[0.5, 1.5], labels=['absent', 'present'])\n",
    "plt.show()\n",
    "\n",
    "print(\"ROC-AUC: \", roc_auc_score(y_test, y_pred))\n",
    "print(\"\\nClassification Report for Test Data:\\n\", classification_report(y_test, y_pred_class))"
   ]
  },
  {
   "cell_type": "code",
   "execution_count": 132,
   "id": "2a09bb6b-9061-4d3b-9732-8001b081d9a9",
   "metadata": {
    "tags": []
   },
   "outputs": [
    {
     "name": "stdout",
     "output_type": "stream",
     "text": [
      "ROC-AUC:  0.9433035714285714\n",
      "\n",
      "Classification Report for Training Data:\n",
      "               precision    recall  f1-score   support\n",
      "\n",
      "           0       0.95      0.93      0.94      5600\n",
      "           1       0.94      0.95      0.94      5600\n",
      "\n",
      "    accuracy                           0.94     11200\n",
      "   macro avg       0.94      0.94      0.94     11200\n",
      "weighted avg       0.94      0.94      0.94     11200\n",
      "\n"
     ]
    }
   ],
   "source": [
    "# Predict probabilities for training data\n",
    "y_train_pred = best_model.predict_proba(X_train)[:, 1]\n",
    "\n",
    "# Convert probabilities to class labels for training data\n",
    "y_train_pred_class = [1 if prob > threshold else 0 for prob in y_train_pred]\n",
    "\n",
    "print(\"ROC-AUC: \", roc_auc_score(y_train, y_train_pred_class))\n",
    "\n",
    "# Print classification report for training data\n",
    "print(\"\\nClassification Report for Training Data:\\n\", classification_report(y_train, y_train_pred_class))"
   ]
  },
  {
   "cell_type": "code",
   "execution_count": 133,
   "id": "849634a7-f683-4ff7-a549-09c311c4de9e",
   "metadata": {
    "tags": []
   },
   "outputs": [
    {
     "name": "stdout",
     "output_type": "stream",
     "text": [
      "Best parameters found:  {'bagging_fraction': 0.7, 'bagging_freq': 10, 'boosting_type': 'gbdt', 'feature_fraction': 0.7, 'lambda_l1': 0.1, 'lambda_l2': 0, 'learning_rate': 0.1, 'metric': 'auc', 'num_leaves': 5, 'objective': 'binary', 'silent': True, 'verbose': -1}\n"
     ]
    }
   ],
   "source": [
    "best_parameters = grid_search.best_params_\n",
    "print(\"Best parameters found: \", best_parameters)"
   ]
  },
  {
   "cell_type": "code",
   "execution_count": 134,
   "id": "b657972b-efaf-4aee-9d2c-2e9f1ce50e28",
   "metadata": {
    "tags": []
   },
   "outputs": [],
   "source": [
    "preds = best_model.predict_proba(df_scaled)[:, 1]\n",
    "\n",
    "# Create the submission dataframe\n",
    "submission_df = merge_test.copy(deep=True)\n",
    "submission_df['wnvpresent'] = preds\n",
    "submission_df['id'] = range(1, len(submission_df) + 1)\n",
    "\n",
    "# Extract only the required columns and save to CSV\n",
    "kaggle_df = submission_df[['id', 'wnvpresent']]\n",
    "kaggle_df.to_csv(f\"./submissions/kaggle_submission_lightgbm.csv\", index=False)"
   ]
  },
  {
   "cell_type": "code",
   "execution_count": 135,
   "id": "36bcbb5b-85c2-4714-9a51-d92bb4755356",
   "metadata": {
    "tags": []
   },
   "outputs": [
    {
     "data": {
      "image/png": "[encoded data removed]",
      "text/plain": [
       "<Figure size 1000x800 with 1 Axes>"
      ]
     },
     "metadata": {},
     "output_type": "display_data"
    }
   ],
   "source": [
    "# Plot gain type of feature importance as percentage\n",
    "\n",
    "gain_importance = best_model.booster_.feature_importance(importance_type='gain')\n",
    "features = X.columns\n",
    "\n",
    "# Calculate total importance\n",
    "total_importance = sum(gain_importance)\n",
    "\n",
    "# Calculate importance percentages\n",
    "importance_percentage = [(imp / total_importance) * 100 for imp in gain_importance]\n",
    "\n",
    "importance_df = pd.DataFrame({\n",
    "    'Feature': features,\n",
    "    'Importance (%)': importance_percentage\n",
    "})\n",
    "\n",
    "# Sort the DataFrame by importance values\n",
    "importance_df = importance_df.sort_values(by='Importance (%)', ascending=False)\n",
    "\n",
    "# Plot\n",
    "plt.figure(figsize=(10, 8))\n",
    "sns.barplot(x='Importance (%)', y='Feature', data=importance_df)\n",
    "plt.title('Feature Importance (Gain) as Percentage')\n",
    "plt.tight_layout()\n",
    "plt.show()"
   ]
  },
  {
   "cell_type": "code",
   "execution_count": 136,
   "id": "9fc2e4f5-0e4b-4f5c-87b7-5efa64708ae4",
   "metadata": {
    "tags": []
   },
   "outputs": [
    {
     "data": {
      "image/png": "[encoded data removed]",
      "text/plain": [
       "<Figure size 1000x800 with 1 Axes>"
      ]
     },
     "metadata": {},
     "output_type": "display_data"
    }
   ],
   "source": [
    "from sklearn.metrics import roc_curve, auc\n",
    "\n",
    "# Plot ROC curve\n",
    "\n",
    "# Compute FPR, TPR, and thresholds\n",
    "fpr, tpr, thresholds = roc_curve(y_test, y_pred)\n",
    "\n",
    "# Compute AUC\n",
    "roc_auc = auc(fpr, tpr)\n",
    "\n",
    "# Plot ROC curve\n",
    "plt.figure(figsize=(10, 8))\n",
    "plt.plot(fpr, tpr, color='darkorange', lw=2, label=f'ROC curve (AUC = {roc_auc:.2f})')\n",
    "plt.plot([0, 1], [0, 1], color='navy', lw=2, linestyle='--')  # Diagonal line\n",
    "plt.xlabel('False Positive Rate')\n",
    "plt.ylabel('True Positive Rate')\n",
    "plt.title('Receiver Operating Characteristic (ROC) Curve')\n",
    "plt.legend(loc='lower right')\n",
    "plt.grid(alpha=0.2)\n",
    "plt.show()\n"
   ]
  },
  {
   "cell_type": "code",
   "execution_count": null,
   "id": "9cc9a17f-93f7-41ef-81f4-95ea09db29f6",
   "metadata": {},
   "outputs": [],
   "source": []
  }
 ],
 "metadata": {
  "kernelspec": {
   "display_name": "Python 3 (ipykernel)",
   "language": "python",
   "name": "python3"
  },
  "language_info": {
   "codemirror_mode": {
    "name": "ipython",
    "version": 3
   },
   "file_extension": ".py",
   "mimetype": "text/x-python",
   "name": "python",
   "nbconvert_exporter": "python",
   "pygments_lexer": "ipython3",
   "version": "3.11.5"
  }
 },
 "nbformat": 4,
 "nbformat_minor": 5
}
