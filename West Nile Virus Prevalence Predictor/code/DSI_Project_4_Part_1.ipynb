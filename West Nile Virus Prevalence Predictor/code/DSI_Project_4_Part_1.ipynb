{
 "cells": [
  {
   "cell_type": "markdown",
   "id": "a23e0437-ca19-4881-beb4-91011f623e03",
   "metadata": {},
   "source": [
    "# Project 4: West Nile Virus Classifer (Part 1)\n",
    "---"
   ]
  },
  {
   "cell_type": "markdown",
   "id": "8bd5bdc5-5cab-40dd-8108-c41806adfd34",
   "metadata": {
    "tags": []
   },
   "source": [
    "Collaborators from the class of DSIF-11-SG (Jun '23 - Dec '23):\n",
    "1. Liyena Yusof\n",
    "2. Maimunah Iskhander\n",
    "3. Marko Lim\n",
    "4. Tiffany Tan"
   ]
  },
  {
   "cell_type": "markdown",
   "id": "cf5d1e4c-f0cf-455a-9463-e1cffea513c4",
   "metadata": {},
   "source": [
    "---\n",
    "## Contents\n",
    "1. [Problem statement](#1.0-Problem-statement)<br>\n",
    "2. [Data dictionary](#2.0-Data-dictionary)<br>\n",
    "3. [Cleaning and preprocessing](#3.0-Cleaning-and-preprocessing)<br>\n",
    "4. [Feature engineering](#4.0-Feature-engineering)<br>\n",
    "5. [EDA](#5.0-Exploratory-Data-Analysis-(EDA))\n",
    "---"
   ]
  },
  {
   "cell_type": "markdown",
   "id": "49dbec2c-4c50-416b-b285-e4d46cf640af",
   "metadata": {},
   "source": [
    "## 1.0 Problem statement"
   ]
  },
  {
   "cell_type": "markdown",
   "id": "842d3b3a-4fa0-40b1-bec4-e051593ce0f0",
   "metadata": {
    "tags": []
   },
   "source": [
    "The Chicago Department of Public Health aims to optimize resource allocation and improve public health outcomes by evaluating the impact of interventions, such as spraying, on reducing the prevalence of West Nile virus. The objective is to develop data-driven strategies for efficient resource allocation and effective prevention measures to safeguard the health of the local population."
   ]
  },
  {
   "cell_type": "markdown",
   "id": "224a0f91",
   "metadata": {},
   "source": [
    "## How was the data collected?\n",
    "\n",
    "Every year from late-May to early-October, public health workers in Chicago setup mosquito traps scattered across the city. Every week from Monday through Wednesday, these traps collect mosquitoes, and the mosquitoes are tested for the presence of West Nile virus before the end of the week. The test results include the number of mosquitoes, the mosquitoes species, and whether or not West Nile virus is present in the cohort."
   ]
  },
  {
   "cell_type": "markdown",
   "id": "2996e373",
   "metadata": {},
   "source": [
    "## Success Metrics\n",
    "\n",
    "<b>AUC ROC</b>: Predict probability that the West Nile Virus is present and observed outcomes  "
   ]
  },
  {
   "cell_type": "markdown",
   "id": "28deb60e",
   "metadata": {},
   "source": [
    "### Reference Websites\n",
    "\n",
    "1.   [Centers For Disease Control and Prevention](https://www.cdc.gov/about/index.html)\n",
    "2.   [Chicago Department of Public Health](https://www.chicago.gov/city/en/depts/cdph.html)\n",
    "3. [John Hopkins Medicine](https://www.hopkinsmedicine.org/health/conditions-and-diseases/west-nile-virus#:~:text=West%20Nile%20virus%20is%20spread%20to%20humans%20through%20the%20bite,species%20also%20have%20the%20virus)\n",
    "4. [Real-Time Rt-Pcr Assays To Detect West Nile Virus In Mosquito Pools](https://elischolar.library.yale.edu/cgi/viewcontent.cgi?article=1123&context=ysphtdl)\n",
    "5. [mosquitoes culex life cycles](https://www.cdc.gov/mosquitoes/pdfs/culexlifecycle-p.pdf)\n",
    "6. [Incubation period](https://elischolar.library.yale.edu/cgi/viewcontent.cgi?article=1123&context=ysphtdl)\n",
    "\n",
    "\n"
   ]
  },
  {
   "cell_type": "markdown",
   "id": "1fc5a093-e22b-4fe5-bcb4-acad6730ee79",
   "metadata": {},
   "source": [
    "## 2.0 Data dictionary\n",
    "---"
   ]
  },
  {
   "cell_type": "markdown",
   "id": "e21b7411",
   "metadata": {},
   "source": [
    "### Weather DataSet\n",
    "\n",
    "|**Feature**|**Type**|**Description**|**Range**|**Missing Value**|\n",
    "|---|---|---|---|---|\n",
    "|station|int64|Station number|either 1 or 2 |No Missing value|\n",
    "|date|object|Date of record|2007-05-01 to 2014-10-31|No Missing value|\n",
    "|tmax|int64|Max temperature in Degrees Fahrenheit|41 to 104|No Missing value|\n",
    "|tmin|int64|Min temperature in Degrees Fahrenheit|29 to 83|No Missing value|\n",
    "|tavg|object|Avg temperature in Degrees Fahrenheit|36 to 94|'M'|\n",
    "|depart|object|Temp departure from normal in Degrees Fahrenheit|-16 to 23|'M'|\n",
    "|dewpoint|int64|Avg Dew Point in Degrees Fahrenheit|22 to 75|No Missing value|\n",
    "|wetbulb|object|Avg Wet Bulb in Degrees Fahrenheit|32 to 78|'M'|\n",
    "|heat|object|How much \"heating\" needed to reach a comfortable baseline of 65°F SEASON BEGINS WITH JULY) |0 to 29|'M'|\n",
    "|cool|object|How much \"cooling\" needed to reach a comfortable baseline of 65°F (SEASON BEGINS WITH JANUARY) |0 to 29|'M'|\n",
    "|Sunrise|object|Time of Sunrise (Calculated, not observed)|0416 to 0623|'-'|\n",
    "|Sunset|object|Time of Sunset (Calculated, not observed)|1647 to 1931|'-'|\n",
    "|CodeSum|object|Weather Phenomena|refer to CodeSum Legend below|' '|\n",
    "|depth|object|Snow/ice in inches|0|'M'|\n",
    "|Water1|object|Water equivalent of Depth|no value|'M'|\n",
    "|snowfall|object|Snowfall in inches and tenths|0 to 0.1|'M','T'|\n",
    "|PrecipTotal|object|Rainfall and melted snow in inches and hundredths|0 to 6.86|'M',' T'|\n",
    "|StnPressure|object|Average station pressure in inches of HG|28.59 to 29.71|'M'|\n",
    "|SeaLevel|object|Average sea level pressure in inches of HG|29.23 to 30.39|'M'|\n",
    "|ResultSpeed|float64|Resultant wind speed in miles per hour|0.1 to 24.1|No Missing value|\n",
    "|resultdir|int64|Resultant wind direction in Degrees|1 to 36|No Missing value|\n",
    "|AvgSpeed|object|Avg wind speed in miles per hour|4.9 to 23.1|'M'|\n",
    "\n",
    "T = trace (in meteorology, it demotes an amount of precipitation, such as rain or snow, that is greater than zero, but is too small to be measured by standard units or methods of measurement) <br>\n",
    "\n",
    "M = Missing Data, or data that are not normally reported for the station. <br>\n",
    "\n",
    "'-' = values not available for sunrise/sunset. <br>\n",
    "\n",
    "### CodeSum\n",
    "\n",
    "| **code** | **explanation** |\n",
    "|---|---|\n",
    "| +FC | TORNADO/WATERSPOUT |\n",
    "| FC | FUNNEL CLOUD |\n",
    "| TS | THUNDERSTORM |\n",
    "| GR | HAIL |\n",
    "| RA | RAIN |\n",
    "| DZ | DRIZZLE |\n",
    "| SN | SNOW |\n",
    "| SG | SNOW GRAINS |\n",
    "| GS | SMALL HAIL &/OR SNOW PELLETS |\n",
    "| PL | ICE PELLETS |\n",
    "| IC | ICE CRYSTALS |\n",
    "| FG+ | HEAVY FOG (FG & LE.25 MILES VISIBILITY) |\n",
    "| FG | FOG |\n",
    "| BR | MIST |\n",
    "| UP | UNKNOWN PRECIPITATION |\n",
    "| HZ | HAZE |\n",
    "| FU | SMOKE |\n",
    "| VA | VOLCANIC ASH |\n",
    "| DU | WIDESPREAD DUST |\n",
    "| DS | DUSTSTORM |\n",
    "| PO | SAND/DUST WHIRLS |\n",
    "| SA | SAND |\n",
    "| SS | SANDSTORM |\n",
    "| PY | SPRAY |\n",
    "| SQ | SQUALL |\n",
    "| DR | LOW DRIFTING |\n",
    "| SH | SHOWER |\n",
    "| FZ | FREEZING |\n",
    "| MI | SHALLOW |\n",
    "| PR | PARTIAL |\n",
    "| BC | PATCHES |\n",
    "| BL | BLOWING |\n",
    "| VC | VICINITY |\n",
    "| - | LIGHT |\n",
    "| + | HEAVY |\n",
    "| NO SIGN | MODERATE |\n"
   ]
  },
  {
   "cell_type": "markdown",
   "id": "89117ab6",
   "metadata": {},
   "source": [
    "### Spray DataSet\n",
    "\n",
    "|**Feature**|**Type**|**Description**|**Range**|**Missing Value**|\n",
    "|---|---|---|---|---|\n",
    "|date|object|Date of the spray|2011-08-29 to 2013-09-05|No Missing value|\n",
    "|time|object|Time of the spray|6:56:58 PM to 8:04:21 PM|584 missing value|\n",
    "|latitude|float64|Latitude returned from GeoCoder|42.39162333 to 42.004805|No Missing value|\n",
    "|longitude|float64|Longitude returned from GeoCoder|-88.08916333 to -87.81746|No Missing value|"
   ]
  },
  {
   "cell_type": "markdown",
   "id": "a65ca86f",
   "metadata": {},
   "source": [
    "### Train DataSet\n",
    "\n",
    "10506 rows, 12 columns\n",
    "\n",
    "|**Feature**|**Type**|**Description**|**Range**|**Missing Value**|\n",
    "|---|---|---|---|---|\n",
    "|date|object|Date that the WNV test was performed|2007-05-29 to 2013-09-26|No Missing value|\n",
    "|address|object|Approximate address (total count 138)|Not applicable|No Missing value|\n",
    "|species|object|Types of mosquitos|7 types of mosquito|No Missing value|\n",
    "|block|int64|Block number of address (total count 64)|11-98|No Missing value|\n",
    "|street|object|Street name (total count 128)|Not applicable|No Missing value|\n",
    "|trap|object|Trap ID (total number of trap 136)|T002 to T054C|No Missing value|\n",
    "|addressnumberandstreet|object|Address number and street (total count 138)|Not applicable|No Missing value|\n",
    "|latitude|float64|Latitude (total count 138)|41.644612 to 42.01743|No Missing value|\n",
    "|longitude|float64|Longitude (total count 138)|-87.930995 to-87.531635|No Missing value|\n",
    "|addressaccuracy|int64|Accuracy returned from GeoCoder|9, 8, 5, 3|No Missing value|\n",
    "|nummosquitos|int64|Number of mosquitoes found in trap|1 to 50|No Missing value|\n",
    "|wnvpresent|int64|Whether West Nile was present in mosquitos, 1 means present, 0 means not present|0 to 1|No Missing value|\n",
    "\n",
    "note: total count represent total count of unique value"
   ]
  },
  {
   "cell_type": "markdown",
   "id": "b655327f",
   "metadata": {},
   "source": [
    "### Test Dataset\n",
    "\n",
    "|**Feature**|**Type**|**Description**|**Range**|**Missing Value**|\n",
    "|---|---|---|---|---|\n",
    "|id|int64|ID record|1 to 116293|No Missing value|\n",
    "|date|object|Date that the WNV test was performed|2008-06-11 to 2014-10-02|No Missing value|\n",
    "|address|object|Approximate address (total count 151)|Not applicable|No Missing value|\n",
    "|species|object|Types of mosquitos|8 types of mosquito|No Missing value|\n",
    "|block|int64|Block number of address|10-98|No Missing value|\n",
    "|street|object|Street name (total count 139)|Not applicable|No Missing value|\n",
    "|trap|object|Trap ID (total count 149)|T002 to T054C|No Missing value|\n",
    "|addressnumberandstreet|object (total count 151)|Address number and street|Not applicable|No Missing value|\n",
    "|latitude|float64|Latitude (total count 151)|41.644612 to 42.01743|No Missing value|\n",
    "|longitude|float64|Longitude (total count 151)|-87.930995 to -87.531635|No Missing value|\n",
    "|addressaccuracy|int64|Accuracy returned from GeoCoder|9, 8, 5, 3|No Missing value|\n",
    "\n",
    "note: total count represent total count of unique value"
   ]
  },
  {
   "cell_type": "markdown",
   "id": "91755786-58bb-4aee-aa43-1f75d349a847",
   "metadata": {},
   "source": [
    "# 3.0 Cleaning and preprocessing"
   ]
  },
  {
   "cell_type": "markdown",
   "id": "40eb697e-f412-472e-9d5b-167461cdb20d",
   "metadata": {},
   "source": [
    "#### Import Libraries"
   ]
  },
  {
   "cell_type": "code",
   "execution_count": 16,
   "id": "e0d73f81-a1e8-4d42-8334-20268dc31933",
   "metadata": {
    "tags": []
   },
   "outputs": [],
   "source": [
    "# Import basic libraries\n",
    "import numpy as np\n",
    "import pandas as pd\n",
    "import math\n",
    "\n",
    "# sklearn\n",
    "from sklearn.preprocessing import StandardScaler\n",
    "from sklearn.decomposition import PCA\n",
    "from sklearn.preprocessing import LabelEncoder\n",
    "\n",
    "# Import visualisation libraries\n",
    "import matplotlib.pyplot as plt\n",
    "import seaborn as sns\n",
    "import folium\n",
    "from folium import Map, Marker, Icon\n",
    "from folium.plugins import HeatMap\n",
    "from folium import MacroElement\n",
    "from jinja2 import Template\n",
    "import geopy.distance\n"
   ]
  },
  {
   "cell_type": "markdown",
   "id": "85077b89-548b-412c-8006-b7bb94337dd7",
   "metadata": {},
   "source": [
    "#### Read in the Datasets"
   ]
  },
  {
   "cell_type": "code",
   "execution_count": 17,
   "id": "61eb7abc-3472-4abe-88b7-311a7e7fc679",
   "metadata": {
    "tags": []
   },
   "outputs": [],
   "source": [
    "train_df = pd.read_csv('../datasets/train.csv')\n",
    "test_df = pd.read_csv('../datasets/test.csv')\n",
    "spray_df = pd.read_csv('../datasets/spray.csv')\n",
    "weather_df = pd.read_csv('../datasets/weather.csv')"
   ]
  },
  {
   "cell_type": "markdown",
   "id": "6eaf71bb-3f63-4995-a95a-69011e5dbc92",
   "metadata": {},
   "source": [
    "## 3.1.0 Cleaning & Preprocessing on train data set & test data set"
   ]
  },
  {
   "cell_type": "markdown",
   "id": "2d947b1a",
   "metadata": {},
   "source": [
    "### 3.1.1 Exploring train data set"
   ]
  },
  {
   "cell_type": "code",
   "execution_count": 18,
   "id": "c6b0d428-8772-450c-9e1b-945ef438b280",
   "metadata": {
    "tags": []
   },
   "outputs": [
    {
     "data": {
      "text/plain": [
       "(10506, 12)"
      ]
     },
     "execution_count": 18,
     "metadata": {},
     "output_type": "execute_result"
    }
   ],
   "source": [
    "train_df.shape"
   ]
  },
  {
   "cell_type": "code",
   "execution_count": 19,
   "id": "e1bb7c4e-4208-45b1-873d-03b08c0c6e45",
   "metadata": {
    "tags": []
   },
   "outputs": [
    {
     "data": {
      "text/plain": [
       "(813, 12)"
      ]
     },
     "execution_count": 19,
     "metadata": {},
     "output_type": "execute_result"
    }
   ],
   "source": [
    "train_df[train_df.duplicated()].shape"
   ]
  },
  {
   "cell_type": "code",
   "execution_count": 20,
   "id": "6ff64eac-b1dc-4b52-a21d-a88ab7c0a768",
   "metadata": {
    "tags": []
   },
   "outputs": [
    {
     "data": {
      "text/html": [
       "<div>\n",
       "<style scoped>\n",
       "    .dataframe tbody tr th:only-of-type {\n",
       "        vertical-align: middle;\n",
       "    }\n",
       "\n",
       "    .dataframe tbody tr th {\n",
       "        vertical-align: top;\n",
       "    }\n",
       "\n",
       "    .dataframe thead th {\n",
       "        text-align: right;\n",
       "    }\n",
       "</style>\n",
       "<table border=\"1\" class=\"dataframe\">\n",
       "  <thead>\n",
       "    <tr style=\"text-align: right;\">\n",
       "      <th></th>\n",
       "      <th>Date</th>\n",
       "      <th>Address</th>\n",
       "      <th>Species</th>\n",
       "      <th>Block</th>\n",
       "      <th>Street</th>\n",
       "      <th>Trap</th>\n",
       "      <th>AddressNumberAndStreet</th>\n",
       "      <th>Latitude</th>\n",
       "      <th>Longitude</th>\n",
       "      <th>AddressAccuracy</th>\n",
       "      <th>NumMosquitos</th>\n",
       "      <th>WnvPresent</th>\n",
       "    </tr>\n",
       "  </thead>\n",
       "  <tbody>\n",
       "    <tr>\n",
       "      <th>0</th>\n",
       "      <td>2007-05-29</td>\n",
       "      <td>4100 North Oak Park Avenue, Chicago, IL 60634,...</td>\n",
       "      <td>CULEX PIPIENS/RESTUANS</td>\n",
       "      <td>41</td>\n",
       "      <td>N OAK PARK AVE</td>\n",
       "      <td>T002</td>\n",
       "      <td>4100  N OAK PARK AVE, Chicago, IL</td>\n",
       "      <td>41.954690</td>\n",
       "      <td>-87.800991</td>\n",
       "      <td>9</td>\n",
       "      <td>1</td>\n",
       "      <td>0</td>\n",
       "    </tr>\n",
       "    <tr>\n",
       "      <th>1</th>\n",
       "      <td>2007-05-29</td>\n",
       "      <td>4100 North Oak Park Avenue, Chicago, IL 60634,...</td>\n",
       "      <td>CULEX RESTUANS</td>\n",
       "      <td>41</td>\n",
       "      <td>N OAK PARK AVE</td>\n",
       "      <td>T002</td>\n",
       "      <td>4100  N OAK PARK AVE, Chicago, IL</td>\n",
       "      <td>41.954690</td>\n",
       "      <td>-87.800991</td>\n",
       "      <td>9</td>\n",
       "      <td>1</td>\n",
       "      <td>0</td>\n",
       "    </tr>\n",
       "    <tr>\n",
       "      <th>2</th>\n",
       "      <td>2007-05-29</td>\n",
       "      <td>6200 North Mandell Avenue, Chicago, IL 60646, USA</td>\n",
       "      <td>CULEX RESTUANS</td>\n",
       "      <td>62</td>\n",
       "      <td>N MANDELL AVE</td>\n",
       "      <td>T007</td>\n",
       "      <td>6200  N MANDELL AVE, Chicago, IL</td>\n",
       "      <td>41.994991</td>\n",
       "      <td>-87.769279</td>\n",
       "      <td>9</td>\n",
       "      <td>1</td>\n",
       "      <td>0</td>\n",
       "    </tr>\n",
       "    <tr>\n",
       "      <th>3</th>\n",
       "      <td>2007-05-29</td>\n",
       "      <td>7900 West Foster Avenue, Chicago, IL 60656, USA</td>\n",
       "      <td>CULEX PIPIENS/RESTUANS</td>\n",
       "      <td>79</td>\n",
       "      <td>W FOSTER AVE</td>\n",
       "      <td>T015</td>\n",
       "      <td>7900  W FOSTER AVE, Chicago, IL</td>\n",
       "      <td>41.974089</td>\n",
       "      <td>-87.824812</td>\n",
       "      <td>8</td>\n",
       "      <td>1</td>\n",
       "      <td>0</td>\n",
       "    </tr>\n",
       "    <tr>\n",
       "      <th>4</th>\n",
       "      <td>2007-05-29</td>\n",
       "      <td>7900 West Foster Avenue, Chicago, IL 60656, USA</td>\n",
       "      <td>CULEX RESTUANS</td>\n",
       "      <td>79</td>\n",
       "      <td>W FOSTER AVE</td>\n",
       "      <td>T015</td>\n",
       "      <td>7900  W FOSTER AVE, Chicago, IL</td>\n",
       "      <td>41.974089</td>\n",
       "      <td>-87.824812</td>\n",
       "      <td>8</td>\n",
       "      <td>4</td>\n",
       "      <td>0</td>\n",
       "    </tr>\n",
       "  </tbody>\n",
       "</table>\n",
       "</div>"
      ],
      "text/plain": [
       "         Date                                            Address  \\\n",
       "0  2007-05-29  4100 North Oak Park Avenue, Chicago, IL 60634,...   \n",
       "1  2007-05-29  4100 North Oak Park Avenue, Chicago, IL 60634,...   \n",
       "2  2007-05-29  6200 North Mandell Avenue, Chicago, IL 60646, USA   \n",
       "3  2007-05-29    7900 West Foster Avenue, Chicago, IL 60656, USA   \n",
       "4  2007-05-29    7900 West Foster Avenue, Chicago, IL 60656, USA   \n",
       "\n",
       "                  Species  Block           Street  Trap  \\\n",
       "0  CULEX PIPIENS/RESTUANS     41   N OAK PARK AVE  T002   \n",
       "1          CULEX RESTUANS     41   N OAK PARK AVE  T002   \n",
       "2          CULEX RESTUANS     62    N MANDELL AVE  T007   \n",
       "3  CULEX PIPIENS/RESTUANS     79     W FOSTER AVE  T015   \n",
       "4          CULEX RESTUANS     79     W FOSTER AVE  T015   \n",
       "\n",
       "              AddressNumberAndStreet   Latitude  Longitude  AddressAccuracy  \\\n",
       "0  4100  N OAK PARK AVE, Chicago, IL  41.954690 -87.800991                9   \n",
       "1  4100  N OAK PARK AVE, Chicago, IL  41.954690 -87.800991                9   \n",
       "2   6200  N MANDELL AVE, Chicago, IL  41.994991 -87.769279                9   \n",
       "3    7900  W FOSTER AVE, Chicago, IL  41.974089 -87.824812                8   \n",
       "4    7900  W FOSTER AVE, Chicago, IL  41.974089 -87.824812                8   \n",
       "\n",
       "   NumMosquitos  WnvPresent  \n",
       "0             1           0  \n",
       "1             1           0  \n",
       "2             1           0  \n",
       "3             1           0  \n",
       "4             4           0  "
      ]
     },
     "execution_count": 20,
     "metadata": {},
     "output_type": "execute_result"
    }
   ],
   "source": [
    "train_df.head()"
   ]
  },
  {
   "cell_type": "code",
   "execution_count": 21,
   "id": "6f4e0864-2fc9-48bd-85ca-e4321ad94bb3",
   "metadata": {
    "tags": []
   },
   "outputs": [
    {
     "name": "stdout",
     "output_type": "stream",
     "text": [
      "<class 'pandas.core.frame.DataFrame'>\n",
      "RangeIndex: 10506 entries, 0 to 10505\n",
      "Data columns (total 12 columns):\n",
      " #   Column                  Non-Null Count  Dtype  \n",
      "---  ------                  --------------  -----  \n",
      " 0   Date                    10506 non-null  object \n",
      " 1   Address                 10506 non-null  object \n",
      " 2   Species                 10506 non-null  object \n",
      " 3   Block                   10506 non-null  int64  \n",
      " 4   Street                  10506 non-null  object \n",
      " 5   Trap                    10506 non-null  object \n",
      " 6   AddressNumberAndStreet  10506 non-null  object \n",
      " 7   Latitude                10506 non-null  float64\n",
      " 8   Longitude               10506 non-null  float64\n",
      " 9   AddressAccuracy         10506 non-null  int64  \n",
      " 10  NumMosquitos            10506 non-null  int64  \n",
      " 11  WnvPresent              10506 non-null  int64  \n",
      "dtypes: float64(2), int64(4), object(6)\n",
      "memory usage: 985.1+ KB\n"
     ]
    }
   ],
   "source": [
    "train_df.info()"
   ]
  },
  {
   "cell_type": "code",
   "execution_count": 22,
   "id": "a140f807-e1d1-4153-8f34-e2d6313bc489",
   "metadata": {
    "tags": []
   },
   "outputs": [
    {
     "data": {
      "text/plain": [
       "Date                      0\n",
       "Address                   0\n",
       "Species                   0\n",
       "Block                     0\n",
       "Street                    0\n",
       "Trap                      0\n",
       "AddressNumberAndStreet    0\n",
       "Latitude                  0\n",
       "Longitude                 0\n",
       "AddressAccuracy           0\n",
       "NumMosquitos              0\n",
       "WnvPresent                0\n",
       "dtype: int64"
      ]
     },
     "execution_count": 22,
     "metadata": {},
     "output_type": "execute_result"
    }
   ],
   "source": [
    "train_df.isnull().sum()"
   ]
  },
  {
   "cell_type": "code",
   "execution_count": 23,
   "id": "769fc95d-e9d4-435b-bcbf-625db5c8b187",
   "metadata": {
    "tags": []
   },
   "outputs": [
    {
     "data": {
      "text/html": [
       "<div>\n",
       "<style scoped>\n",
       "    .dataframe tbody tr th:only-of-type {\n",
       "        vertical-align: middle;\n",
       "    }\n",
       "\n",
       "    .dataframe tbody tr th {\n",
       "        vertical-align: top;\n",
       "    }\n",
       "\n",
       "    .dataframe thead th {\n",
       "        text-align: right;\n",
       "    }\n",
       "</style>\n",
       "<table border=\"1\" class=\"dataframe\">\n",
       "  <thead>\n",
       "    <tr style=\"text-align: right;\">\n",
       "      <th></th>\n",
       "      <th>Longitude</th>\n",
       "      <th>Latitude</th>\n",
       "      <th>WnvPresent</th>\n",
       "      <th>AddressAccuracy</th>\n",
       "      <th>NumMosquitos</th>\n",
       "      <th>Block</th>\n",
       "    </tr>\n",
       "  </thead>\n",
       "  <tbody>\n",
       "    <tr>\n",
       "      <th>count</th>\n",
       "      <td>10506.000000</td>\n",
       "      <td>10506.000000</td>\n",
       "      <td>10506.000000</td>\n",
       "      <td>10506.000000</td>\n",
       "      <td>10506.000000</td>\n",
       "      <td>10506.000000</td>\n",
       "    </tr>\n",
       "    <tr>\n",
       "      <th>mean</th>\n",
       "      <td>-87.699908</td>\n",
       "      <td>41.841139</td>\n",
       "      <td>0.052446</td>\n",
       "      <td>7.819532</td>\n",
       "      <td>12.853512</td>\n",
       "      <td>35.687797</td>\n",
       "    </tr>\n",
       "    <tr>\n",
       "      <th>std</th>\n",
       "      <td>0.096514</td>\n",
       "      <td>0.112742</td>\n",
       "      <td>0.222936</td>\n",
       "      <td>1.452921</td>\n",
       "      <td>16.133816</td>\n",
       "      <td>24.339468</td>\n",
       "    </tr>\n",
       "    <tr>\n",
       "      <th>min</th>\n",
       "      <td>-87.930995</td>\n",
       "      <td>41.644612</td>\n",
       "      <td>0.000000</td>\n",
       "      <td>3.000000</td>\n",
       "      <td>1.000000</td>\n",
       "      <td>10.000000</td>\n",
       "    </tr>\n",
       "    <tr>\n",
       "      <th>25%</th>\n",
       "      <td>-87.760070</td>\n",
       "      <td>41.732984</td>\n",
       "      <td>0.000000</td>\n",
       "      <td>8.000000</td>\n",
       "      <td>2.000000</td>\n",
       "      <td>12.000000</td>\n",
       "    </tr>\n",
       "    <tr>\n",
       "      <th>50%</th>\n",
       "      <td>-87.694991</td>\n",
       "      <td>41.846283</td>\n",
       "      <td>0.000000</td>\n",
       "      <td>8.000000</td>\n",
       "      <td>5.000000</td>\n",
       "      <td>33.000000</td>\n",
       "    </tr>\n",
       "    <tr>\n",
       "      <th>75%</th>\n",
       "      <td>-87.627796</td>\n",
       "      <td>41.954690</td>\n",
       "      <td>0.000000</td>\n",
       "      <td>9.000000</td>\n",
       "      <td>17.000000</td>\n",
       "      <td>52.000000</td>\n",
       "    </tr>\n",
       "    <tr>\n",
       "      <th>max</th>\n",
       "      <td>-87.531635</td>\n",
       "      <td>42.017430</td>\n",
       "      <td>1.000000</td>\n",
       "      <td>9.000000</td>\n",
       "      <td>50.000000</td>\n",
       "      <td>98.000000</td>\n",
       "    </tr>\n",
       "  </tbody>\n",
       "</table>\n",
       "</div>"
      ],
      "text/plain": [
       "          Longitude      Latitude    WnvPresent  AddressAccuracy  \\\n",
       "count  10506.000000  10506.000000  10506.000000     10506.000000   \n",
       "mean     -87.699908     41.841139      0.052446         7.819532   \n",
       "std        0.096514      0.112742      0.222936         1.452921   \n",
       "min      -87.930995     41.644612      0.000000         3.000000   \n",
       "25%      -87.760070     41.732984      0.000000         8.000000   \n",
       "50%      -87.694991     41.846283      0.000000         8.000000   \n",
       "75%      -87.627796     41.954690      0.000000         9.000000   \n",
       "max      -87.531635     42.017430      1.000000         9.000000   \n",
       "\n",
       "       NumMosquitos         Block  \n",
       "count  10506.000000  10506.000000  \n",
       "mean      12.853512     35.687797  \n",
       "std       16.133816     24.339468  \n",
       "min        1.000000     10.000000  \n",
       "25%        2.000000     12.000000  \n",
       "50%        5.000000     33.000000  \n",
       "75%       17.000000     52.000000  \n",
       "max       50.000000     98.000000  "
      ]
     },
     "execution_count": 23,
     "metadata": {},
     "output_type": "execute_result"
    }
   ],
   "source": [
    "train_df.describe().sort_values('std',axis=1)"
   ]
  },
  {
   "cell_type": "markdown",
   "id": "3382d6e4",
   "metadata": {},
   "source": [
    "### 3.1.2  Drop 'Address' and 'AddressNumberAndStreet' and 'Street' "
   ]
  },
  {
   "cell_type": "code",
   "execution_count": 24,
   "id": "567b1578-46ea-4575-9fa3-f943d0b5674f",
   "metadata": {
    "tags": []
   },
   "outputs": [],
   "source": [
    "# take actions here for train dataset and apply it to the test dataset as well\n",
    "train_df.drop(columns=['Address', 'AddressNumberAndStreet'], inplace=True)\n",
    "test_df.drop(columns=['Address', 'AddressNumberAndStreet'], inplace=True)"
   ]
  },
  {
   "cell_type": "code",
   "execution_count": 25,
   "id": "d3ea8afc-c021-434b-89e0-a7d17b6d330f",
   "metadata": {
    "tags": []
   },
   "outputs": [
    {
     "data": {
      "text/html": [
       "<div>\n",
       "<style scoped>\n",
       "    .dataframe tbody tr th:only-of-type {\n",
       "        vertical-align: middle;\n",
       "    }\n",
       "\n",
       "    .dataframe tbody tr th {\n",
       "        vertical-align: top;\n",
       "    }\n",
       "\n",
       "    .dataframe thead th {\n",
       "        text-align: right;\n",
       "    }\n",
       "</style>\n",
       "<table border=\"1\" class=\"dataframe\">\n",
       "  <thead>\n",
       "    <tr style=\"text-align: right;\">\n",
       "      <th></th>\n",
       "      <th>Date</th>\n",
       "      <th>Species</th>\n",
       "      <th>Block</th>\n",
       "      <th>Street</th>\n",
       "      <th>Trap</th>\n",
       "      <th>Latitude</th>\n",
       "      <th>Longitude</th>\n",
       "      <th>AddressAccuracy</th>\n",
       "      <th>NumMosquitos</th>\n",
       "      <th>WnvPresent</th>\n",
       "    </tr>\n",
       "  </thead>\n",
       "  <tbody>\n",
       "    <tr>\n",
       "      <th>0</th>\n",
       "      <td>2007-05-29</td>\n",
       "      <td>CULEX PIPIENS/RESTUANS</td>\n",
       "      <td>41</td>\n",
       "      <td>N OAK PARK AVE</td>\n",
       "      <td>T002</td>\n",
       "      <td>41.954690</td>\n",
       "      <td>-87.800991</td>\n",
       "      <td>9</td>\n",
       "      <td>1</td>\n",
       "      <td>0</td>\n",
       "    </tr>\n",
       "    <tr>\n",
       "      <th>1</th>\n",
       "      <td>2007-05-29</td>\n",
       "      <td>CULEX RESTUANS</td>\n",
       "      <td>41</td>\n",
       "      <td>N OAK PARK AVE</td>\n",
       "      <td>T002</td>\n",
       "      <td>41.954690</td>\n",
       "      <td>-87.800991</td>\n",
       "      <td>9</td>\n",
       "      <td>1</td>\n",
       "      <td>0</td>\n",
       "    </tr>\n",
       "    <tr>\n",
       "      <th>2</th>\n",
       "      <td>2007-05-29</td>\n",
       "      <td>CULEX RESTUANS</td>\n",
       "      <td>62</td>\n",
       "      <td>N MANDELL AVE</td>\n",
       "      <td>T007</td>\n",
       "      <td>41.994991</td>\n",
       "      <td>-87.769279</td>\n",
       "      <td>9</td>\n",
       "      <td>1</td>\n",
       "      <td>0</td>\n",
       "    </tr>\n",
       "    <tr>\n",
       "      <th>3</th>\n",
       "      <td>2007-05-29</td>\n",
       "      <td>CULEX PIPIENS/RESTUANS</td>\n",
       "      <td>79</td>\n",
       "      <td>W FOSTER AVE</td>\n",
       "      <td>T015</td>\n",
       "      <td>41.974089</td>\n",
       "      <td>-87.824812</td>\n",
       "      <td>8</td>\n",
       "      <td>1</td>\n",
       "      <td>0</td>\n",
       "    </tr>\n",
       "    <tr>\n",
       "      <th>4</th>\n",
       "      <td>2007-05-29</td>\n",
       "      <td>CULEX RESTUANS</td>\n",
       "      <td>79</td>\n",
       "      <td>W FOSTER AVE</td>\n",
       "      <td>T015</td>\n",
       "      <td>41.974089</td>\n",
       "      <td>-87.824812</td>\n",
       "      <td>8</td>\n",
       "      <td>4</td>\n",
       "      <td>0</td>\n",
       "    </tr>\n",
       "  </tbody>\n",
       "</table>\n",
       "</div>"
      ],
      "text/plain": [
       "         Date                 Species  Block           Street  Trap  \\\n",
       "0  2007-05-29  CULEX PIPIENS/RESTUANS     41   N OAK PARK AVE  T002   \n",
       "1  2007-05-29          CULEX RESTUANS     41   N OAK PARK AVE  T002   \n",
       "2  2007-05-29          CULEX RESTUANS     62    N MANDELL AVE  T007   \n",
       "3  2007-05-29  CULEX PIPIENS/RESTUANS     79     W FOSTER AVE  T015   \n",
       "4  2007-05-29          CULEX RESTUANS     79     W FOSTER AVE  T015   \n",
       "\n",
       "    Latitude  Longitude  AddressAccuracy  NumMosquitos  WnvPresent  \n",
       "0  41.954690 -87.800991                9             1           0  \n",
       "1  41.954690 -87.800991                9             1           0  \n",
       "2  41.994991 -87.769279                9             1           0  \n",
       "3  41.974089 -87.824812                8             1           0  \n",
       "4  41.974089 -87.824812                8             4           0  "
      ]
     },
     "execution_count": 25,
     "metadata": {},
     "output_type": "execute_result"
    }
   ],
   "source": [
    "train_df.head()"
   ]
  },
  {
   "cell_type": "code",
   "execution_count": 26,
   "id": "20587cd8-a0da-4043-b8c5-000da1f5a2ff",
   "metadata": {
    "tags": []
   },
   "outputs": [],
   "source": [
    "# Since mosquitos are pooled in groups of 50, add the number of mosquitos & wnvpresent\n",
    "\n",
    "train_df = train_df.groupby(['Date', 'Species', 'Trap', 'Latitude', 'Longitude','AddressAccuracy','Block']).agg({\n",
    "    'NumMosquitos': 'sum',  # Summing up the number of mosquitos\n",
    "    'WnvPresent': 'sum',    # Summing up the WnvPresent column\n",
    "    'Street': 'first'       # Keeping the first 'Street' value encountered in each group\n",
    "}).reset_index()"
   ]
  },
  {
   "cell_type": "code",
   "execution_count": 27,
   "id": "c7020c25-b3a6-4e7d-9ed9-eda843a3d21a",
   "metadata": {
    "tags": []
   },
   "outputs": [
    {
     "data": {
      "text/html": [
       "<div>\n",
       "<style scoped>\n",
       "    .dataframe tbody tr th:only-of-type {\n",
       "        vertical-align: middle;\n",
       "    }\n",
       "\n",
       "    .dataframe tbody tr th {\n",
       "        vertical-align: top;\n",
       "    }\n",
       "\n",
       "    .dataframe thead th {\n",
       "        text-align: right;\n",
       "    }\n",
       "</style>\n",
       "<table border=\"1\" class=\"dataframe\">\n",
       "  <thead>\n",
       "    <tr style=\"text-align: right;\">\n",
       "      <th></th>\n",
       "      <th>Date</th>\n",
       "      <th>Species</th>\n",
       "      <th>Trap</th>\n",
       "      <th>Latitude</th>\n",
       "      <th>Longitude</th>\n",
       "      <th>AddressAccuracy</th>\n",
       "      <th>Block</th>\n",
       "      <th>NumMosquitos</th>\n",
       "      <th>WnvPresent</th>\n",
       "      <th>Street</th>\n",
       "    </tr>\n",
       "  </thead>\n",
       "  <tbody>\n",
       "    <tr>\n",
       "      <th>1450</th>\n",
       "      <td>2007-08-16</td>\n",
       "      <td>CULEX PIPIENS</td>\n",
       "      <td>T115</td>\n",
       "      <td>41.673408</td>\n",
       "      <td>-87.599862</td>\n",
       "      <td>5</td>\n",
       "      <td>12</td>\n",
       "      <td>2532</td>\n",
       "      <td>10</td>\n",
       "      <td>S DOTY AVE</td>\n",
       "    </tr>\n",
       "    <tr>\n",
       "      <th>7428</th>\n",
       "      <td>2013-08-01</td>\n",
       "      <td>CULEX PIPIENS/RESTUANS</td>\n",
       "      <td>T900</td>\n",
       "      <td>41.974689</td>\n",
       "      <td>-87.890615</td>\n",
       "      <td>9</td>\n",
       "      <td>10</td>\n",
       "      <td>984</td>\n",
       "      <td>9</td>\n",
       "      <td>W OHARE AIRPORT</td>\n",
       "    </tr>\n",
       "    <tr>\n",
       "      <th>7971</th>\n",
       "      <td>2013-08-29</td>\n",
       "      <td>CULEX PIPIENS</td>\n",
       "      <td>T900</td>\n",
       "      <td>41.974689</td>\n",
       "      <td>-87.890615</td>\n",
       "      <td>9</td>\n",
       "      <td>10</td>\n",
       "      <td>281</td>\n",
       "      <td>8</td>\n",
       "      <td>W OHARE AIRPORT</td>\n",
       "    </tr>\n",
       "    <tr>\n",
       "      <th>1666</th>\n",
       "      <td>2007-08-22</td>\n",
       "      <td>CULEX PIPIENS</td>\n",
       "      <td>T115</td>\n",
       "      <td>41.673408</td>\n",
       "      <td>-87.599862</td>\n",
       "      <td>5</td>\n",
       "      <td>12</td>\n",
       "      <td>1554</td>\n",
       "      <td>7</td>\n",
       "      <td>S DOTY AVE</td>\n",
       "    </tr>\n",
       "    <tr>\n",
       "      <th>1669</th>\n",
       "      <td>2007-08-22</td>\n",
       "      <td>CULEX PIPIENS</td>\n",
       "      <td>T138</td>\n",
       "      <td>41.726465</td>\n",
       "      <td>-87.585413</td>\n",
       "      <td>5</td>\n",
       "      <td>10</td>\n",
       "      <td>1054</td>\n",
       "      <td>6</td>\n",
       "      <td>S STONY ISLAND AVE</td>\n",
       "    </tr>\n",
       "  </tbody>\n",
       "</table>\n",
       "</div>"
      ],
      "text/plain": [
       "            Date                 Species  Trap   Latitude  Longitude  \\\n",
       "1450  2007-08-16           CULEX PIPIENS  T115  41.673408 -87.599862   \n",
       "7428  2013-08-01  CULEX PIPIENS/RESTUANS  T900  41.974689 -87.890615   \n",
       "7971  2013-08-29           CULEX PIPIENS  T900  41.974689 -87.890615   \n",
       "1666  2007-08-22           CULEX PIPIENS  T115  41.673408 -87.599862   \n",
       "1669  2007-08-22           CULEX PIPIENS  T138  41.726465 -87.585413   \n",
       "\n",
       "      AddressAccuracy  Block  NumMosquitos  WnvPresent               Street  \n",
       "1450                5     12          2532          10           S DOTY AVE  \n",
       "7428                9     10           984           9      W OHARE AIRPORT  \n",
       "7971                9     10           281           8      W OHARE AIRPORT  \n",
       "1666                5     12          1554           7           S DOTY AVE  \n",
       "1669                5     10          1054           6   S STONY ISLAND AVE  "
      ]
     },
     "execution_count": 27,
     "metadata": {},
     "output_type": "execute_result"
    }
   ],
   "source": [
    "# WnvPresent needs to be mapped to 0 and 1\n",
    "train_df.sort_values('WnvPresent',ascending=False).head()"
   ]
  },
  {
   "cell_type": "code",
   "execution_count": 28,
   "id": "b521001e-9333-427b-b1f2-9741aa9bb450",
   "metadata": {
    "tags": []
   },
   "outputs": [],
   "source": [
    "# Map values of WnvPresent to 0 or 1\n",
    "train_df['WnvPresent'] = (train_df['WnvPresent'] > 0).astype(int)"
   ]
  },
  {
   "cell_type": "code",
   "execution_count": 29,
   "id": "f660f3a6-ad88-46ee-b1ff-acf850a60141",
   "metadata": {
    "tags": []
   },
   "outputs": [
    {
     "data": {
      "text/plain": [
       "WnvPresent\n",
       "0    8018\n",
       "1     457\n",
       "Name: count, dtype: int64"
      ]
     },
     "execution_count": 29,
     "metadata": {},
     "output_type": "execute_result"
    }
   ],
   "source": [
    "# Check that WnvPresent is binary, either 0 or 1\n",
    "train_df['WnvPresent'].value_counts()"
   ]
  },
  {
   "cell_type": "markdown",
   "id": "97405ef3",
   "metadata": {},
   "source": [
    "### 3.1.3 Extract day, month, year, week and day of week from 'Date' after converting to datetime object"
   ]
  },
  {
   "cell_type": "code",
   "execution_count": 30,
   "id": "752d54d0-d59e-4b00-97ef-d59f140fb672",
   "metadata": {
    "tags": []
   },
   "outputs": [],
   "source": [
    "# Create function to create new date related features\n",
    "def date_features(df):    \n",
    "    # Convert date to datetime object\n",
    "    df['Date'] = pd.to_datetime(df['Date'])\n",
    "\n",
    "    # Extract day, month, year and week to create new features\n",
    "    df['Day'] = df['Date'].dt.day\n",
    "    df['Month'] = df['Date'].dt.month\n",
    "    df['Year'] = df['Date'].dt.year\n",
    "    df['Week'] = df['Date'].dt.isocalendar().week # Note: 52 weeks in a year\n",
    "    df['DayOfWeek'] = df['Date'].dt.dayofweek # Note: Monday = 0, Sunday = 6\n",
    "    \n",
    "    return df"
   ]
  },
  {
   "cell_type": "code",
   "execution_count": 31,
   "id": "dc8df82f-6265-422d-aac2-dffc51e25872",
   "metadata": {},
   "outputs": [],
   "source": [
    "train_df = date_features(train_df)\n",
    "test_df= date_features(test_df)"
   ]
  },
  {
   "cell_type": "code",
   "execution_count": 32,
   "id": "844791a2-3697-45a4-90d5-ab1dbc9fb713",
   "metadata": {
    "tags": []
   },
   "outputs": [
    {
     "data": {
      "image/png": "[encoded data removed]",
      "text/plain": [
       "<Figure size 640x480 with 2 Axes>"
      ]
     },
     "metadata": {},
     "output_type": "display_data"
    }
   ],
   "source": [
    "corr = train_df[['Day','Month','Year','Week','DayOfWeek']].corr()\n",
    "sns.heatmap(corr)\n",
    "plt.show()"
   ]
  },
  {
   "cell_type": "markdown",
   "id": "d3405c01-3a38-425b-a1c8-d3b3ad2c958c",
   "metadata": {},
   "source": [
    "We will use all the columns in our model."
   ]
  },
  {
   "cell_type": "code",
   "execution_count": 33,
   "id": "df878b40-d444-4993-85f8-7aef5cf80406",
   "metadata": {
    "tags": []
   },
   "outputs": [
    {
     "data": {
      "text/plain": [
       "Date               0\n",
       "Species            0\n",
       "Trap               0\n",
       "Latitude           0\n",
       "Longitude          0\n",
       "AddressAccuracy    0\n",
       "Block              0\n",
       "NumMosquitos       0\n",
       "WnvPresent         0\n",
       "Street             0\n",
       "Day                0\n",
       "Month              0\n",
       "Year               0\n",
       "Week               0\n",
       "DayOfWeek          0\n",
       "dtype: int64"
      ]
     },
     "execution_count": 33,
     "metadata": {},
     "output_type": "execute_result"
    }
   ],
   "source": [
    "train_df.isnull().sum()"
   ]
  },
  {
   "cell_type": "code",
   "execution_count": 34,
   "id": "666a5cab-aa4f-43f2-9a0e-4ae15abaa4fa",
   "metadata": {
    "tags": []
   },
   "outputs": [
    {
     "data": {
      "text/html": [
       "<div>\n",
       "<style scoped>\n",
       "    .dataframe tbody tr th:only-of-type {\n",
       "        vertical-align: middle;\n",
       "    }\n",
       "\n",
       "    .dataframe tbody tr th {\n",
       "        vertical-align: top;\n",
       "    }\n",
       "\n",
       "    .dataframe thead th {\n",
       "        text-align: right;\n",
       "    }\n",
       "</style>\n",
       "<table border=\"1\" class=\"dataframe\">\n",
       "  <thead>\n",
       "    <tr style=\"text-align: right;\">\n",
       "      <th></th>\n",
       "      <th>Date</th>\n",
       "      <th>Species</th>\n",
       "      <th>Trap</th>\n",
       "      <th>Latitude</th>\n",
       "      <th>Longitude</th>\n",
       "      <th>AddressAccuracy</th>\n",
       "      <th>Block</th>\n",
       "      <th>NumMosquitos</th>\n",
       "      <th>WnvPresent</th>\n",
       "      <th>Street</th>\n",
       "      <th>Day</th>\n",
       "      <th>Month</th>\n",
       "      <th>Year</th>\n",
       "      <th>Week</th>\n",
       "      <th>DayOfWeek</th>\n",
       "    </tr>\n",
       "  </thead>\n",
       "  <tbody>\n",
       "    <tr>\n",
       "      <th>1450</th>\n",
       "      <td>2007-08-16</td>\n",
       "      <td>CULEX PIPIENS</td>\n",
       "      <td>T115</td>\n",
       "      <td>41.673408</td>\n",
       "      <td>-87.599862</td>\n",
       "      <td>5</td>\n",
       "      <td>12</td>\n",
       "      <td>2532</td>\n",
       "      <td>1</td>\n",
       "      <td>S DOTY AVE</td>\n",
       "      <td>16</td>\n",
       "      <td>8</td>\n",
       "      <td>2007</td>\n",
       "      <td>33</td>\n",
       "      <td>3</td>\n",
       "    </tr>\n",
       "    <tr>\n",
       "      <th>564</th>\n",
       "      <td>2007-07-25</td>\n",
       "      <td>CULEX PIPIENS</td>\n",
       "      <td>T115</td>\n",
       "      <td>41.673408</td>\n",
       "      <td>-87.599862</td>\n",
       "      <td>5</td>\n",
       "      <td>12</td>\n",
       "      <td>2356</td>\n",
       "      <td>1</td>\n",
       "      <td>S DOTY AVE</td>\n",
       "      <td>25</td>\n",
       "      <td>7</td>\n",
       "      <td>2007</td>\n",
       "      <td>30</td>\n",
       "      <td>2</td>\n",
       "    </tr>\n",
       "    <tr>\n",
       "      <th>1897</th>\n",
       "      <td>2007-08-28</td>\n",
       "      <td>CULEX PIPIENS</td>\n",
       "      <td>T115</td>\n",
       "      <td>41.673408</td>\n",
       "      <td>-87.599862</td>\n",
       "      <td>5</td>\n",
       "      <td>12</td>\n",
       "      <td>2207</td>\n",
       "      <td>1</td>\n",
       "      <td>S DOTY AVE</td>\n",
       "      <td>28</td>\n",
       "      <td>8</td>\n",
       "      <td>2007</td>\n",
       "      <td>35</td>\n",
       "      <td>1</td>\n",
       "    </tr>\n",
       "    <tr>\n",
       "      <th>1190</th>\n",
       "      <td>2007-08-08</td>\n",
       "      <td>CULEX PIPIENS</td>\n",
       "      <td>T138</td>\n",
       "      <td>41.726465</td>\n",
       "      <td>-87.585413</td>\n",
       "      <td>5</td>\n",
       "      <td>10</td>\n",
       "      <td>1658</td>\n",
       "      <td>1</td>\n",
       "      <td>S STONY ISLAND AVE</td>\n",
       "      <td>8</td>\n",
       "      <td>8</td>\n",
       "      <td>2007</td>\n",
       "      <td>32</td>\n",
       "      <td>2</td>\n",
       "    </tr>\n",
       "    <tr>\n",
       "      <th>2032</th>\n",
       "      <td>2007-09-05</td>\n",
       "      <td>CULEX PIPIENS</td>\n",
       "      <td>T115</td>\n",
       "      <td>41.673408</td>\n",
       "      <td>-87.599862</td>\n",
       "      <td>5</td>\n",
       "      <td>12</td>\n",
       "      <td>1648</td>\n",
       "      <td>1</td>\n",
       "      <td>S DOTY AVE</td>\n",
       "      <td>5</td>\n",
       "      <td>9</td>\n",
       "      <td>2007</td>\n",
       "      <td>36</td>\n",
       "      <td>2</td>\n",
       "    </tr>\n",
       "    <tr>\n",
       "      <th>...</th>\n",
       "      <td>...</td>\n",
       "      <td>...</td>\n",
       "      <td>...</td>\n",
       "      <td>...</td>\n",
       "      <td>...</td>\n",
       "      <td>...</td>\n",
       "      <td>...</td>\n",
       "      <td>...</td>\n",
       "      <td>...</td>\n",
       "      <td>...</td>\n",
       "      <td>...</td>\n",
       "      <td>...</td>\n",
       "      <td>...</td>\n",
       "      <td>...</td>\n",
       "      <td>...</td>\n",
       "    </tr>\n",
       "    <tr>\n",
       "      <th>3180</th>\n",
       "      <td>2009-06-19</td>\n",
       "      <td>CULEX RESTUANS</td>\n",
       "      <td>T138</td>\n",
       "      <td>41.726465</td>\n",
       "      <td>-87.585413</td>\n",
       "      <td>5</td>\n",
       "      <td>10</td>\n",
       "      <td>1</td>\n",
       "      <td>0</td>\n",
       "      <td>S STONY ISLAND AVE</td>\n",
       "      <td>19</td>\n",
       "      <td>6</td>\n",
       "      <td>2009</td>\n",
       "      <td>25</td>\n",
       "      <td>4</td>\n",
       "    </tr>\n",
       "    <tr>\n",
       "      <th>3184</th>\n",
       "      <td>2009-06-19</td>\n",
       "      <td>CULEX RESTUANS</td>\n",
       "      <td>T151</td>\n",
       "      <td>41.916265</td>\n",
       "      <td>-87.800515</td>\n",
       "      <td>8</td>\n",
       "      <td>70</td>\n",
       "      <td>1</td>\n",
       "      <td>0</td>\n",
       "      <td>W ARMITAGE AVENUE</td>\n",
       "      <td>19</td>\n",
       "      <td>6</td>\n",
       "      <td>2009</td>\n",
       "      <td>25</td>\n",
       "      <td>4</td>\n",
       "    </tr>\n",
       "    <tr>\n",
       "      <th>3189</th>\n",
       "      <td>2009-06-19</td>\n",
       "      <td>CULEX RESTUANS</td>\n",
       "      <td>T200</td>\n",
       "      <td>41.678618</td>\n",
       "      <td>-87.559308</td>\n",
       "      <td>5</td>\n",
       "      <td>13</td>\n",
       "      <td>1</td>\n",
       "      <td>0</td>\n",
       "      <td>S TORRENCE AVE</td>\n",
       "      <td>19</td>\n",
       "      <td>6</td>\n",
       "      <td>2009</td>\n",
       "      <td>25</td>\n",
       "      <td>4</td>\n",
       "    </tr>\n",
       "    <tr>\n",
       "      <th>3190</th>\n",
       "      <td>2009-06-19</td>\n",
       "      <td>CULEX RESTUANS</td>\n",
       "      <td>T209</td>\n",
       "      <td>41.740641</td>\n",
       "      <td>-87.546587</td>\n",
       "      <td>5</td>\n",
       "      <td>13</td>\n",
       "      <td>1</td>\n",
       "      <td>0</td>\n",
       "      <td>S BRANDON</td>\n",
       "      <td>19</td>\n",
       "      <td>6</td>\n",
       "      <td>2009</td>\n",
       "      <td>25</td>\n",
       "      <td>4</td>\n",
       "    </tr>\n",
       "    <tr>\n",
       "      <th>0</th>\n",
       "      <td>2007-05-29</td>\n",
       "      <td>CULEX PIPIENS</td>\n",
       "      <td>T096</td>\n",
       "      <td>41.731922</td>\n",
       "      <td>-87.677512</td>\n",
       "      <td>8</td>\n",
       "      <td>22</td>\n",
       "      <td>1</td>\n",
       "      <td>0</td>\n",
       "      <td>W 89TH ST</td>\n",
       "      <td>29</td>\n",
       "      <td>5</td>\n",
       "      <td>2007</td>\n",
       "      <td>22</td>\n",
       "      <td>1</td>\n",
       "    </tr>\n",
       "  </tbody>\n",
       "</table>\n",
       "<p>8475 rows × 15 columns</p>\n",
       "</div>"
      ],
      "text/plain": [
       "           Date         Species  Trap   Latitude  Longitude  AddressAccuracy  \\\n",
       "1450 2007-08-16   CULEX PIPIENS  T115  41.673408 -87.599862                5   \n",
       "564  2007-07-25   CULEX PIPIENS  T115  41.673408 -87.599862                5   \n",
       "1897 2007-08-28   CULEX PIPIENS  T115  41.673408 -87.599862                5   \n",
       "1190 2007-08-08   CULEX PIPIENS  T138  41.726465 -87.585413                5   \n",
       "2032 2007-09-05   CULEX PIPIENS  T115  41.673408 -87.599862                5   \n",
       "...         ...             ...   ...        ...        ...              ...   \n",
       "3180 2009-06-19  CULEX RESTUANS  T138  41.726465 -87.585413                5   \n",
       "3184 2009-06-19  CULEX RESTUANS  T151  41.916265 -87.800515                8   \n",
       "3189 2009-06-19  CULEX RESTUANS  T200  41.678618 -87.559308                5   \n",
       "3190 2009-06-19  CULEX RESTUANS  T209  41.740641 -87.546587                5   \n",
       "0    2007-05-29   CULEX PIPIENS  T096  41.731922 -87.677512                8   \n",
       "\n",
       "      Block  NumMosquitos  WnvPresent               Street  Day  Month  Year  \\\n",
       "1450     12          2532           1           S DOTY AVE   16      8  2007   \n",
       "564      12          2356           1           S DOTY AVE   25      7  2007   \n",
       "1897     12          2207           1           S DOTY AVE   28      8  2007   \n",
       "1190     10          1658           1   S STONY ISLAND AVE    8      8  2007   \n",
       "2032     12          1648           1           S DOTY AVE    5      9  2007   \n",
       "...     ...           ...         ...                  ...  ...    ...   ...   \n",
       "3180     10             1           0   S STONY ISLAND AVE   19      6  2009   \n",
       "3184     70             1           0    W ARMITAGE AVENUE   19      6  2009   \n",
       "3189     13             1           0       S TORRENCE AVE   19      6  2009   \n",
       "3190     13             1           0            S BRANDON   19      6  2009   \n",
       "0        22             1           0            W 89TH ST   29      5  2007   \n",
       "\n",
       "      Week  DayOfWeek  \n",
       "1450    33          3  \n",
       "564     30          2  \n",
       "1897    35          1  \n",
       "1190    32          2  \n",
       "2032    36          2  \n",
       "...    ...        ...  \n",
       "3180    25          4  \n",
       "3184    25          4  \n",
       "3189    25          4  \n",
       "3190    25          4  \n",
       "0       22          1  \n",
       "\n",
       "[8475 rows x 15 columns]"
      ]
     },
     "execution_count": 34,
     "metadata": {},
     "output_type": "execute_result"
    }
   ],
   "source": [
    "# Check that the sum of nummosquitos were done correctly\n",
    "train_df.sort_values('NumMosquitos', ascending=False)"
   ]
  },
  {
   "cell_type": "code",
   "execution_count": 35,
   "id": "a4f9241c-8d46-4386-a1b6-b5cf40b1dcc6",
   "metadata": {
    "tags": []
   },
   "outputs": [
    {
     "data": {
      "text/plain": [
       "(8475, 15)"
      ]
     },
     "execution_count": 35,
     "metadata": {},
     "output_type": "execute_result"
    }
   ],
   "source": [
    "# Check final shape of train_df\n",
    "train_df.shape"
   ]
  },
  {
   "cell_type": "code",
   "execution_count": 36,
   "id": "b2ac5c20-1ea8-4217-8d19-059875c05d0f",
   "metadata": {
    "tags": []
   },
   "outputs": [
    {
     "data": {
      "text/html": [
       "<div>\n",
       "<style scoped>\n",
       "    .dataframe tbody tr th:only-of-type {\n",
       "        vertical-align: middle;\n",
       "    }\n",
       "\n",
       "    .dataframe tbody tr th {\n",
       "        vertical-align: top;\n",
       "    }\n",
       "\n",
       "    .dataframe thead th {\n",
       "        text-align: right;\n",
       "    }\n",
       "</style>\n",
       "<table border=\"1\" class=\"dataframe\">\n",
       "  <thead>\n",
       "    <tr style=\"text-align: right;\">\n",
       "      <th></th>\n",
       "      <th>Date</th>\n",
       "      <th>Species</th>\n",
       "      <th>Trap</th>\n",
       "      <th>Latitude</th>\n",
       "      <th>Longitude</th>\n",
       "      <th>AddressAccuracy</th>\n",
       "      <th>Block</th>\n",
       "      <th>NumMosquitos</th>\n",
       "      <th>WnvPresent</th>\n",
       "      <th>Street</th>\n",
       "      <th>Day</th>\n",
       "      <th>Month</th>\n",
       "      <th>Year</th>\n",
       "      <th>Week</th>\n",
       "      <th>DayOfWeek</th>\n",
       "    </tr>\n",
       "  </thead>\n",
       "  <tbody>\n",
       "  </tbody>\n",
       "</table>\n",
       "</div>"
      ],
      "text/plain": [
       "Empty DataFrame\n",
       "Columns: [Date, Species, Trap, Latitude, Longitude, AddressAccuracy, Block, NumMosquitos, WnvPresent, Street, Day, Month, Year, Week, DayOfWeek]\n",
       "Index: []"
      ]
     },
     "execution_count": 36,
     "metadata": {},
     "output_type": "execute_result"
    }
   ],
   "source": [
    "# There are no more duplicated rows!\n",
    "train_df[train_df.duplicated()]"
   ]
  },
  {
   "cell_type": "code",
   "execution_count": 37,
   "id": "88974731-e965-49d4-b410-233173f75cc4",
   "metadata": {},
   "outputs": [
    {
     "data": {
      "text/plain": [
       "(116293, 14)"
      ]
     },
     "execution_count": 37,
     "metadata": {},
     "output_type": "execute_result"
    }
   ],
   "source": [
    "# Check final shape of test_df\n",
    "test_df.shape"
   ]
  },
  {
   "cell_type": "code",
   "execution_count": 38,
   "id": "c8698b15-5e3e-439f-8c6d-9fe2d50cad73",
   "metadata": {
    "tags": []
   },
   "outputs": [],
   "source": [
    "# Change all the column names to lowercase\n",
    "train_df.columns = train_df.columns.str.lower()\n",
    "test_df.columns = test_df.columns.str.lower()"
   ]
  },
  {
   "cell_type": "code",
   "execution_count": 39,
   "id": "1150b560-fa51-4762-9755-a6ee2db76ed1",
   "metadata": {},
   "outputs": [
    {
     "data": {
      "text/plain": [
       "Index(['date', 'species', 'trap', 'latitude', 'longitude', 'addressaccuracy',\n",
       "       'block', 'nummosquitos', 'wnvpresent', 'street', 'day', 'month', 'year',\n",
       "       'week', 'dayofweek'],\n",
       "      dtype='object')"
      ]
     },
     "execution_count": 39,
     "metadata": {},
     "output_type": "execute_result"
    }
   ],
   "source": [
    "train_df.columns"
   ]
  },
  {
   "cell_type": "markdown",
   "id": "8474cdfc-86ed-40c3-bd57-a0224a81b9f9",
   "metadata": {},
   "source": [
    "### 3.2.0 Exploring Spray Dataset"
   ]
  },
  {
   "cell_type": "code",
   "execution_count": 40,
   "id": "56fc60c3-bd0b-47e6-995b-2c5dd50bf1b5",
   "metadata": {
    "tags": []
   },
   "outputs": [
    {
     "data": {
      "text/plain": [
       "(14835, 4)"
      ]
     },
     "execution_count": 40,
     "metadata": {},
     "output_type": "execute_result"
    }
   ],
   "source": [
    "spray_df.shape"
   ]
  },
  {
   "cell_type": "code",
   "execution_count": 41,
   "id": "682636f6-2581-48f9-baf5-e6c03df7e7fb",
   "metadata": {
    "tags": []
   },
   "outputs": [
    {
     "data": {
      "text/plain": [
       "(541, 4)"
      ]
     },
     "execution_count": 41,
     "metadata": {},
     "output_type": "execute_result"
    }
   ],
   "source": [
    "spray_df[spray_df.duplicated()].shape"
   ]
  },
  {
   "cell_type": "code",
   "execution_count": 42,
   "id": "90d7b8a7-b590-4efe-9c10-c5ae38f8d337",
   "metadata": {
    "tags": []
   },
   "outputs": [
    {
     "data": {
      "text/html": [
       "<div>\n",
       "<style scoped>\n",
       "    .dataframe tbody tr th:only-of-type {\n",
       "        vertical-align: middle;\n",
       "    }\n",
       "\n",
       "    .dataframe tbody tr th {\n",
       "        vertical-align: top;\n",
       "    }\n",
       "\n",
       "    .dataframe thead th {\n",
       "        text-align: right;\n",
       "    }\n",
       "</style>\n",
       "<table border=\"1\" class=\"dataframe\">\n",
       "  <thead>\n",
       "    <tr style=\"text-align: right;\">\n",
       "      <th></th>\n",
       "      <th>Date</th>\n",
       "      <th>Time</th>\n",
       "      <th>Latitude</th>\n",
       "      <th>Longitude</th>\n",
       "    </tr>\n",
       "  </thead>\n",
       "  <tbody>\n",
       "    <tr>\n",
       "      <th>0</th>\n",
       "      <td>2011-08-29</td>\n",
       "      <td>6:56:58 PM</td>\n",
       "      <td>42.391623</td>\n",
       "      <td>-88.089163</td>\n",
       "    </tr>\n",
       "    <tr>\n",
       "      <th>1</th>\n",
       "      <td>2011-08-29</td>\n",
       "      <td>6:57:08 PM</td>\n",
       "      <td>42.391348</td>\n",
       "      <td>-88.089163</td>\n",
       "    </tr>\n",
       "    <tr>\n",
       "      <th>2</th>\n",
       "      <td>2011-08-29</td>\n",
       "      <td>6:57:18 PM</td>\n",
       "      <td>42.391022</td>\n",
       "      <td>-88.089157</td>\n",
       "    </tr>\n",
       "    <tr>\n",
       "      <th>3</th>\n",
       "      <td>2011-08-29</td>\n",
       "      <td>6:57:28 PM</td>\n",
       "      <td>42.390637</td>\n",
       "      <td>-88.089158</td>\n",
       "    </tr>\n",
       "    <tr>\n",
       "      <th>4</th>\n",
       "      <td>2011-08-29</td>\n",
       "      <td>6:57:38 PM</td>\n",
       "      <td>42.390410</td>\n",
       "      <td>-88.088858</td>\n",
       "    </tr>\n",
       "  </tbody>\n",
       "</table>\n",
       "</div>"
      ],
      "text/plain": [
       "         Date        Time   Latitude  Longitude\n",
       "0  2011-08-29  6:56:58 PM  42.391623 -88.089163\n",
       "1  2011-08-29  6:57:08 PM  42.391348 -88.089163\n",
       "2  2011-08-29  6:57:18 PM  42.391022 -88.089157\n",
       "3  2011-08-29  6:57:28 PM  42.390637 -88.089158\n",
       "4  2011-08-29  6:57:38 PM  42.390410 -88.088858"
      ]
     },
     "execution_count": 42,
     "metadata": {},
     "output_type": "execute_result"
    }
   ],
   "source": [
    "spray_df.head()"
   ]
  },
  {
   "cell_type": "code",
   "execution_count": 43,
   "id": "16a52cb2-318f-4637-b313-9efedfa22e54",
   "metadata": {
    "tags": []
   },
   "outputs": [
    {
     "data": {
      "text/html": [
       "<div>\n",
       "<style scoped>\n",
       "    .dataframe tbody tr th:only-of-type {\n",
       "        vertical-align: middle;\n",
       "    }\n",
       "\n",
       "    .dataframe tbody tr th {\n",
       "        vertical-align: top;\n",
       "    }\n",
       "\n",
       "    .dataframe thead th {\n",
       "        text-align: right;\n",
       "    }\n",
       "</style>\n",
       "<table border=\"1\" class=\"dataframe\">\n",
       "  <thead>\n",
       "    <tr style=\"text-align: right;\">\n",
       "      <th></th>\n",
       "      <th>Latitude</th>\n",
       "      <th>Longitude</th>\n",
       "    </tr>\n",
       "  </thead>\n",
       "  <tbody>\n",
       "    <tr>\n",
       "      <th>count</th>\n",
       "      <td>14835.000000</td>\n",
       "      <td>14835.000000</td>\n",
       "    </tr>\n",
       "    <tr>\n",
       "      <th>mean</th>\n",
       "      <td>41.904828</td>\n",
       "      <td>-87.736690</td>\n",
       "    </tr>\n",
       "    <tr>\n",
       "      <th>std</th>\n",
       "      <td>0.104381</td>\n",
       "      <td>0.067292</td>\n",
       "    </tr>\n",
       "    <tr>\n",
       "      <th>min</th>\n",
       "      <td>41.713925</td>\n",
       "      <td>-88.096468</td>\n",
       "    </tr>\n",
       "    <tr>\n",
       "      <th>25%</th>\n",
       "      <td>41.785001</td>\n",
       "      <td>-87.794225</td>\n",
       "    </tr>\n",
       "    <tr>\n",
       "      <th>50%</th>\n",
       "      <td>41.940075</td>\n",
       "      <td>-87.727853</td>\n",
       "    </tr>\n",
       "    <tr>\n",
       "      <th>75%</th>\n",
       "      <td>41.980978</td>\n",
       "      <td>-87.694108</td>\n",
       "    </tr>\n",
       "    <tr>\n",
       "      <th>max</th>\n",
       "      <td>42.395983</td>\n",
       "      <td>-87.586727</td>\n",
       "    </tr>\n",
       "  </tbody>\n",
       "</table>\n",
       "</div>"
      ],
      "text/plain": [
       "           Latitude     Longitude\n",
       "count  14835.000000  14835.000000\n",
       "mean      41.904828    -87.736690\n",
       "std        0.104381      0.067292\n",
       "min       41.713925    -88.096468\n",
       "25%       41.785001    -87.794225\n",
       "50%       41.940075    -87.727853\n",
       "75%       41.980978    -87.694108\n",
       "max       42.395983    -87.586727"
      ]
     },
     "execution_count": 43,
     "metadata": {},
     "output_type": "execute_result"
    }
   ],
   "source": [
    "spray_df.describe()"
   ]
  },
  {
   "cell_type": "code",
   "execution_count": 44,
   "id": "c3f9178f-8d6c-4174-930e-1e4487c60db4",
   "metadata": {
    "tags": []
   },
   "outputs": [
    {
     "name": "stdout",
     "output_type": "stream",
     "text": [
      "<class 'pandas.core.frame.DataFrame'>\n",
      "RangeIndex: 14835 entries, 0 to 14834\n",
      "Data columns (total 4 columns):\n",
      " #   Column     Non-Null Count  Dtype  \n",
      "---  ------     --------------  -----  \n",
      " 0   Date       14835 non-null  object \n",
      " 1   Time       14251 non-null  object \n",
      " 2   Latitude   14835 non-null  float64\n",
      " 3   Longitude  14835 non-null  float64\n",
      "dtypes: float64(2), object(2)\n",
      "memory usage: 463.7+ KB\n"
     ]
    }
   ],
   "source": [
    "spray_df.info()"
   ]
  },
  {
   "cell_type": "code",
   "execution_count": 45,
   "id": "fbaa9630-fa0d-472c-8b2b-10d16fab0c64",
   "metadata": {
    "tags": []
   },
   "outputs": [
    {
     "data": {
      "text/plain": [
       "Date           0\n",
       "Time         584\n",
       "Latitude       0\n",
       "Longitude      0\n",
       "dtype: int64"
      ]
     },
     "execution_count": 45,
     "metadata": {},
     "output_type": "execute_result"
    }
   ],
   "source": [
    "spray_df.isnull().sum()"
   ]
  },
  {
   "cell_type": "markdown",
   "id": "5c67e533",
   "metadata": {},
   "source": [
    "###  3.2.1 Drop null rows in 'Time' column since there isn't much variability in time"
   ]
  },
  {
   "cell_type": "code",
   "execution_count": 46,
   "id": "57e26b0c-5357-47ed-9dd4-63239630c736",
   "metadata": {
    "tags": []
   },
   "outputs": [],
   "source": [
    "# Drop the null rows in 'Time' column\n",
    "spray_df = spray_df.dropna(subset=['Time']).reset_index(drop=True)"
   ]
  },
  {
   "cell_type": "code",
   "execution_count": 47,
   "id": "67245131-dd2a-42af-946b-c9896cf735a1",
   "metadata": {
    "tags": []
   },
   "outputs": [
    {
     "data": {
      "text/html": [
       "<div>\n",
       "<style scoped>\n",
       "    .dataframe tbody tr th:only-of-type {\n",
       "        vertical-align: middle;\n",
       "    }\n",
       "\n",
       "    .dataframe tbody tr th {\n",
       "        vertical-align: top;\n",
       "    }\n",
       "\n",
       "    .dataframe thead th {\n",
       "        text-align: right;\n",
       "    }\n",
       "</style>\n",
       "<table border=\"1\" class=\"dataframe\">\n",
       "  <thead>\n",
       "    <tr style=\"text-align: right;\">\n",
       "      <th></th>\n",
       "      <th>Date</th>\n",
       "      <th>Time</th>\n",
       "      <th>Latitude</th>\n",
       "      <th>Longitude</th>\n",
       "      <th>Day</th>\n",
       "      <th>Month</th>\n",
       "      <th>Year</th>\n",
       "      <th>Week</th>\n",
       "      <th>DayOfWeek</th>\n",
       "    </tr>\n",
       "  </thead>\n",
       "  <tbody>\n",
       "    <tr>\n",
       "      <th>0</th>\n",
       "      <td>2011-08-29</td>\n",
       "      <td>6:56:58 PM</td>\n",
       "      <td>42.391623</td>\n",
       "      <td>-88.089163</td>\n",
       "      <td>29</td>\n",
       "      <td>8</td>\n",
       "      <td>2011</td>\n",
       "      <td>35</td>\n",
       "      <td>0</td>\n",
       "    </tr>\n",
       "    <tr>\n",
       "      <th>1</th>\n",
       "      <td>2011-08-29</td>\n",
       "      <td>6:57:08 PM</td>\n",
       "      <td>42.391348</td>\n",
       "      <td>-88.089163</td>\n",
       "      <td>29</td>\n",
       "      <td>8</td>\n",
       "      <td>2011</td>\n",
       "      <td>35</td>\n",
       "      <td>0</td>\n",
       "    </tr>\n",
       "    <tr>\n",
       "      <th>2</th>\n",
       "      <td>2011-08-29</td>\n",
       "      <td>6:57:18 PM</td>\n",
       "      <td>42.391022</td>\n",
       "      <td>-88.089157</td>\n",
       "      <td>29</td>\n",
       "      <td>8</td>\n",
       "      <td>2011</td>\n",
       "      <td>35</td>\n",
       "      <td>0</td>\n",
       "    </tr>\n",
       "    <tr>\n",
       "      <th>3</th>\n",
       "      <td>2011-08-29</td>\n",
       "      <td>6:57:28 PM</td>\n",
       "      <td>42.390637</td>\n",
       "      <td>-88.089158</td>\n",
       "      <td>29</td>\n",
       "      <td>8</td>\n",
       "      <td>2011</td>\n",
       "      <td>35</td>\n",
       "      <td>0</td>\n",
       "    </tr>\n",
       "    <tr>\n",
       "      <th>4</th>\n",
       "      <td>2011-08-29</td>\n",
       "      <td>6:57:38 PM</td>\n",
       "      <td>42.390410</td>\n",
       "      <td>-88.088858</td>\n",
       "      <td>29</td>\n",
       "      <td>8</td>\n",
       "      <td>2011</td>\n",
       "      <td>35</td>\n",
       "      <td>0</td>\n",
       "    </tr>\n",
       "  </tbody>\n",
       "</table>\n",
       "</div>"
      ],
      "text/plain": [
       "        Date        Time   Latitude  Longitude  Day  Month  Year  Week  \\\n",
       "0 2011-08-29  6:56:58 PM  42.391623 -88.089163   29      8  2011    35   \n",
       "1 2011-08-29  6:57:08 PM  42.391348 -88.089163   29      8  2011    35   \n",
       "2 2011-08-29  6:57:18 PM  42.391022 -88.089157   29      8  2011    35   \n",
       "3 2011-08-29  6:57:28 PM  42.390637 -88.089158   29      8  2011    35   \n",
       "4 2011-08-29  6:57:38 PM  42.390410 -88.088858   29      8  2011    35   \n",
       "\n",
       "   DayOfWeek  \n",
       "0          0  \n",
       "1          0  \n",
       "2          0  \n",
       "3          0  \n",
       "4          0  "
      ]
     },
     "execution_count": 47,
     "metadata": {},
     "output_type": "execute_result"
    }
   ],
   "source": [
    "spray_df = date_features(spray_df)\n",
    "spray_df.head()"
   ]
  },
  {
   "cell_type": "code",
   "execution_count": 48,
   "id": "873e8a80-fc33-4e24-8434-d7f42b3c1427",
   "metadata": {
    "tags": []
   },
   "outputs": [
    {
     "data": {
      "text/html": [
       "<div>\n",
       "<style scoped>\n",
       "    .dataframe tbody tr th:only-of-type {\n",
       "        vertical-align: middle;\n",
       "    }\n",
       "\n",
       "    .dataframe tbody tr th {\n",
       "        vertical-align: top;\n",
       "    }\n",
       "\n",
       "    .dataframe thead th {\n",
       "        text-align: right;\n",
       "    }\n",
       "</style>\n",
       "<table border=\"1\" class=\"dataframe\">\n",
       "  <thead>\n",
       "    <tr style=\"text-align: right;\">\n",
       "      <th></th>\n",
       "      <th>date</th>\n",
       "      <th>time</th>\n",
       "      <th>latitude</th>\n",
       "      <th>longitude</th>\n",
       "      <th>day</th>\n",
       "      <th>month</th>\n",
       "      <th>year</th>\n",
       "      <th>week</th>\n",
       "      <th>dayofweek</th>\n",
       "    </tr>\n",
       "  </thead>\n",
       "  <tbody>\n",
       "    <tr>\n",
       "      <th>0</th>\n",
       "      <td>2011-08-29</td>\n",
       "      <td>6:56:58 PM</td>\n",
       "      <td>42.391623</td>\n",
       "      <td>-88.089163</td>\n",
       "      <td>29</td>\n",
       "      <td>8</td>\n",
       "      <td>2011</td>\n",
       "      <td>35</td>\n",
       "      <td>0</td>\n",
       "    </tr>\n",
       "    <tr>\n",
       "      <th>1</th>\n",
       "      <td>2011-08-29</td>\n",
       "      <td>6:57:08 PM</td>\n",
       "      <td>42.391348</td>\n",
       "      <td>-88.089163</td>\n",
       "      <td>29</td>\n",
       "      <td>8</td>\n",
       "      <td>2011</td>\n",
       "      <td>35</td>\n",
       "      <td>0</td>\n",
       "    </tr>\n",
       "    <tr>\n",
       "      <th>2</th>\n",
       "      <td>2011-08-29</td>\n",
       "      <td>6:57:18 PM</td>\n",
       "      <td>42.391022</td>\n",
       "      <td>-88.089157</td>\n",
       "      <td>29</td>\n",
       "      <td>8</td>\n",
       "      <td>2011</td>\n",
       "      <td>35</td>\n",
       "      <td>0</td>\n",
       "    </tr>\n",
       "    <tr>\n",
       "      <th>3</th>\n",
       "      <td>2011-08-29</td>\n",
       "      <td>6:57:28 PM</td>\n",
       "      <td>42.390637</td>\n",
       "      <td>-88.089158</td>\n",
       "      <td>29</td>\n",
       "      <td>8</td>\n",
       "      <td>2011</td>\n",
       "      <td>35</td>\n",
       "      <td>0</td>\n",
       "    </tr>\n",
       "    <tr>\n",
       "      <th>4</th>\n",
       "      <td>2011-08-29</td>\n",
       "      <td>6:57:38 PM</td>\n",
       "      <td>42.390410</td>\n",
       "      <td>-88.088858</td>\n",
       "      <td>29</td>\n",
       "      <td>8</td>\n",
       "      <td>2011</td>\n",
       "      <td>35</td>\n",
       "      <td>0</td>\n",
       "    </tr>\n",
       "  </tbody>\n",
       "</table>\n",
       "</div>"
      ],
      "text/plain": [
       "        date        time   latitude  longitude  day  month  year  week  \\\n",
       "0 2011-08-29  6:56:58 PM  42.391623 -88.089163   29      8  2011    35   \n",
       "1 2011-08-29  6:57:08 PM  42.391348 -88.089163   29      8  2011    35   \n",
       "2 2011-08-29  6:57:18 PM  42.391022 -88.089157   29      8  2011    35   \n",
       "3 2011-08-29  6:57:28 PM  42.390637 -88.089158   29      8  2011    35   \n",
       "4 2011-08-29  6:57:38 PM  42.390410 -88.088858   29      8  2011    35   \n",
       "\n",
       "   dayofweek  \n",
       "0          0  \n",
       "1          0  \n",
       "2          0  \n",
       "3          0  \n",
       "4          0  "
      ]
     },
     "execution_count": 48,
     "metadata": {},
     "output_type": "execute_result"
    }
   ],
   "source": [
    "spray_df.columns = spray_df.columns.str.lower()\n",
    "spray_df.head()"
   ]
  },
  {
   "cell_type": "code",
   "execution_count": 49,
   "id": "22adf85b-1b5a-4a77-8453-f2870e2725ef",
   "metadata": {},
   "outputs": [
    {
     "data": {
      "text/plain": [
       "(14251, 9)"
      ]
     },
     "execution_count": 49,
     "metadata": {},
     "output_type": "execute_result"
    }
   ],
   "source": [
    "# Check final shape of spray_df\n",
    "spray_df.shape"
   ]
  },
  {
   "cell_type": "markdown",
   "id": "77718d78-d4d3-440a-a8b1-68c108701067",
   "metadata": {},
   "source": [
    "### 3.3.0 Exploring Weather Dataset"
   ]
  },
  {
   "cell_type": "code",
   "execution_count": 50,
   "id": "37f09a4a-9ce1-4aab-a979-e6dbfdddb6bf",
   "metadata": {
    "tags": []
   },
   "outputs": [
    {
     "data": {
      "text/html": [
       "<div>\n",
       "<style scoped>\n",
       "    .dataframe tbody tr th:only-of-type {\n",
       "        vertical-align: middle;\n",
       "    }\n",
       "\n",
       "    .dataframe tbody tr th {\n",
       "        vertical-align: top;\n",
       "    }\n",
       "\n",
       "    .dataframe thead th {\n",
       "        text-align: right;\n",
       "    }\n",
       "</style>\n",
       "<table border=\"1\" class=\"dataframe\">\n",
       "  <thead>\n",
       "    <tr style=\"text-align: right;\">\n",
       "      <th></th>\n",
       "      <th>Station</th>\n",
       "      <th>Date</th>\n",
       "      <th>Tmax</th>\n",
       "      <th>Tmin</th>\n",
       "      <th>Tavg</th>\n",
       "      <th>Depart</th>\n",
       "      <th>DewPoint</th>\n",
       "      <th>WetBulb</th>\n",
       "      <th>Heat</th>\n",
       "      <th>Cool</th>\n",
       "      <th>...</th>\n",
       "      <th>CodeSum</th>\n",
       "      <th>Depth</th>\n",
       "      <th>Water1</th>\n",
       "      <th>SnowFall</th>\n",
       "      <th>PrecipTotal</th>\n",
       "      <th>StnPressure</th>\n",
       "      <th>SeaLevel</th>\n",
       "      <th>ResultSpeed</th>\n",
       "      <th>ResultDir</th>\n",
       "      <th>AvgSpeed</th>\n",
       "    </tr>\n",
       "  </thead>\n",
       "  <tbody>\n",
       "    <tr>\n",
       "      <th>0</th>\n",
       "      <td>1</td>\n",
       "      <td>2007-05-01</td>\n",
       "      <td>83</td>\n",
       "      <td>50</td>\n",
       "      <td>67</td>\n",
       "      <td>14</td>\n",
       "      <td>51</td>\n",
       "      <td>56</td>\n",
       "      <td>0</td>\n",
       "      <td>2</td>\n",
       "      <td>...</td>\n",
       "      <td></td>\n",
       "      <td>0</td>\n",
       "      <td>M</td>\n",
       "      <td>0.0</td>\n",
       "      <td>0.00</td>\n",
       "      <td>29.10</td>\n",
       "      <td>29.82</td>\n",
       "      <td>1.7</td>\n",
       "      <td>27</td>\n",
       "      <td>9.2</td>\n",
       "    </tr>\n",
       "    <tr>\n",
       "      <th>1</th>\n",
       "      <td>2</td>\n",
       "      <td>2007-05-01</td>\n",
       "      <td>84</td>\n",
       "      <td>52</td>\n",
       "      <td>68</td>\n",
       "      <td>M</td>\n",
       "      <td>51</td>\n",
       "      <td>57</td>\n",
       "      <td>0</td>\n",
       "      <td>3</td>\n",
       "      <td>...</td>\n",
       "      <td></td>\n",
       "      <td>M</td>\n",
       "      <td>M</td>\n",
       "      <td>M</td>\n",
       "      <td>0.00</td>\n",
       "      <td>29.18</td>\n",
       "      <td>29.82</td>\n",
       "      <td>2.7</td>\n",
       "      <td>25</td>\n",
       "      <td>9.6</td>\n",
       "    </tr>\n",
       "    <tr>\n",
       "      <th>2</th>\n",
       "      <td>1</td>\n",
       "      <td>2007-05-02</td>\n",
       "      <td>59</td>\n",
       "      <td>42</td>\n",
       "      <td>51</td>\n",
       "      <td>-3</td>\n",
       "      <td>42</td>\n",
       "      <td>47</td>\n",
       "      <td>14</td>\n",
       "      <td>0</td>\n",
       "      <td>...</td>\n",
       "      <td>BR</td>\n",
       "      <td>0</td>\n",
       "      <td>M</td>\n",
       "      <td>0.0</td>\n",
       "      <td>0.00</td>\n",
       "      <td>29.38</td>\n",
       "      <td>30.09</td>\n",
       "      <td>13.0</td>\n",
       "      <td>4</td>\n",
       "      <td>13.4</td>\n",
       "    </tr>\n",
       "    <tr>\n",
       "      <th>3</th>\n",
       "      <td>2</td>\n",
       "      <td>2007-05-02</td>\n",
       "      <td>60</td>\n",
       "      <td>43</td>\n",
       "      <td>52</td>\n",
       "      <td>M</td>\n",
       "      <td>42</td>\n",
       "      <td>47</td>\n",
       "      <td>13</td>\n",
       "      <td>0</td>\n",
       "      <td>...</td>\n",
       "      <td>BR HZ</td>\n",
       "      <td>M</td>\n",
       "      <td>M</td>\n",
       "      <td>M</td>\n",
       "      <td>0.00</td>\n",
       "      <td>29.44</td>\n",
       "      <td>30.08</td>\n",
       "      <td>13.3</td>\n",
       "      <td>2</td>\n",
       "      <td>13.4</td>\n",
       "    </tr>\n",
       "    <tr>\n",
       "      <th>4</th>\n",
       "      <td>1</td>\n",
       "      <td>2007-05-03</td>\n",
       "      <td>66</td>\n",
       "      <td>46</td>\n",
       "      <td>56</td>\n",
       "      <td>2</td>\n",
       "      <td>40</td>\n",
       "      <td>48</td>\n",
       "      <td>9</td>\n",
       "      <td>0</td>\n",
       "      <td>...</td>\n",
       "      <td></td>\n",
       "      <td>0</td>\n",
       "      <td>M</td>\n",
       "      <td>0.0</td>\n",
       "      <td>0.00</td>\n",
       "      <td>29.39</td>\n",
       "      <td>30.12</td>\n",
       "      <td>11.7</td>\n",
       "      <td>7</td>\n",
       "      <td>11.9</td>\n",
       "    </tr>\n",
       "  </tbody>\n",
       "</table>\n",
       "<p>5 rows × 22 columns</p>\n",
       "</div>"
      ],
      "text/plain": [
       "   Station        Date  Tmax  Tmin Tavg Depart  DewPoint WetBulb Heat Cool  \\\n",
       "0        1  2007-05-01    83    50   67     14        51      56    0    2   \n",
       "1        2  2007-05-01    84    52   68      M        51      57    0    3   \n",
       "2        1  2007-05-02    59    42   51     -3        42      47   14    0   \n",
       "3        2  2007-05-02    60    43   52      M        42      47   13    0   \n",
       "4        1  2007-05-03    66    46   56      2        40      48    9    0   \n",
       "\n",
       "   ... CodeSum Depth Water1 SnowFall PrecipTotal StnPressure SeaLevel  \\\n",
       "0  ...             0      M      0.0        0.00       29.10    29.82   \n",
       "1  ...             M      M        M        0.00       29.18    29.82   \n",
       "2  ...      BR     0      M      0.0        0.00       29.38    30.09   \n",
       "3  ...   BR HZ     M      M        M        0.00       29.44    30.08   \n",
       "4  ...             0      M      0.0        0.00       29.39    30.12   \n",
       "\n",
       "  ResultSpeed ResultDir  AvgSpeed  \n",
       "0         1.7        27       9.2  \n",
       "1         2.7        25       9.6  \n",
       "2        13.0         4      13.4  \n",
       "3        13.3         2      13.4  \n",
       "4        11.7         7      11.9  \n",
       "\n",
       "[5 rows x 22 columns]"
      ]
     },
     "execution_count": 50,
     "metadata": {},
     "output_type": "execute_result"
    }
   ],
   "source": [
    "weather_df.head()"
   ]
  },
  {
   "cell_type": "code",
   "execution_count": 51,
   "id": "aa853063-0bc0-4033-ad33-e4056adf4789",
   "metadata": {
    "tags": []
   },
   "outputs": [
    {
     "data": {
      "text/html": [
       "<div>\n",
       "<style scoped>\n",
       "    .dataframe tbody tr th:only-of-type {\n",
       "        vertical-align: middle;\n",
       "    }\n",
       "\n",
       "    .dataframe tbody tr th {\n",
       "        vertical-align: top;\n",
       "    }\n",
       "\n",
       "    .dataframe thead th {\n",
       "        text-align: right;\n",
       "    }\n",
       "</style>\n",
       "<table border=\"1\" class=\"dataframe\">\n",
       "  <thead>\n",
       "    <tr style=\"text-align: right;\">\n",
       "      <th></th>\n",
       "      <th>Station</th>\n",
       "      <th>ResultSpeed</th>\n",
       "      <th>ResultDir</th>\n",
       "      <th>Tmin</th>\n",
       "      <th>DewPoint</th>\n",
       "      <th>Tmax</th>\n",
       "    </tr>\n",
       "  </thead>\n",
       "  <tbody>\n",
       "    <tr>\n",
       "      <th>count</th>\n",
       "      <td>2944.000000</td>\n",
       "      <td>2944.000000</td>\n",
       "      <td>2944.000000</td>\n",
       "      <td>2944.000000</td>\n",
       "      <td>2944.000000</td>\n",
       "      <td>2944.000000</td>\n",
       "    </tr>\n",
       "    <tr>\n",
       "      <th>mean</th>\n",
       "      <td>1.500000</td>\n",
       "      <td>6.960666</td>\n",
       "      <td>17.494905</td>\n",
       "      <td>57.810462</td>\n",
       "      <td>53.457880</td>\n",
       "      <td>76.166101</td>\n",
       "    </tr>\n",
       "    <tr>\n",
       "      <th>std</th>\n",
       "      <td>0.500085</td>\n",
       "      <td>3.587527</td>\n",
       "      <td>10.063609</td>\n",
       "      <td>10.381939</td>\n",
       "      <td>10.675181</td>\n",
       "      <td>11.461970</td>\n",
       "    </tr>\n",
       "    <tr>\n",
       "      <th>min</th>\n",
       "      <td>1.000000</td>\n",
       "      <td>0.100000</td>\n",
       "      <td>1.000000</td>\n",
       "      <td>29.000000</td>\n",
       "      <td>22.000000</td>\n",
       "      <td>41.000000</td>\n",
       "    </tr>\n",
       "    <tr>\n",
       "      <th>25%</th>\n",
       "      <td>1.000000</td>\n",
       "      <td>4.300000</td>\n",
       "      <td>7.000000</td>\n",
       "      <td>50.000000</td>\n",
       "      <td>46.000000</td>\n",
       "      <td>69.000000</td>\n",
       "    </tr>\n",
       "    <tr>\n",
       "      <th>50%</th>\n",
       "      <td>1.500000</td>\n",
       "      <td>6.400000</td>\n",
       "      <td>19.000000</td>\n",
       "      <td>59.000000</td>\n",
       "      <td>54.000000</td>\n",
       "      <td>78.000000</td>\n",
       "    </tr>\n",
       "    <tr>\n",
       "      <th>75%</th>\n",
       "      <td>2.000000</td>\n",
       "      <td>9.200000</td>\n",
       "      <td>25.000000</td>\n",
       "      <td>66.000000</td>\n",
       "      <td>62.000000</td>\n",
       "      <td>85.000000</td>\n",
       "    </tr>\n",
       "    <tr>\n",
       "      <th>max</th>\n",
       "      <td>2.000000</td>\n",
       "      <td>24.100000</td>\n",
       "      <td>36.000000</td>\n",
       "      <td>83.000000</td>\n",
       "      <td>75.000000</td>\n",
       "      <td>104.000000</td>\n",
       "    </tr>\n",
       "  </tbody>\n",
       "</table>\n",
       "</div>"
      ],
      "text/plain": [
       "           Station  ResultSpeed    ResultDir         Tmin     DewPoint  \\\n",
       "count  2944.000000  2944.000000  2944.000000  2944.000000  2944.000000   \n",
       "mean      1.500000     6.960666    17.494905    57.810462    53.457880   \n",
       "std       0.500085     3.587527    10.063609    10.381939    10.675181   \n",
       "min       1.000000     0.100000     1.000000    29.000000    22.000000   \n",
       "25%       1.000000     4.300000     7.000000    50.000000    46.000000   \n",
       "50%       1.500000     6.400000    19.000000    59.000000    54.000000   \n",
       "75%       2.000000     9.200000    25.000000    66.000000    62.000000   \n",
       "max       2.000000    24.100000    36.000000    83.000000    75.000000   \n",
       "\n",
       "              Tmax  \n",
       "count  2944.000000  \n",
       "mean     76.166101  \n",
       "std      11.461970  \n",
       "min      41.000000  \n",
       "25%      69.000000  \n",
       "50%      78.000000  \n",
       "75%      85.000000  \n",
       "max     104.000000  "
      ]
     },
     "execution_count": 51,
     "metadata": {},
     "output_type": "execute_result"
    }
   ],
   "source": [
    "weather_df.describe().sort_values('std',axis=1)"
   ]
  },
  {
   "cell_type": "code",
   "execution_count": 52,
   "id": "ae01d667-5f46-45a0-942f-83cf6b290f20",
   "metadata": {
    "tags": []
   },
   "outputs": [
    {
     "name": "stdout",
     "output_type": "stream",
     "text": [
      "<class 'pandas.core.frame.DataFrame'>\n",
      "RangeIndex: 2944 entries, 0 to 2943\n",
      "Data columns (total 22 columns):\n",
      " #   Column       Non-Null Count  Dtype  \n",
      "---  ------       --------------  -----  \n",
      " 0   Station      2944 non-null   int64  \n",
      " 1   Date         2944 non-null   object \n",
      " 2   Tmax         2944 non-null   int64  \n",
      " 3   Tmin         2944 non-null   int64  \n",
      " 4   Tavg         2944 non-null   object \n",
      " 5   Depart       2944 non-null   object \n",
      " 6   DewPoint     2944 non-null   int64  \n",
      " 7   WetBulb      2944 non-null   object \n",
      " 8   Heat         2944 non-null   object \n",
      " 9   Cool         2944 non-null   object \n",
      " 10  Sunrise      2944 non-null   object \n",
      " 11  Sunset       2944 non-null   object \n",
      " 12  CodeSum      2944 non-null   object \n",
      " 13  Depth        2944 non-null   object \n",
      " 14  Water1       2944 non-null   object \n",
      " 15  SnowFall     2944 non-null   object \n",
      " 16  PrecipTotal  2944 non-null   object \n",
      " 17  StnPressure  2944 non-null   object \n",
      " 18  SeaLevel     2944 non-null   object \n",
      " 19  ResultSpeed  2944 non-null   float64\n",
      " 20  ResultDir    2944 non-null   int64  \n",
      " 21  AvgSpeed     2944 non-null   object \n",
      "dtypes: float64(1), int64(5), object(16)\n",
      "memory usage: 506.1+ KB\n"
     ]
    }
   ],
   "source": [
    "weather_df.info()"
   ]
  },
  {
   "cell_type": "code",
   "execution_count": 53,
   "id": "540c82a9-613c-42bb-8a1c-fb7fe4ea6535",
   "metadata": {
    "tags": []
   },
   "outputs": [
    {
     "data": {
      "text/plain": [
       "Station        0\n",
       "Date           0\n",
       "Tmax           0\n",
       "Tmin           0\n",
       "Tavg           0\n",
       "Depart         0\n",
       "DewPoint       0\n",
       "WetBulb        0\n",
       "Heat           0\n",
       "Cool           0\n",
       "Sunrise        0\n",
       "Sunset         0\n",
       "CodeSum        0\n",
       "Depth          0\n",
       "Water1         0\n",
       "SnowFall       0\n",
       "PrecipTotal    0\n",
       "StnPressure    0\n",
       "SeaLevel       0\n",
       "ResultSpeed    0\n",
       "ResultDir      0\n",
       "AvgSpeed       0\n",
       "dtype: int64"
      ]
     },
     "execution_count": 53,
     "metadata": {},
     "output_type": "execute_result"
    }
   ],
   "source": [
    "# There does not seem to be any null values.\n",
    "weather_df.isnull().sum()"
   ]
  },
  {
   "cell_type": "code",
   "execution_count": 54,
   "id": "a6db37ee",
   "metadata": {},
   "outputs": [
    {
     "data": {
      "text/plain": [
       "PrecipTotal\n",
       "0.00    1577\n",
       "  T      318\n",
       "0.01     127\n",
       "0.02      63\n",
       "0.03      46\n",
       "        ... \n",
       "3.64       1\n",
       "4.73       1\n",
       "1.60       1\n",
       "2.24       1\n",
       "1.18       1\n",
       "Name: count, Length: 168, dtype: int64"
      ]
     },
     "execution_count": 54,
     "metadata": {},
     "output_type": "execute_result"
    }
   ],
   "source": [
    "# Check out what values PrecipTotal has\n",
    "weather_df['PrecipTotal'].value_counts()"
   ]
  },
  {
   "cell_type": "markdown",
   "id": "8f46ab52",
   "metadata": {},
   "source": [
    "### 3.3.1  Exploring for missing (' ') in weather dataset "
   ]
  },
  {
   "cell_type": "code",
   "execution_count": 55,
   "id": "91965315-25b2-4483-9a61-e5b6d55d8e2a",
   "metadata": {
    "tags": []
   },
   "outputs": [],
   "source": [
    "# Calculate percentage of required char in affected columns\n",
    "def missing(char):\n",
    "    vals = (weather_df == char).sum()\n",
    "    return 100*vals[vals > 0]/len(weather_df)"
   ]
  },
  {
   "cell_type": "code",
   "execution_count": 56,
   "id": "a568435b-a385-4e7a-814e-7b5b0b74c2f6",
   "metadata": {
    "tags": []
   },
   "outputs": [
    {
     "data": {
      "text/plain": [
       "CodeSum    54.653533\n",
       "dtype: float64"
      ]
     },
     "execution_count": 56,
     "metadata": {},
     "output_type": "execute_result"
    }
   ],
   "source": [
    "# There are empty strings.\n",
    "missing(' ')"
   ]
  },
  {
   "cell_type": "markdown",
   "id": "85400d1e",
   "metadata": {},
   "source": [
    "### 3.3.2  Exploring for missing ('-') in weather dataset "
   ]
  },
  {
   "cell_type": "code",
   "execution_count": 57,
   "id": "899cf0b8-947e-414e-bb62-528998b0ba4c",
   "metadata": {
    "tags": []
   },
   "outputs": [
    {
     "data": {
      "text/plain": [
       "Sunrise    50.0\n",
       "Sunset     50.0\n",
       "dtype: float64"
      ]
     },
     "execution_count": 57,
     "metadata": {},
     "output_type": "execute_result"
    }
   ],
   "source": [
    "# There are also '-' values as cited in the documentation.\n",
    "missing('-')"
   ]
  },
  {
   "cell_type": "markdown",
   "id": "f443575c",
   "metadata": {},
   "source": [
    "### 3.3.3  Exploring for missing ('-') in weather dataset "
   ]
  },
  {
   "cell_type": "code",
   "execution_count": 58,
   "id": "cd5dcde0-a539-4b16-848e-c93218090683",
   "metadata": {
    "tags": []
   },
   "outputs": [
    {
     "data": {
      "text/plain": [
       "Tavg             0.373641\n",
       "Depart          50.000000\n",
       "WetBulb          0.135870\n",
       "Heat             0.373641\n",
       "Cool             0.373641\n",
       "Depth           50.000000\n",
       "Water1         100.000000\n",
       "SnowFall        50.000000\n",
       "PrecipTotal      0.067935\n",
       "StnPressure      0.135870\n",
       "SeaLevel         0.305707\n",
       "AvgSpeed         0.101902\n",
       "dtype: float64"
      ]
     },
     "execution_count": 58,
     "metadata": {},
     "output_type": "execute_result"
    }
   ],
   "source": [
    "# There are also 'M' values as cited in the documentation.\n",
    "missing('M')"
   ]
  },
  {
   "cell_type": "code",
   "execution_count": 59,
   "id": "ed140091",
   "metadata": {},
   "outputs": [
    {
     "data": {
      "text/plain": [
       "Station  Sunrise  Sunset\n",
       "2        -        -         1472\n",
       "Name: count, dtype: int64"
      ]
     },
     "execution_count": 59,
     "metadata": {},
     "output_type": "execute_result"
    }
   ],
   "source": [
    "# All '-' values come from Station 2\n",
    "weather_df[weather_df['Station']==2][['Station','Sunrise','Sunset']].value_counts()"
   ]
  },
  {
   "cell_type": "markdown",
   "id": "243e0fe2",
   "metadata": {},
   "source": [
    "### 3.3.4  Exploring for missing (' T') in weather dataset "
   ]
  },
  {
   "cell_type": "code",
   "execution_count": 60,
   "id": "f65b4d3b-a8a6-4568-b01a-469c00eea75a",
   "metadata": {
    "tags": []
   },
   "outputs": [
    {
     "data": {
      "text/plain": [
       "SnowFall        0.407609\n",
       "PrecipTotal    10.801630\n",
       "dtype: float64"
      ]
     },
     "execution_count": 60,
     "metadata": {},
     "output_type": "execute_result"
    }
   ],
   "source": [
    "# There are also 'T' values as cited in the documentation.\n",
    "missing('  T')"
   ]
  },
  {
   "cell_type": "markdown",
   "id": "8f3c5478",
   "metadata": {},
   "source": [
    "### 3.3.5  Exploring for missing (' T') in weather dataset "
   ]
  },
  {
   "cell_type": "code",
   "execution_count": 61,
   "id": "b21bf9b8-16df-485c-b6b8-72acfcd5726a",
   "metadata": {
    "tags": []
   },
   "outputs": [
    {
     "data": {
      "text/html": [
       "<div>\n",
       "<style scoped>\n",
       "    .dataframe tbody tr th:only-of-type {\n",
       "        vertical-align: middle;\n",
       "    }\n",
       "\n",
       "    .dataframe tbody tr th {\n",
       "        vertical-align: top;\n",
       "    }\n",
       "\n",
       "    .dataframe thead th {\n",
       "        text-align: right;\n",
       "    }\n",
       "</style>\n",
       "<table border=\"1\" class=\"dataframe\">\n",
       "  <thead>\n",
       "    <tr style=\"text-align: right;\">\n",
       "      <th></th>\n",
       "      <th>Tavg</th>\n",
       "      <th>Tmin</th>\n",
       "      <th>Tmax</th>\n",
       "    </tr>\n",
       "  </thead>\n",
       "  <tbody>\n",
       "    <tr>\n",
       "      <th>7</th>\n",
       "      <td>M</td>\n",
       "      <td>51</td>\n",
       "      <td>78</td>\n",
       "    </tr>\n",
       "    <tr>\n",
       "      <th>505</th>\n",
       "      <td>M</td>\n",
       "      <td>46</td>\n",
       "      <td>86</td>\n",
       "    </tr>\n",
       "    <tr>\n",
       "      <th>675</th>\n",
       "      <td>M</td>\n",
       "      <td>46</td>\n",
       "      <td>62</td>\n",
       "    </tr>\n",
       "    <tr>\n",
       "      <th>1637</th>\n",
       "      <td>M</td>\n",
       "      <td>71</td>\n",
       "      <td>100</td>\n",
       "    </tr>\n",
       "    <tr>\n",
       "      <th>2067</th>\n",
       "      <td>M</td>\n",
       "      <td>72</td>\n",
       "      <td>84</td>\n",
       "    </tr>\n",
       "    <tr>\n",
       "      <th>2211</th>\n",
       "      <td>M</td>\n",
       "      <td>42</td>\n",
       "      <td>71</td>\n",
       "    </tr>\n",
       "    <tr>\n",
       "      <th>2501</th>\n",
       "      <td>M</td>\n",
       "      <td>52</td>\n",
       "      <td>91</td>\n",
       "    </tr>\n",
       "    <tr>\n",
       "      <th>2511</th>\n",
       "      <td>M</td>\n",
       "      <td>53</td>\n",
       "      <td>84</td>\n",
       "    </tr>\n",
       "    <tr>\n",
       "      <th>2525</th>\n",
       "      <td>M</td>\n",
       "      <td>48</td>\n",
       "      <td>76</td>\n",
       "    </tr>\n",
       "    <tr>\n",
       "      <th>2579</th>\n",
       "      <td>M</td>\n",
       "      <td>47</td>\n",
       "      <td>80</td>\n",
       "    </tr>\n",
       "    <tr>\n",
       "      <th>2811</th>\n",
       "      <td>M</td>\n",
       "      <td>49</td>\n",
       "      <td>86</td>\n",
       "    </tr>\n",
       "  </tbody>\n",
       "</table>\n",
       "</div>"
      ],
      "text/plain": [
       "     Tavg  Tmin  Tmax\n",
       "7       M    51    78\n",
       "505     M    46    86\n",
       "675     M    46    62\n",
       "1637    M    71   100\n",
       "2067    M    72    84\n",
       "2211    M    42    71\n",
       "2501    M    52    91\n",
       "2511    M    53    84\n",
       "2525    M    48    76\n",
       "2579    M    47    80\n",
       "2811    M    49    86"
      ]
     },
     "execution_count": 61,
     "metadata": {},
     "output_type": "execute_result"
    }
   ],
   "source": [
    "weather_df[weather_df['Tavg']=='M'][['Tavg','Tmin','Tmax']]"
   ]
  },
  {
   "cell_type": "code",
   "execution_count": 62,
   "id": "6488d948-be68-411d-8a4e-dcdbbb46f655",
   "metadata": {
    "tags": []
   },
   "outputs": [
    {
     "data": {
      "text/html": [
       "<div>\n",
       "<style scoped>\n",
       "    .dataframe tbody tr th:only-of-type {\n",
       "        vertical-align: middle;\n",
       "    }\n",
       "\n",
       "    .dataframe tbody tr th {\n",
       "        vertical-align: top;\n",
       "    }\n",
       "\n",
       "    .dataframe thead th {\n",
       "        text-align: right;\n",
       "    }\n",
       "</style>\n",
       "<table border=\"1\" class=\"dataframe\">\n",
       "  <thead>\n",
       "    <tr style=\"text-align: right;\">\n",
       "      <th></th>\n",
       "      <th>Tavg</th>\n",
       "      <th>Tmin</th>\n",
       "      <th>Tmax</th>\n",
       "    </tr>\n",
       "  </thead>\n",
       "  <tbody>\n",
       "    <tr>\n",
       "      <th>0</th>\n",
       "      <td>67</td>\n",
       "      <td>50</td>\n",
       "      <td>83</td>\n",
       "    </tr>\n",
       "    <tr>\n",
       "      <th>1</th>\n",
       "      <td>68</td>\n",
       "      <td>52</td>\n",
       "      <td>84</td>\n",
       "    </tr>\n",
       "    <tr>\n",
       "      <th>2</th>\n",
       "      <td>51</td>\n",
       "      <td>42</td>\n",
       "      <td>59</td>\n",
       "    </tr>\n",
       "    <tr>\n",
       "      <th>3</th>\n",
       "      <td>52</td>\n",
       "      <td>43</td>\n",
       "      <td>60</td>\n",
       "    </tr>\n",
       "    <tr>\n",
       "      <th>4</th>\n",
       "      <td>56</td>\n",
       "      <td>46</td>\n",
       "      <td>66</td>\n",
       "    </tr>\n",
       "    <tr>\n",
       "      <th>...</th>\n",
       "      <td>...</td>\n",
       "      <td>...</td>\n",
       "      <td>...</td>\n",
       "    </tr>\n",
       "    <tr>\n",
       "      <th>2939</th>\n",
       "      <td>45</td>\n",
       "      <td>40</td>\n",
       "      <td>49</td>\n",
       "    </tr>\n",
       "    <tr>\n",
       "      <th>2940</th>\n",
       "      <td>42</td>\n",
       "      <td>32</td>\n",
       "      <td>51</td>\n",
       "    </tr>\n",
       "    <tr>\n",
       "      <th>2941</th>\n",
       "      <td>45</td>\n",
       "      <td>37</td>\n",
       "      <td>53</td>\n",
       "    </tr>\n",
       "    <tr>\n",
       "      <th>2942</th>\n",
       "      <td>40</td>\n",
       "      <td>33</td>\n",
       "      <td>47</td>\n",
       "    </tr>\n",
       "    <tr>\n",
       "      <th>2943</th>\n",
       "      <td>42</td>\n",
       "      <td>34</td>\n",
       "      <td>49</td>\n",
       "    </tr>\n",
       "  </tbody>\n",
       "</table>\n",
       "<p>2944 rows × 3 columns</p>\n",
       "</div>"
      ],
      "text/plain": [
       "     Tavg  Tmin  Tmax\n",
       "0      67    50    83\n",
       "1      68    52    84\n",
       "2      51    42    59\n",
       "3      52    43    60\n",
       "4      56    46    66\n",
       "...   ...   ...   ...\n",
       "2939   45    40    49\n",
       "2940   42    32    51\n",
       "2941   45    37    53\n",
       "2942   40    33    47\n",
       "2943   42    34    49\n",
       "\n",
       "[2944 rows x 3 columns]"
      ]
     },
     "execution_count": 62,
     "metadata": {},
     "output_type": "execute_result"
    }
   ],
   "source": [
    "weather_df[['Tavg','Tmin','Tmax']]"
   ]
  },
  {
   "cell_type": "code",
   "execution_count": 63,
   "id": "f17a411f-bc3b-414e-9433-4003cc2ff801",
   "metadata": {
    "tags": []
   },
   "outputs": [
    {
     "data": {
      "text/plain": [
       "0       66.5\n",
       "1       68.0\n",
       "2       50.5\n",
       "3       51.5\n",
       "4       56.0\n",
       "        ... \n",
       "2939    44.5\n",
       "2940    41.5\n",
       "2941    45.0\n",
       "2942    40.0\n",
       "2943    41.5\n",
       "Length: 2944, dtype: float64"
      ]
     },
     "execution_count": 63,
     "metadata": {},
     "output_type": "execute_result"
    }
   ],
   "source": [
    "# Calculate the average temperature from Tmin and Tmax\n",
    "# Trend is to round up the value\n",
    "# We can use the same technique to impute the missing values in Tavg\n",
    "0.5 * weather_df['Tmin'] + 0.5 * weather_df['Tmax']"
   ]
  },
  {
   "cell_type": "markdown",
   "id": "9a02dbc8-c8e4-4a48-870a-9652dc237609",
   "metadata": {
    "tags": []
   },
   "source": [
    "<b>Actions to be taken on weather dataset</b>\n",
    "1. Extract day, month, year, day of the week after converting 'Date' to datetime object.\n",
    "2. Replace 'M' values in 'Tavg' column using the average from 'Tmin' and 'Tmax' and rounding it up.\n",
    "3. Using forward fill to replace 'M' values in 'WetBulb', 'Heat, 'Cool', 'PrecipTotal', 'StnPressure', 'SeaLevel' and 'AvgSpeed' columns to maintain temporal consistency in the weather data.\n",
    "4. For 'PrecipTotal', convert to boolean values, either 'Y' or 'N' for presence of precipitation.\n",
    "\n"
   ]
  },
  {
   "cell_type": "markdown",
   "id": "928c1981",
   "metadata": {},
   "source": [
    "### 3.3.6 Impute 'Sunrise' and 'Sunset' missing values in Station 2 using forward fill."
   ]
  },
  {
   "cell_type": "code",
   "execution_count": 64,
   "id": "30fc9866-9315-4821-850b-8ffa696af0b8",
   "metadata": {
    "tags": []
   },
   "outputs": [],
   "source": [
    "# Drop the columns where there are more than 30% missing values\n",
    "drop_list = ['CodeSum','Depart','SnowFall','Water1','Depth']\n",
    "weather_df.drop(columns=drop_list, inplace=True)"
   ]
  },
  {
   "cell_type": "code",
   "execution_count": 65,
   "id": "adbf7609-aa27-46e1-8562-4b7219f5424e",
   "metadata": {},
   "outputs": [
    {
     "name": "stderr",
     "output_type": "stream",
     "text": [
      "/var/folders/p9/16kl5pg15yqfvffg7lzl43tc0000gn/T/ipykernel_14623/1891545534.py:5: FutureWarning: Series.fillna with 'method' is deprecated and will raise in a future version. Use obj.ffill() or obj.bfill() instead.\n",
      "  weather_df['Sunrise'] = weather_df['Sunrise'].fillna(method='ffill')\n",
      "/var/folders/p9/16kl5pg15yqfvffg7lzl43tc0000gn/T/ipykernel_14623/1891545534.py:6: FutureWarning: Series.fillna with 'method' is deprecated and will raise in a future version. Use obj.ffill() or obj.bfill() instead.\n",
      "  weather_df['Sunset'] = weather_df['Sunset'].fillna(method='ffill')\n",
      "/var/folders/p9/16kl5pg15yqfvffg7lzl43tc0000gn/T/ipykernel_14623/1891545534.py:16: FutureWarning: DataFrame.fillna with 'method' is deprecated and will raise in a future version. Use obj.ffill() or obj.bfill() instead.\n",
      "  weather_df = weather_df.replace('M', np.nan).fillna(method='ffill')\n"
     ]
    }
   ],
   "source": [
    "# Perform imputation\n",
    "\n",
    "weather_df['Sunrise'].replace('-', np.nan, inplace=True)\n",
    "weather_df['Sunset'].replace('-', np.nan, inplace=True)\n",
    "weather_df['Sunrise'] = weather_df['Sunrise'].fillna(method='ffill')\n",
    "weather_df['Sunset'] = weather_df['Sunset'].fillna(method='ffill')\n",
    "\n",
    "weather_df['PrecipBool'] = weather_df['PrecipTotal'].apply(lambda x: 'N' if x=='0.00' else 'Y')\n",
    "weather_df['PrecipTotal'] = weather_df['PrecipTotal'].apply(lambda x: 0.00 if str(x).strip()=='T' or pd.isnull(x) else x)\n",
    "weather_df['PrecipBool'] = weather_df['PrecipBool'].apply(lambda x: 1 if x=='Y' else 0)\n",
    "\n",
    "# Replace 'M' values with calculated rounded up average\n",
    "weather_df.loc[weather_df['Tavg'] == 'M', 'Tavg'] = ((weather_df['Tmax'] + weather_df['Tmin']) / 2).round().astype(int)\n",
    "\n",
    "# Replace other 'M' values with Nan then use forward fill\n",
    "weather_df = weather_df.replace('M', np.nan).fillna(method='ffill')"
   ]
  },
  {
   "cell_type": "code",
   "execution_count": 66,
   "id": "72e374bb-abb8-43aa-88c9-0bb8f9976ed1",
   "metadata": {},
   "outputs": [
    {
     "data": {
      "text/html": [
       "<div>\n",
       "<style scoped>\n",
       "    .dataframe tbody tr th:only-of-type {\n",
       "        vertical-align: middle;\n",
       "    }\n",
       "\n",
       "    .dataframe tbody tr th {\n",
       "        vertical-align: top;\n",
       "    }\n",
       "\n",
       "    .dataframe thead th {\n",
       "        text-align: right;\n",
       "    }\n",
       "</style>\n",
       "<table border=\"1\" class=\"dataframe\">\n",
       "  <thead>\n",
       "    <tr style=\"text-align: right;\">\n",
       "      <th></th>\n",
       "      <th>Station</th>\n",
       "      <th>Sunrise</th>\n",
       "      <th>Sunset</th>\n",
       "    </tr>\n",
       "  </thead>\n",
       "  <tbody>\n",
       "    <tr>\n",
       "      <th>0</th>\n",
       "      <td>1</td>\n",
       "      <td>0448</td>\n",
       "      <td>1849</td>\n",
       "    </tr>\n",
       "    <tr>\n",
       "      <th>1</th>\n",
       "      <td>2</td>\n",
       "      <td>0448</td>\n",
       "      <td>1849</td>\n",
       "    </tr>\n",
       "    <tr>\n",
       "      <th>2</th>\n",
       "      <td>1</td>\n",
       "      <td>0447</td>\n",
       "      <td>1850</td>\n",
       "    </tr>\n",
       "    <tr>\n",
       "      <th>3</th>\n",
       "      <td>2</td>\n",
       "      <td>0447</td>\n",
       "      <td>1850</td>\n",
       "    </tr>\n",
       "    <tr>\n",
       "      <th>4</th>\n",
       "      <td>1</td>\n",
       "      <td>0446</td>\n",
       "      <td>1851</td>\n",
       "    </tr>\n",
       "    <tr>\n",
       "      <th>...</th>\n",
       "      <td>...</td>\n",
       "      <td>...</td>\n",
       "      <td>...</td>\n",
       "    </tr>\n",
       "    <tr>\n",
       "      <th>2939</th>\n",
       "      <td>2</td>\n",
       "      <td>0620</td>\n",
       "      <td>1650</td>\n",
       "    </tr>\n",
       "    <tr>\n",
       "      <th>2940</th>\n",
       "      <td>1</td>\n",
       "      <td>0622</td>\n",
       "      <td>1649</td>\n",
       "    </tr>\n",
       "    <tr>\n",
       "      <th>2941</th>\n",
       "      <td>2</td>\n",
       "      <td>0622</td>\n",
       "      <td>1649</td>\n",
       "    </tr>\n",
       "    <tr>\n",
       "      <th>2942</th>\n",
       "      <td>1</td>\n",
       "      <td>0623</td>\n",
       "      <td>1647</td>\n",
       "    </tr>\n",
       "    <tr>\n",
       "      <th>2943</th>\n",
       "      <td>2</td>\n",
       "      <td>0623</td>\n",
       "      <td>1647</td>\n",
       "    </tr>\n",
       "  </tbody>\n",
       "</table>\n",
       "<p>2944 rows × 3 columns</p>\n",
       "</div>"
      ],
      "text/plain": [
       "      Station Sunrise Sunset\n",
       "0           1    0448   1849\n",
       "1           2    0448   1849\n",
       "2           1    0447   1850\n",
       "3           2    0447   1850\n",
       "4           1    0446   1851\n",
       "...       ...     ...    ...\n",
       "2939        2    0620   1650\n",
       "2940        1    0622   1649\n",
       "2941        2    0622   1649\n",
       "2942        1    0623   1647\n",
       "2943        2    0623   1647\n",
       "\n",
       "[2944 rows x 3 columns]"
      ]
     },
     "execution_count": 66,
     "metadata": {},
     "output_type": "execute_result"
    }
   ],
   "source": [
    "# Check that imputation has been done correctly for 'Sunrise' and 'Sunset' columns\n",
    "weather_df[['Station','Sunrise','Sunset']]"
   ]
  },
  {
   "cell_type": "code",
   "execution_count": 67,
   "id": "65c17acc-0a90-4daa-b844-49e8465552cf",
   "metadata": {
    "tags": []
   },
   "outputs": [
    {
     "data": {
      "text/plain": [
       "Index(['Station', 'Date', 'Tmax', 'Tmin', 'Tavg', 'DewPoint', 'WetBulb',\n",
       "       'Heat', 'Cool', 'Sunrise', 'Sunset', 'PrecipTotal', 'StnPressure',\n",
       "       'SeaLevel', 'ResultSpeed', 'ResultDir', 'AvgSpeed', 'PrecipBool'],\n",
       "      dtype='object')"
      ]
     },
     "execution_count": 67,
     "metadata": {},
     "output_type": "execute_result"
    }
   ],
   "source": [
    "weather_df.columns"
   ]
  },
  {
   "cell_type": "code",
   "execution_count": 68,
   "id": "25678c6d-cae1-4c79-922b-d0fb0e938b39",
   "metadata": {},
   "outputs": [],
   "source": [
    "# Create date related features for weather data\n",
    "weather_df = date_features(weather_df)"
   ]
  },
  {
   "cell_type": "code",
   "execution_count": 69,
   "id": "1ce9528e-f5f8-44ca-8c1d-514341542fd5",
   "metadata": {
    "tags": []
   },
   "outputs": [],
   "source": [
    "# Use lowercase names for columns\n",
    "weather_df.columns = weather_df.columns.str.lower()"
   ]
  },
  {
   "cell_type": "code",
   "execution_count": 70,
   "id": "a3007c02-b465-4ab1-bafc-3296e0432055",
   "metadata": {
    "tags": []
   },
   "outputs": [],
   "source": [
    "# Cast all the original mixed types columns to float\n",
    "object_cols = weather_df.select_dtypes(include='object').columns\n",
    "object_cols\n",
    "\n",
    "for col in object_cols:\n",
    "    weather_df[col] = weather_df[col].astype(float)"
   ]
  },
  {
   "cell_type": "code",
   "execution_count": 71,
   "id": "311ff3d8-928b-4954-853f-ee057e2750cd",
   "metadata": {
    "tags": []
   },
   "outputs": [
    {
     "name": "stdout",
     "output_type": "stream",
     "text": [
      "<class 'pandas.core.frame.DataFrame'>\n",
      "RangeIndex: 2944 entries, 0 to 2943\n",
      "Data columns (total 23 columns):\n",
      " #   Column       Non-Null Count  Dtype         \n",
      "---  ------       --------------  -----         \n",
      " 0   station      2944 non-null   int64         \n",
      " 1   date         2944 non-null   datetime64[ns]\n",
      " 2   tmax         2944 non-null   int64         \n",
      " 3   tmin         2944 non-null   int64         \n",
      " 4   tavg         2944 non-null   float64       \n",
      " 5   dewpoint     2944 non-null   int64         \n",
      " 6   wetbulb      2944 non-null   float64       \n",
      " 7   heat         2944 non-null   float64       \n",
      " 8   cool         2944 non-null   float64       \n",
      " 9   sunrise      2944 non-null   float64       \n",
      " 10  sunset       2944 non-null   float64       \n",
      " 11  preciptotal  2944 non-null   float64       \n",
      " 12  stnpressure  2944 non-null   float64       \n",
      " 13  sealevel     2944 non-null   float64       \n",
      " 14  resultspeed  2944 non-null   float64       \n",
      " 15  resultdir    2944 non-null   int64         \n",
      " 16  avgspeed     2944 non-null   float64       \n",
      " 17  precipbool   2944 non-null   int64         \n",
      " 18  day          2944 non-null   int32         \n",
      " 19  month        2944 non-null   int32         \n",
      " 20  year         2944 non-null   int32         \n",
      " 21  week         2944 non-null   UInt32        \n",
      " 22  dayofweek    2944 non-null   int32         \n",
      "dtypes: UInt32(1), datetime64[ns](1), float64(11), int32(4), int64(6)\n",
      "memory usage: 474.5 KB\n"
     ]
    }
   ],
   "source": [
    "weather_df.info()"
   ]
  },
  {
   "cell_type": "markdown",
   "id": "6238f49a-c021-4f61-9753-81b45c257634",
   "metadata": {
    "tags": []
   },
   "source": [
    "### 3.4.0 Merging Datasets weather dataset to train and test dataset"
   ]
  },
  {
   "cell_type": "markdown",
   "id": "7a07a331-82f0-4eb6-a97e-591069b72486",
   "metadata": {},
   "source": [
    "This will be done using Haversine to take into account the curvature of the Earth."
   ]
  },
  {
   "cell_type": "code",
   "execution_count": 72,
   "id": "d7e4408d-d5cf-4106-a8b5-fa34c8131f0a",
   "metadata": {
    "tags": []
   },
   "outputs": [],
   "source": [
    "# Create a haversine function\n",
    "def haversine(lat1, lon1, lat2, lon2):\n",
    "    R = 6371  # Earth's radius in kilometers\n",
    "    dlat = np.radians(lat2 - lat1)\n",
    "    dlon = np.radians(lon2 - lon1)\n",
    "    a = np.sin(dlat/2) * np.sin(dlat/2) + np.cos(np.radians(lat1)) * np.cos(np.radians(lat2)) * np.sin(dlon/2) * np.sin(dlon/2)\n",
    "    c = 2 * np.arctan2(np.sqrt(a), np.sqrt(1-a))\n",
    "    distance = R * c\n",
    "    return distance\n",
    "\n",
    "# Create a function to assign the nearest station using the haversine function\n",
    "def assign_station(df):\n",
    "    # Calculate distances to both stations for each observation in df\n",
    "    df['distance_to_station_1'] = haversine(df['latitude'], df['longitude'], lat1, lon1)\n",
    "    df['distance_to_station_2'] = haversine(df['latitude'], df['longitude'], lat2, lon2)\n",
    "\n",
    "    # Assign the nearest station to each observation\n",
    "    df['nearest_station'] = np.where(df['distance_to_station_1'] < df['distance_to_station_2'], 1, 2)\n",
    "\n",
    "    # Merge train_df with weather_df based on date and nearest_station\n",
    "    merged_df = df.merge(weather_df, \n",
    "                         left_on=['date', 'nearest_station'], \n",
    "                         right_on=['date', 'station'])\n",
    "    merged_df = df.merge(weather_df, \n",
    "                         left_on=['date', 'nearest_station'], \n",
    "                         right_on=['date', 'station'])\n",
    "    \n",
    "    # Drop distance columns\n",
    "    merged_df.drop(columns=['distance_to_station_1', 'distance_to_station_2', 'nearest_station'], inplace=True)\n",
    "    \n",
    "    return merged_df"
   ]
  },
  {
   "cell_type": "code",
   "execution_count": 73,
   "id": "0aaed336-d073-47fc-a027-dce2b9d4058a",
   "metadata": {
    "tags": []
   },
   "outputs": [],
   "source": [
    "# Coordinates for Station 1 and Station 2\n",
    "lat1, lon1 = 41.995, -87.933\n",
    "lat2, lon2 = 41.786, -87.752\n",
    "\n",
    "# Drop the common columns from weather_df\n",
    "weather_df.drop(columns=['day','month','year','week','dayofweek'], inplace=True)\n",
    "\n",
    "# Assign stations and merge\n",
    "merge_train = assign_station(train_df)\n",
    "merge_test = assign_station(test_df)"
   ]
  },
  {
   "cell_type": "code",
   "execution_count": 74,
   "id": "51e3e693-7904-4f61-a61e-fbc8f062082f",
   "metadata": {},
   "outputs": [
    {
     "data": {
      "text/html": [
       "<div>\n",
       "<style scoped>\n",
       "    .dataframe tbody tr th:only-of-type {\n",
       "        vertical-align: middle;\n",
       "    }\n",
       "\n",
       "    .dataframe tbody tr th {\n",
       "        vertical-align: top;\n",
       "    }\n",
       "\n",
       "    .dataframe thead th {\n",
       "        text-align: right;\n",
       "    }\n",
       "</style>\n",
       "<table border=\"1\" class=\"dataframe\">\n",
       "  <thead>\n",
       "    <tr style=\"text-align: right;\">\n",
       "      <th></th>\n",
       "      <th>date</th>\n",
       "      <th>species</th>\n",
       "      <th>trap</th>\n",
       "      <th>latitude</th>\n",
       "      <th>longitude</th>\n",
       "      <th>addressaccuracy</th>\n",
       "      <th>block</th>\n",
       "      <th>nummosquitos</th>\n",
       "      <th>wnvpresent</th>\n",
       "      <th>street</th>\n",
       "      <th>...</th>\n",
       "      <th>cool</th>\n",
       "      <th>sunrise</th>\n",
       "      <th>sunset</th>\n",
       "      <th>preciptotal</th>\n",
       "      <th>stnpressure</th>\n",
       "      <th>sealevel</th>\n",
       "      <th>resultspeed</th>\n",
       "      <th>resultdir</th>\n",
       "      <th>avgspeed</th>\n",
       "      <th>precipbool</th>\n",
       "    </tr>\n",
       "  </thead>\n",
       "  <tbody>\n",
       "    <tr>\n",
       "      <th>0</th>\n",
       "      <td>2007-05-29</td>\n",
       "      <td>CULEX PIPIENS</td>\n",
       "      <td>T096</td>\n",
       "      <td>41.731922</td>\n",
       "      <td>-87.677512</td>\n",
       "      <td>8</td>\n",
       "      <td>22</td>\n",
       "      <td>1</td>\n",
       "      <td>0</td>\n",
       "      <td>W 89TH ST</td>\n",
       "      <td>...</td>\n",
       "      <td>12.0</td>\n",
       "      <td>421.0</td>\n",
       "      <td>1917.0</td>\n",
       "      <td>0.0</td>\n",
       "      <td>29.44</td>\n",
       "      <td>30.09</td>\n",
       "      <td>5.8</td>\n",
       "      <td>16</td>\n",
       "      <td>7.4</td>\n",
       "      <td>0</td>\n",
       "    </tr>\n",
       "    <tr>\n",
       "      <th>1</th>\n",
       "      <td>2007-05-29</td>\n",
       "      <td>CULEX PIPIENS/RESTUANS</td>\n",
       "      <td>T048</td>\n",
       "      <td>41.867108</td>\n",
       "      <td>-87.654224</td>\n",
       "      <td>8</td>\n",
       "      <td>11</td>\n",
       "      <td>1</td>\n",
       "      <td>0</td>\n",
       "      <td>W ROOSEVELT</td>\n",
       "      <td>...</td>\n",
       "      <td>12.0</td>\n",
       "      <td>421.0</td>\n",
       "      <td>1917.0</td>\n",
       "      <td>0.0</td>\n",
       "      <td>29.44</td>\n",
       "      <td>30.09</td>\n",
       "      <td>5.8</td>\n",
       "      <td>16</td>\n",
       "      <td>7.4</td>\n",
       "      <td>0</td>\n",
       "    </tr>\n",
       "    <tr>\n",
       "      <th>2</th>\n",
       "      <td>2007-05-29</td>\n",
       "      <td>CULEX PIPIENS/RESTUANS</td>\n",
       "      <td>T050</td>\n",
       "      <td>41.919343</td>\n",
       "      <td>-87.694259</td>\n",
       "      <td>8</td>\n",
       "      <td>21</td>\n",
       "      <td>1</td>\n",
       "      <td>0</td>\n",
       "      <td>N STAVE ST</td>\n",
       "      <td>...</td>\n",
       "      <td>12.0</td>\n",
       "      <td>421.0</td>\n",
       "      <td>1917.0</td>\n",
       "      <td>0.0</td>\n",
       "      <td>29.44</td>\n",
       "      <td>30.09</td>\n",
       "      <td>5.8</td>\n",
       "      <td>16</td>\n",
       "      <td>7.4</td>\n",
       "      <td>0</td>\n",
       "    </tr>\n",
       "    <tr>\n",
       "      <th>3</th>\n",
       "      <td>2007-05-29</td>\n",
       "      <td>CULEX PIPIENS/RESTUANS</td>\n",
       "      <td>T054</td>\n",
       "      <td>41.921965</td>\n",
       "      <td>-87.632085</td>\n",
       "      <td>8</td>\n",
       "      <td>22</td>\n",
       "      <td>2</td>\n",
       "      <td>0</td>\n",
       "      <td>N CANNON DR</td>\n",
       "      <td>...</td>\n",
       "      <td>12.0</td>\n",
       "      <td>421.0</td>\n",
       "      <td>1917.0</td>\n",
       "      <td>0.0</td>\n",
       "      <td>29.44</td>\n",
       "      <td>30.09</td>\n",
       "      <td>5.8</td>\n",
       "      <td>16</td>\n",
       "      <td>7.4</td>\n",
       "      <td>0</td>\n",
       "    </tr>\n",
       "    <tr>\n",
       "      <th>4</th>\n",
       "      <td>2007-05-29</td>\n",
       "      <td>CULEX PIPIENS/RESTUANS</td>\n",
       "      <td>T086</td>\n",
       "      <td>41.688324</td>\n",
       "      <td>-87.676709</td>\n",
       "      <td>8</td>\n",
       "      <td>22</td>\n",
       "      <td>1</td>\n",
       "      <td>0</td>\n",
       "      <td>W 113TH ST</td>\n",
       "      <td>...</td>\n",
       "      <td>12.0</td>\n",
       "      <td>421.0</td>\n",
       "      <td>1917.0</td>\n",
       "      <td>0.0</td>\n",
       "      <td>29.44</td>\n",
       "      <td>30.09</td>\n",
       "      <td>5.8</td>\n",
       "      <td>16</td>\n",
       "      <td>7.4</td>\n",
       "      <td>0</td>\n",
       "    </tr>\n",
       "  </tbody>\n",
       "</table>\n",
       "<p>5 rows × 32 columns</p>\n",
       "</div>"
      ],
      "text/plain": [
       "        date                 species  trap   latitude  longitude  \\\n",
       "0 2007-05-29           CULEX PIPIENS  T096  41.731922 -87.677512   \n",
       "1 2007-05-29  CULEX PIPIENS/RESTUANS  T048  41.867108 -87.654224   \n",
       "2 2007-05-29  CULEX PIPIENS/RESTUANS  T050  41.919343 -87.694259   \n",
       "3 2007-05-29  CULEX PIPIENS/RESTUANS  T054  41.921965 -87.632085   \n",
       "4 2007-05-29  CULEX PIPIENS/RESTUANS  T086  41.688324 -87.676709   \n",
       "\n",
       "   addressaccuracy  block  nummosquitos  wnvpresent        street  ...  cool  \\\n",
       "0                8     22             1           0     W 89TH ST  ...  12.0   \n",
       "1                8     11             1           0   W ROOSEVELT  ...  12.0   \n",
       "2                8     21             1           0    N STAVE ST  ...  12.0   \n",
       "3                8     22             2           0   N CANNON DR  ...  12.0   \n",
       "4                8     22             1           0    W 113TH ST  ...  12.0   \n",
       "\n",
       "   sunrise  sunset  preciptotal  stnpressure  sealevel  resultspeed  \\\n",
       "0    421.0  1917.0          0.0        29.44     30.09          5.8   \n",
       "1    421.0  1917.0          0.0        29.44     30.09          5.8   \n",
       "2    421.0  1917.0          0.0        29.44     30.09          5.8   \n",
       "3    421.0  1917.0          0.0        29.44     30.09          5.8   \n",
       "4    421.0  1917.0          0.0        29.44     30.09          5.8   \n",
       "\n",
       "   resultdir  avgspeed  precipbool  \n",
       "0         16       7.4           0  \n",
       "1         16       7.4           0  \n",
       "2         16       7.4           0  \n",
       "3         16       7.4           0  \n",
       "4         16       7.4           0  \n",
       "\n",
       "[5 rows x 32 columns]"
      ]
     },
     "execution_count": 74,
     "metadata": {},
     "output_type": "execute_result"
    }
   ],
   "source": [
    "merge_train.head()"
   ]
  },
  {
   "cell_type": "code",
   "execution_count": 75,
   "id": "47047789-eb18-4e3b-abdf-00442c04dace",
   "metadata": {
    "tags": []
   },
   "outputs": [
    {
     "data": {
      "image/png": "[encoded data removed]",
      "text/plain": [
       "<Figure size 640x480 with 2 Axes>"
      ]
     },
     "metadata": {},
     "output_type": "display_data"
    }
   ],
   "source": [
    "corr = merge_train.corr(numeric_only=True)\n",
    "sns.heatmap(corr, cmap='Blues');"
   ]
  },
  {
   "cell_type": "code",
   "execution_count": 76,
   "id": "f375e11f-fd01-494e-8f7a-2f543525ccde",
   "metadata": {
    "tags": []
   },
   "outputs": [],
   "source": [
    "merge_train.drop(columns=['date','dewpoint','station', 'preciptotal'], inplace=True)\n",
    "merge_test.drop(columns=['date','dewpoint','station', 'preciptotal'], inplace=True)"
   ]
  },
  {
   "cell_type": "code",
   "execution_count": 77,
   "id": "5fc05cea-b373-4080-be9f-515088ac9d31",
   "metadata": {
    "tags": []
   },
   "outputs": [
    {
     "data": {
      "text/plain": [
       "(8475, 28)"
      ]
     },
     "execution_count": 77,
     "metadata": {},
     "output_type": "execute_result"
    }
   ],
   "source": [
    "merge_train.shape"
   ]
  },
  {
   "cell_type": "code",
   "execution_count": 78,
   "id": "719cea69-c0f7-4468-abec-a31559905389",
   "metadata": {
    "tags": []
   },
   "outputs": [
    {
     "data": {
      "text/plain": [
       "(116293, 27)"
      ]
     },
     "execution_count": 78,
     "metadata": {},
     "output_type": "execute_result"
    }
   ],
   "source": [
    "merge_test.shape"
   ]
  },
  {
   "cell_type": "code",
   "execution_count": 79,
   "id": "3496d665-58a3-4ffc-b9f0-c7247579b4a6",
   "metadata": {},
   "outputs": [],
   "source": [
    "# Save clean datasets to dataset folder\n",
    "merge_train.to_csv('../datasets/merge_train.csv', index=False)\n",
    "merge_test.to_csv('../datasets/merge_test.csv', index=False)"
   ]
  },
  {
   "cell_type": "code",
   "execution_count": 80,
   "id": "2b05b1b9",
   "metadata": {},
   "outputs": [
    {
     "name": "stdout",
     "output_type": "stream",
     "text": [
      "<class 'pandas.core.frame.DataFrame'>\n",
      "RangeIndex: 8475 entries, 0 to 8474\n",
      "Data columns (total 28 columns):\n",
      " #   Column           Non-Null Count  Dtype  \n",
      "---  ------           --------------  -----  \n",
      " 0   species          8475 non-null   object \n",
      " 1   trap             8475 non-null   object \n",
      " 2   latitude         8475 non-null   float64\n",
      " 3   longitude        8475 non-null   float64\n",
      " 4   addressaccuracy  8475 non-null   int64  \n",
      " 5   block            8475 non-null   int64  \n",
      " 6   nummosquitos     8475 non-null   int64  \n",
      " 7   wnvpresent       8475 non-null   int64  \n",
      " 8   street           8475 non-null   object \n",
      " 9   day              8475 non-null   int32  \n",
      " 10  month            8475 non-null   int32  \n",
      " 11  year             8475 non-null   int32  \n",
      " 12  week             8475 non-null   UInt32 \n",
      " 13  dayofweek        8475 non-null   int32  \n",
      " 14  tmax             8475 non-null   int64  \n",
      " 15  tmin             8475 non-null   int64  \n",
      " 16  tavg             8475 non-null   float64\n",
      " 17  wetbulb          8475 non-null   float64\n",
      " 18  heat             8475 non-null   float64\n",
      " 19  cool             8475 non-null   float64\n",
      " 20  sunrise          8475 non-null   float64\n",
      " 21  sunset           8475 non-null   float64\n",
      " 22  stnpressure      8475 non-null   float64\n",
      " 23  sealevel         8475 non-null   float64\n",
      " 24  resultspeed      8475 non-null   float64\n",
      " 25  resultdir        8475 non-null   int64  \n",
      " 26  avgspeed         8475 non-null   float64\n",
      " 27  precipbool       8475 non-null   int64  \n",
      "dtypes: UInt32(1), float64(12), int32(4), int64(8), object(3)\n",
      "memory usage: 1.7+ MB\n"
     ]
    }
   ],
   "source": [
    "merge_train.info()"
   ]
  },
  {
   "cell_type": "code",
   "execution_count": 81,
   "id": "148d9bab",
   "metadata": {},
   "outputs": [
    {
     "name": "stdout",
     "output_type": "stream",
     "text": [
      "<class 'pandas.core.frame.DataFrame'>\n",
      "RangeIndex: 116293 entries, 0 to 116292\n",
      "Data columns (total 27 columns):\n",
      " #   Column           Non-Null Count   Dtype  \n",
      "---  ------           --------------   -----  \n",
      " 0   id               116293 non-null  int64  \n",
      " 1   species          116293 non-null  object \n",
      " 2   block            116293 non-null  int64  \n",
      " 3   street           116293 non-null  object \n",
      " 4   trap             116293 non-null  object \n",
      " 5   latitude         116293 non-null  float64\n",
      " 6   longitude        116293 non-null  float64\n",
      " 7   addressaccuracy  116293 non-null  int64  \n",
      " 8   day              116293 non-null  int32  \n",
      " 9   month            116293 non-null  int32  \n",
      " 10  year             116293 non-null  int32  \n",
      " 11  week             116293 non-null  UInt32 \n",
      " 12  dayofweek        116293 non-null  int32  \n",
      " 13  tmax             116293 non-null  int64  \n",
      " 14  tmin             116293 non-null  int64  \n",
      " 15  tavg             116293 non-null  float64\n",
      " 16  wetbulb          116293 non-null  float64\n",
      " 17  heat             116293 non-null  float64\n",
      " 18  cool             116293 non-null  float64\n",
      " 19  sunrise          116293 non-null  float64\n",
      " 20  sunset           116293 non-null  float64\n",
      " 21  stnpressure      116293 non-null  float64\n",
      " 22  sealevel         116293 non-null  float64\n",
      " 23  resultspeed      116293 non-null  float64\n",
      " 24  resultdir        116293 non-null  int64  \n",
      " 25  avgspeed         116293 non-null  float64\n",
      " 26  precipbool       116293 non-null  int64  \n",
      "dtypes: UInt32(1), float64(12), int32(4), int64(7), object(3)\n",
      "memory usage: 21.8+ MB\n"
     ]
    }
   ],
   "source": [
    "merge_test.info()"
   ]
  },
  {
   "cell_type": "markdown",
   "id": "b0e5cdb3-84b3-4d1d-b964-ae52212ba3bf",
   "metadata": {},
   "source": [
    "# 4.0 Feature engineering"
   ]
  },
  {
   "cell_type": "markdown",
   "id": "d414e3fc-01b9-4fb2-8ed1-26307b43dd43",
   "metadata": {},
   "source": [
    "## 4.1 Make a copy of merge_train\n",
    "We make a copy so that our EDA is not affected by the encoded data set."
   ]
  },
  {
   "cell_type": "code",
   "execution_count": 82,
   "id": "0bdc5eba-ff4f-43a3-befe-ae44377c00b2",
   "metadata": {},
   "outputs": [],
   "source": [
    "encoded_train = merge_train.copy()\n",
    "encoded_test = merge_test.copy()"
   ]
  },
  {
   "cell_type": "markdown",
   "id": "9a6b741d-5e2d-416a-a930-1594b6972ee9",
   "metadata": {},
   "source": [
    "## 4.2 Create new features"
   ]
  },
  {
   "cell_type": "markdown",
   "id": "a0f7e822-611e-4704-897e-9ab0a373456d",
   "metadata": {},
   "source": [
    "### 4.2.1 Use 'street' to create a new feature 'direction'."
   ]
  },
  {
   "cell_type": "code",
   "execution_count": 83,
   "id": "a5305f69-ab3c-4fb9-b281-5856e7fa818e",
   "metadata": {},
   "outputs": [],
   "source": [
    "# Instead of using street, we will use the north, south, east, west directions\n",
    "# \"  \" is a special case of \"   W Armitage'\n",
    "\n",
    "encoded_train[\"direction\"] = encoded_train[\"street\"].str[:2]\n",
    "directions = {\" N\": 0, \" W\": 1, \" S\": 2, \" E\": 3, \"  \": 1}\n",
    "encoded_train[\"direction\"] = encoded_train[\"direction\"].map(directions)"
   ]
  },
  {
   "cell_type": "code",
   "execution_count": 84,
   "id": "3b90b242-15f1-4729-bd10-472078598fd8",
   "metadata": {},
   "outputs": [],
   "source": [
    "encoded_test[\"direction\"] = encoded_test[\"street\"].str[:2]\n",
    "encoded_test[\"direction\"] = encoded_test[\"direction\"].map(directions)"
   ]
  },
  {
   "cell_type": "code",
   "execution_count": 85,
   "id": "edd9e4e8-12c1-4d62-91cb-b6c23a7172a2",
   "metadata": {},
   "outputs": [
    {
     "data": {
      "text/html": [
       "<div>\n",
       "<style scoped>\n",
       "    .dataframe tbody tr th:only-of-type {\n",
       "        vertical-align: middle;\n",
       "    }\n",
       "\n",
       "    .dataframe tbody tr th {\n",
       "        vertical-align: top;\n",
       "    }\n",
       "\n",
       "    .dataframe thead th {\n",
       "        text-align: right;\n",
       "    }\n",
       "</style>\n",
       "<table border=\"1\" class=\"dataframe\">\n",
       "  <thead>\n",
       "    <tr style=\"text-align: right;\">\n",
       "      <th></th>\n",
       "      <th>street</th>\n",
       "      <th>direction</th>\n",
       "    </tr>\n",
       "  </thead>\n",
       "  <tbody>\n",
       "  </tbody>\n",
       "</table>\n",
       "</div>"
      ],
      "text/plain": [
       "Empty DataFrame\n",
       "Columns: [street, direction]\n",
       "Index: []"
      ]
     },
     "execution_count": 85,
     "metadata": {},
     "output_type": "execute_result"
    }
   ],
   "source": [
    "# Check that there are no empty values caused by the new feature\n",
    "encoded_train[encoded_train['direction'].isnull()][['street', 'direction']].head()"
   ]
  },
  {
   "cell_type": "markdown",
   "id": "b1b02e4d-0db5-4407-b17c-87f968655409",
   "metadata": {},
   "source": [
    "### 4.2.2 Use 'resultdir' to create a new feature 'winddir'."
   ]
  },
  {
   "cell_type": "markdown",
   "id": "cd561895-42e6-41d1-af7c-042f008d1231",
   "metadata": {},
   "source": [
    "'resultdir' is the direction of the wind given in degrees. We engineer a new feature by mapping it to directions on the 8-point compass.<br>\n",
    "The 8 directions are north, north-east, north-west, south, south-east, south-west, east and west.<br>\n",
    "This allows for a broader classification of wind direction."
   ]
  },
  {
   "cell_type": "code",
   "execution_count": 86,
   "id": "1194f337-5680-4209-a712-d1003735b1c8",
   "metadata": {},
   "outputs": [],
   "source": [
    "resultdir_values = encoded_train['resultdir'].value_counts()"
   ]
  },
  {
   "cell_type": "code",
   "execution_count": 87,
   "id": "0664dbe9-9844-47ae-bb5f-9d18c2f076a2",
   "metadata": {},
   "outputs": [
    {
     "data": {
      "text/plain": [
       "{24: 'West',\n",
       " 23: 'West',\n",
       " 19: 'Southwest',\n",
       " 13: 'South',\n",
       " 25: 'West',\n",
       " 29: 'Northwest',\n",
       " 5: 'Northeast',\n",
       " 17: 'South',\n",
       " 21: 'Southwest',\n",
       " 6: 'Northeast',\n",
       " 30: 'Northwest',\n",
       " 7: 'East',\n",
       " 8: 'East',\n",
       " 16: 'South',\n",
       " 22: 'West',\n",
       " 3: 'North',\n",
       " 4: 'Northeast',\n",
       " 10: 'Southeast',\n",
       " 9: 'East',\n",
       " 36: 'North',\n",
       " 20: 'Southwest',\n",
       " 18: 'South',\n",
       " 35: 'North',\n",
       " 34: 'North',\n",
       " 15: 'South',\n",
       " 11: 'Southeast',\n",
       " 27: 'West',\n",
       " 2: 'North',\n",
       " 14: 'South',\n",
       " 26: 'West',\n",
       " 31: 'Northwest',\n",
       " 12: 'Southeast',\n",
       " 32: 'Northwest',\n",
       " 33: 'Northwest',\n",
       " 1: 'North',\n",
       " 28: 'Northwest'}"
      ]
     },
     "execution_count": 87,
     "metadata": {},
     "output_type": "execute_result"
    }
   ],
   "source": [
    "# Create function to map wind direction in degrees to the 8-point compass\n",
    "def classify_wind_direction(result_dir_value):\n",
    "    \"\"\"Classify wind direction into more granular categories based on ResultDir value.\"\"\"\n",
    "    if 1 <= result_dir_value <= 3 or 34 <= result_dir_value <= 36:\n",
    "        return 'North'\n",
    "    elif 4 <= result_dir_value <= 6:\n",
    "        return 'Northeast'\n",
    "    elif 7 <= result_dir_value <= 9:\n",
    "        return 'East'\n",
    "    elif 10 <= result_dir_value <= 12:\n",
    "        return 'Southeast'\n",
    "    elif 13 <= result_dir_value <= 18:\n",
    "        return 'South'\n",
    "    elif 19 <= result_dir_value <= 21:\n",
    "        return 'Southwest'\n",
    "    elif 22 <= result_dir_value <= 27:\n",
    "        return 'West'\n",
    "    elif 28 <= result_dir_value <= 33:\n",
    "        return 'Northwest'\n",
    "\n",
    "# Apply the classification on resultdir values\n",
    "wind_dir = {dir_value: classify_wind_direction(dir_value) for dir_value in resultdir_values.keys()}\n",
    "wind_dir"
   ]
  },
  {
   "cell_type": "code",
   "execution_count": 88,
   "id": "9536ab12-2a3a-43b4-b2fa-be84a1d75652",
   "metadata": {},
   "outputs": [],
   "source": [
    "encoded_train['winddir'] = encoded_train['resultdir'].map(wind_dir)"
   ]
  },
  {
   "cell_type": "code",
   "execution_count": 89,
   "id": "54c58d37-7d71-4e37-a312-363ac4923d34",
   "metadata": {},
   "outputs": [],
   "source": [
    "encoded_test['winddir'] = encoded_test['resultdir'].map(wind_dir)"
   ]
  },
  {
   "cell_type": "code",
   "execution_count": 90,
   "id": "ea4708b4-c078-430f-a3b0-cbb4fd54cdc2",
   "metadata": {
    "tags": []
   },
   "outputs": [
    {
     "data": {
      "text/html": [
       "<div>\n",
       "<style scoped>\n",
       "    .dataframe tbody tr th:only-of-type {\n",
       "        vertical-align: middle;\n",
       "    }\n",
       "\n",
       "    .dataframe tbody tr th {\n",
       "        vertical-align: top;\n",
       "    }\n",
       "\n",
       "    .dataframe thead th {\n",
       "        text-align: right;\n",
       "    }\n",
       "</style>\n",
       "<table border=\"1\" class=\"dataframe\">\n",
       "  <thead>\n",
       "    <tr style=\"text-align: right;\">\n",
       "      <th></th>\n",
       "      <th>resultdir</th>\n",
       "      <th>winddir</th>\n",
       "    </tr>\n",
       "  </thead>\n",
       "  <tbody>\n",
       "  </tbody>\n",
       "</table>\n",
       "</div>"
      ],
      "text/plain": [
       "Empty DataFrame\n",
       "Columns: [resultdir, winddir]\n",
       "Index: []"
      ]
     },
     "execution_count": 90,
     "metadata": {},
     "output_type": "execute_result"
    }
   ],
   "source": [
    "# Check that there are no empty values caused by the new feature\n",
    "encoded_train[encoded_train['winddir'].isnull()][['resultdir', 'winddir']].head()"
   ]
  },
  {
   "cell_type": "markdown",
   "id": "bbecd4c9-40fb-4606-8640-4334e78e7ba6",
   "metadata": {},
   "source": [
    "## 4.3 Label encode species, trap and winddir"
   ]
  },
  {
   "cell_type": "code",
   "execution_count": 91,
   "id": "1cd38a36-7940-4979-b391-b4e3cc436649",
   "metadata": {},
   "outputs": [],
   "source": [
    "# Label encode species, trap and winddir\n",
    "\n",
    "encoder = LabelEncoder()\n",
    "encoder.fit(encoded_train['species'].tolist() + [\"UNKNOWN\"])\n",
    "encoded_train['species'] = encoder.transform(encoded_train['species'])\n",
    "encoded_test['species'] = encoded_test['species'].map(lambda s: s if s in encoder.classes_ else \"UNKNOWN\")\n",
    "encoded_test['species'] = encoder.transform(encoded_test['species'])\n",
    "\n",
    "encoder = LabelEncoder()\n",
    "encoder.fit(encoded_train['trap'].tolist() + [\"UNKNOWN\"])\n",
    "encoded_train['trap'] = encoder.transform(encoded_train['trap'])\n",
    "encoded_test['trap'] = encoded_test['trap'].map(lambda s: s if s in encoder.classes_ else \"UNKNOWN\")\n",
    "encoded_test['trap'] = encoder.transform(encoded_test['trap'])\n",
    "\n",
    "encoder = LabelEncoder()\n",
    "encoder.fit(encoded_train['winddir'].tolist() + [\"UNKNOWN\"])\n",
    "encoded_train['winddir'] = encoder.transform(encoded_train['winddir'])\n",
    "encoded_test['winddir'] = encoded_test['winddir'].map(lambda s: s if s in encoder.classes_ else \"UNKNOWN\")\n",
    "encoded_test['winddir'] = encoder.transform(encoded_test['winddir'])"
   ]
  },
  {
   "cell_type": "markdown",
   "id": "8147bc29-5f49-4d41-8f55-1fb7c167c80e",
   "metadata": {},
   "source": [
    "## 4.4 Saving the encoded merged train dataset and the encoded merged test dataset"
   ]
  },
  {
   "cell_type": "code",
   "execution_count": 92,
   "id": "27d0f82a-1036-4646-94bb-af17b498e45a",
   "metadata": {},
   "outputs": [],
   "source": [
    "encoded_train.to_csv('../datasets/encoded_train.csv', index=False)\n",
    "encoded_test.to_csv('../datasets/encoded_test.csv', index=False)"
   ]
  },
  {
   "cell_type": "markdown",
   "id": "433ffdf2-cd33-400e-8628-ef924aab8477",
   "metadata": {},
   "source": [
    "## 4.5 Performing PCA for train dataset"
   ]
  },
  {
   "cell_type": "code",
   "execution_count": 93,
   "id": "cb4c136d-c847-4afe-8449-f5dfc0f55b6a",
   "metadata": {},
   "outputs": [],
   "source": [
    "data = pd.get_dummies(encoded_train.drop(columns=['wnvpresent','street','nummosquitos']))"
   ]
  },
  {
   "cell_type": "code",
   "execution_count": 94,
   "id": "120dc90a-fe45-4198-a1ca-4a8fa94fc7ac",
   "metadata": {},
   "outputs": [],
   "source": [
    "pca = PCA(n_components=5)"
   ]
  },
  {
   "cell_type": "code",
   "execution_count": 95,
   "id": "f9a00664-c47e-4de8-b750-0c56cf40a820",
   "metadata": {},
   "outputs": [
    {
     "data": {
      "text/plain": [
       "array([[-68.50822511,   8.64800554, -16.27030112,  -1.03813542,\n",
       "          9.95678565],\n",
       "       [-68.70437992, -29.35123233, -30.32001015,  -1.39160651,\n",
       "          9.51195686],\n",
       "       [-68.68768216, -28.15487077, -20.195953  ,  -1.12494263,\n",
       "          9.55197466],\n",
       "       ...,\n",
       "       [146.24594532,  12.66168851, -28.55482009,  14.18641301,\n",
       "          9.26178776],\n",
       "       [146.40516249,  45.31467892, -22.9522087 ,  14.32520147,\n",
       "          9.62708004],\n",
       "       [146.45342364,  49.13373447,   4.44847079,  15.04416836,\n",
       "          9.74265486]])"
      ]
     },
     "execution_count": 95,
     "metadata": {},
     "output_type": "execute_result"
    }
   ],
   "source": [
    "pca.fit_transform(data)"
   ]
  },
  {
   "cell_type": "code",
   "execution_count": 96,
   "id": "3c9f8d28-42bc-4e9a-8bbf-c0b5f2aec611",
   "metadata": {},
   "outputs": [
    {
     "name": "stdout",
     "output_type": "stream",
     "text": [
      "[0.70095528 0.17293654 0.06327196 0.02968003 0.01024137]\n",
      "\n",
      "Top 3 principal components captures 93.72% of the total variance in the dataset.\n"
     ]
    }
   ],
   "source": [
    "n = 3\n",
    "print(pca.explained_variance_ratio_)\n",
    "print(f\"\\nTop {n} principal components captures {round(100 * sum(pca.explained_variance_ratio_[0:n]),2)}% of the total variance in the dataset.\")"
   ]
  },
  {
   "cell_type": "code",
   "execution_count": 97,
   "id": "af43977c-86c9-4d31-b6d7-959ac8f491d6",
   "metadata": {},
   "outputs": [
    {
     "data": {
      "text/html": [
       "<div>\n",
       "<style scoped>\n",
       "    .dataframe tbody tr th:only-of-type {\n",
       "        vertical-align: middle;\n",
       "    }\n",
       "\n",
       "    .dataframe tbody tr th {\n",
       "        vertical-align: top;\n",
       "    }\n",
       "\n",
       "    .dataframe thead th {\n",
       "        text-align: right;\n",
       "    }\n",
       "</style>\n",
       "<table border=\"1\" class=\"dataframe\">\n",
       "  <thead>\n",
       "    <tr style=\"text-align: right;\">\n",
       "      <th></th>\n",
       "      <th>species</th>\n",
       "      <th>trap</th>\n",
       "      <th>latitude</th>\n",
       "      <th>longitude</th>\n",
       "      <th>addressaccuracy</th>\n",
       "      <th>block</th>\n",
       "      <th>day</th>\n",
       "      <th>month</th>\n",
       "      <th>year</th>\n",
       "      <th>week</th>\n",
       "      <th>...</th>\n",
       "      <th>sunrise</th>\n",
       "      <th>sunset</th>\n",
       "      <th>stnpressure</th>\n",
       "      <th>sealevel</th>\n",
       "      <th>resultspeed</th>\n",
       "      <th>resultdir</th>\n",
       "      <th>avgspeed</th>\n",
       "      <th>precipbool</th>\n",
       "      <th>direction</th>\n",
       "      <th>winddir</th>\n",
       "    </tr>\n",
       "  </thead>\n",
       "  <tbody>\n",
       "    <tr>\n",
       "      <th>0</th>\n",
       "      <td>-0.002383</td>\n",
       "      <td>0.004756</td>\n",
       "      <td>-0.000026</td>\n",
       "      <td>0.000021</td>\n",
       "      <td>-0.000303</td>\n",
       "      <td>0.000752</td>\n",
       "      <td>0.007212</td>\n",
       "      <td>0.012265</td>\n",
       "      <td>-0.003490</td>\n",
       "      <td>0.054867</td>\n",
       "      <td>...</td>\n",
       "      <td>0.574935</td>\n",
       "      <td>-0.814970</td>\n",
       "      <td>0.000554</td>\n",
       "      <td>0.000582</td>\n",
       "      <td>-0.003837</td>\n",
       "      <td>0.002022</td>\n",
       "      <td>-0.003277</td>\n",
       "      <td>-0.001090</td>\n",
       "      <td>0.000331</td>\n",
       "      <td>0.001611</td>\n",
       "    </tr>\n",
       "    <tr>\n",
       "      <th>1</th>\n",
       "      <td>0.000863</td>\n",
       "      <td>0.996677</td>\n",
       "      <td>-0.000820</td>\n",
       "      <td>0.000430</td>\n",
       "      <td>-0.010099</td>\n",
       "      <td>-0.079127</td>\n",
       "      <td>0.005343</td>\n",
       "      <td>0.000023</td>\n",
       "      <td>0.006715</td>\n",
       "      <td>0.000681</td>\n",
       "      <td>...</td>\n",
       "      <td>0.003328</td>\n",
       "      <td>0.008344</td>\n",
       "      <td>0.000177</td>\n",
       "      <td>0.000024</td>\n",
       "      <td>0.001984</td>\n",
       "      <td>0.005050</td>\n",
       "      <td>0.001248</td>\n",
       "      <td>-0.000167</td>\n",
       "      <td>0.005659</td>\n",
       "      <td>0.000233</td>\n",
       "    </tr>\n",
       "    <tr>\n",
       "      <th>2</th>\n",
       "      <td>-0.000307</td>\n",
       "      <td>0.079191</td>\n",
       "      <td>0.000233</td>\n",
       "      <td>-0.000580</td>\n",
       "      <td>0.007471</td>\n",
       "      <td>0.996454</td>\n",
       "      <td>0.000685</td>\n",
       "      <td>0.000685</td>\n",
       "      <td>0.002425</td>\n",
       "      <td>0.002530</td>\n",
       "      <td>...</td>\n",
       "      <td>0.008691</td>\n",
       "      <td>0.006499</td>\n",
       "      <td>-0.000386</td>\n",
       "      <td>-0.000033</td>\n",
       "      <td>-0.000686</td>\n",
       "      <td>0.006057</td>\n",
       "      <td>-0.000819</td>\n",
       "      <td>-0.000023</td>\n",
       "      <td>-0.001104</td>\n",
       "      <td>0.001705</td>\n",
       "    </tr>\n",
       "    <tr>\n",
       "      <th>3</th>\n",
       "      <td>0.004296</td>\n",
       "      <td>0.001844</td>\n",
       "      <td>0.000452</td>\n",
       "      <td>-0.000483</td>\n",
       "      <td>0.003063</td>\n",
       "      <td>0.025992</td>\n",
       "      <td>-0.045882</td>\n",
       "      <td>-0.011664</td>\n",
       "      <td>0.012855</td>\n",
       "      <td>-0.056669</td>\n",
       "      <td>...</td>\n",
       "      <td>-0.312291</td>\n",
       "      <td>-0.175774</td>\n",
       "      <td>0.002062</td>\n",
       "      <td>0.002575</td>\n",
       "      <td>0.007556</td>\n",
       "      <td>-0.151436</td>\n",
       "      <td>-0.006581</td>\n",
       "      <td>-0.004393</td>\n",
       "      <td>-0.003018</td>\n",
       "      <td>-0.072649</td>\n",
       "    </tr>\n",
       "    <tr>\n",
       "      <th>4</th>\n",
       "      <td>0.001131</td>\n",
       "      <td>0.010895</td>\n",
       "      <td>-0.000087</td>\n",
       "      <td>0.000168</td>\n",
       "      <td>-0.000775</td>\n",
       "      <td>0.001912</td>\n",
       "      <td>-0.132300</td>\n",
       "      <td>-0.002115</td>\n",
       "      <td>-0.026740</td>\n",
       "      <td>-0.028360</td>\n",
       "      <td>...</td>\n",
       "      <td>-0.600288</td>\n",
       "      <td>-0.448899</td>\n",
       "      <td>0.000498</td>\n",
       "      <td>0.000314</td>\n",
       "      <td>0.016120</td>\n",
       "      <td>-0.514997</td>\n",
       "      <td>0.002033</td>\n",
       "      <td>0.000525</td>\n",
       "      <td>0.000885</td>\n",
       "      <td>-0.046640</td>\n",
       "    </tr>\n",
       "  </tbody>\n",
       "</table>\n",
       "<p>5 rows × 27 columns</p>\n",
       "</div>"
      ],
      "text/plain": [
       "    species      trap  latitude  longitude  addressaccuracy     block  \\\n",
       "0 -0.002383  0.004756 -0.000026   0.000021        -0.000303  0.000752   \n",
       "1  0.000863  0.996677 -0.000820   0.000430        -0.010099 -0.079127   \n",
       "2 -0.000307  0.079191  0.000233  -0.000580         0.007471  0.996454   \n",
       "3  0.004296  0.001844  0.000452  -0.000483         0.003063  0.025992   \n",
       "4  0.001131  0.010895 -0.000087   0.000168        -0.000775  0.001912   \n",
       "\n",
       "        day     month      year      week  ...   sunrise    sunset  \\\n",
       "0  0.007212  0.012265 -0.003490  0.054867  ...  0.574935 -0.814970   \n",
       "1  0.005343  0.000023  0.006715  0.000681  ...  0.003328  0.008344   \n",
       "2  0.000685  0.000685  0.002425  0.002530  ...  0.008691  0.006499   \n",
       "3 -0.045882 -0.011664  0.012855 -0.056669  ... -0.312291 -0.175774   \n",
       "4 -0.132300 -0.002115 -0.026740 -0.028360  ... -0.600288 -0.448899   \n",
       "\n",
       "   stnpressure  sealevel  resultspeed  resultdir  avgspeed  precipbool  \\\n",
       "0     0.000554  0.000582    -0.003837   0.002022 -0.003277   -0.001090   \n",
       "1     0.000177  0.000024     0.001984   0.005050  0.001248   -0.000167   \n",
       "2    -0.000386 -0.000033    -0.000686   0.006057 -0.000819   -0.000023   \n",
       "3     0.002062  0.002575     0.007556  -0.151436 -0.006581   -0.004393   \n",
       "4     0.000498  0.000314     0.016120  -0.514997  0.002033    0.000525   \n",
       "\n",
       "   direction   winddir  \n",
       "0   0.000331  0.001611  \n",
       "1   0.005659  0.000233  \n",
       "2  -0.001104  0.001705  \n",
       "3  -0.003018 -0.072649  \n",
       "4   0.000885 -0.046640  \n",
       "\n",
       "[5 rows x 27 columns]"
      ]
     },
     "execution_count": 97,
     "metadata": {},
     "output_type": "execute_result"
    }
   ],
   "source": [
    "components = pd.DataFrame(pca.components_, columns=data.columns)\n",
    "components"
   ]
  },
  {
   "cell_type": "code",
   "execution_count": 98,
   "id": "0dce6515-df15-4ea7-8f2d-bad836436489",
   "metadata": {},
   "outputs": [],
   "source": [
    "# Calculate the number of times a feature has a low loading (absolute value less than 0.2) across all principal components\n",
    "low_loading_counts = (components.abs() < 0.2).sum(axis=0)"
   ]
  },
  {
   "cell_type": "code",
   "execution_count": 99,
   "id": "98a805a4-1cc1-4ad9-9b2f-264b19d3ecc6",
   "metadata": {},
   "outputs": [
    {
     "data": {
      "text/plain": [
       "['species',\n",
       " 'latitude',\n",
       " 'longitude',\n",
       " 'addressaccuracy',\n",
       " 'day',\n",
       " 'month',\n",
       " 'year',\n",
       " 'week',\n",
       " 'dayofweek',\n",
       " 'heat',\n",
       " 'stnpressure',\n",
       " 'sealevel',\n",
       " 'resultspeed',\n",
       " 'avgspeed',\n",
       " 'precipbool',\n",
       " 'direction',\n",
       " 'winddir']"
      ]
     },
     "execution_count": 99,
     "metadata": {},
     "output_type": "execute_result"
    }
   ],
   "source": [
    "# List the features that have low loadings across all 5 principal components\n",
    "discard_cols = low_loading_counts[low_loading_counts >= 5].index.tolist()\n",
    "discard_cols"
   ]
  },
  {
   "cell_type": "markdown",
   "id": "d0d117f0-7ba9-4858-80de-496066c94b1c",
   "metadata": {},
   "source": [
    "The PCA analysis is just a recommendation. After modelling several times, we have decided to not drop any columns from the PCA analysis."
   ]
  },
  {
   "cell_type": "markdown",
   "id": "37f42dd8-f1bb-462a-b7a8-bc70569236e9",
   "metadata": {},
   "source": [
    "# 5.0 Exploratory Data Analysis (EDA)"
   ]
  },
  {
   "cell_type": "markdown",
   "id": "4b0efb3c",
   "metadata": {},
   "source": [
    "## 5.1 Plotting the distribution of West Nile Virus Presence\n",
    "\n",
    "To analyze whether the west nile virus presence class is it balance or imbalance"
   ]
  },
  {
   "cell_type": "code",
   "execution_count": 100,
   "id": "a962229a",
   "metadata": {},
   "outputs": [
    {
     "data": {
      "image/png": "[encoded data removed]",
      "text/plain": [
       "<Figure size 500x500 with 1 Axes>"
      ]
     },
     "metadata": {},
     "output_type": "display_data"
    }
   ],
   "source": [
    "# setting up the visual styling\n",
    "sns.set_style('whitegrid')\n",
    "\n",
    "plt.figure(figsize=(5,5))\n",
    "sns.countplot(data=merge_train, x='wnvpresent' )\n",
    "plt.title('Distribution of West Nile Virus Presence')\n",
    "plt.xlabel('West Nile Virus Presence')\n",
    "plt.ylabel('Count')\n",
    "plt.xticks([0,1],['Absent', 'Present'])\n",
    "\n",
    "plt.tight_layout()\n",
    "plt.show()"
   ]
  },
  {
   "cell_type": "markdown",
   "id": "275a256a",
   "metadata": {},
   "source": [
    "From the chart above, it shows the West Nile virus Present data were significantly lower as compare to the West Nile Virus Absent data "
   ]
  },
  {
   "cell_type": "markdown",
   "id": "ca3f9b87",
   "metadata": {},
   "source": [
    "## 5.2 Correlation between Weather Variables and West Nile Virus Presence\n",
    "\n",
    "We would like find out which are the key parameters of weather that has high correlations with West Nile Virus Presence in Mosqiutoes."
   ]
  },
  {
   "cell_type": "code",
   "execution_count": 101,
   "id": "61d22d07",
   "metadata": {},
   "outputs": [
    {
     "name": "stderr",
     "output_type": "stream",
     "text": [
      "/var/folders/p9/16kl5pg15yqfvffg7lzl43tc0000gn/T/ipykernel_14623/2406893375.py:16: FutureWarning: \n",
      "\n",
      "Passing `palette` without assigning `hue` is deprecated and will be removed in v0.14.0. Assign the `y` variable to `hue` and set `legend=False` for the same effect.\n",
      "\n",
      "  sns.barplot(y=corr_with_wnv.index, x=corr_with_wnv.values, palette='husl')\n"
     ]
    },
    {
     "data": {
      "image/png": "[encoded data removed]",
      "text/plain": [
       "<Figure size 800x600 with 1 Axes>"
      ]
     },
     "metadata": {},
     "output_type": "display_data"
    }
   ],
   "source": [
    "# Select key weather variables\n",
    "weather_vars = ['tmax', 'tmin', 'tavg', 'wetbulb', 'heat', 'cool', 'stnpressure',\n",
    "                'sealevel', 'resultspeed', 'resultdir', 'avgspeed']\n",
    "\n",
    "# Formulate dataframe\n",
    "merge_train_corr = merge_train[weather_vars + ['wnvpresent']]\n",
    "\n",
    "# Compute the correlation of WNVpresence with other variables\n",
    "corr_with_wnv = merge_train_corr.corr(numeric_only=True)['wnvpresent'].sort_values(ascending=False)\n",
    "\n",
    "# Drop columne of 'wnvpresence'\n",
    "corr_with_wnv.drop('wnvpresent', inplace=True)\n",
    "\n",
    "# Plotting corr\n",
    "plt.figure(figsize=(8,6))\n",
    "sns.barplot(y=corr_with_wnv.index, x=corr_with_wnv.values, palette='husl')\n",
    "plt.title('Top and Bottom Correlation with WNV Presence')\n",
    "plt.xlabel('Correlation Coefficient')\n",
    "plt.ylabel('Variable')\n",
    "plt.grid(axis='x', linestyle='--')\n",
    "plt.tight_layout()\n",
    "plt.show()"
   ]
  },
  {
   "cell_type": "markdown",
   "id": "b55db185",
   "metadata": {},
   "source": [
    "###  Correlations between weather variables and West Nile Virus\n",
    "\n",
    "- From the above chart, it shows that wetbulb and tmin has highest positive correlation with West Nile Virus. With this finding, we also have a better understanding that mosquitoes tends to thrive in humid weather and high 'tmin' temperature\n",
    "\n",
    "- While for heat and resultspeed has lowest negative correlation with west Nile Virus. As for heat, the more amount of heat would required to maintain 65 degree F the female mosquito will not be able to consume blood. During high resultspeed period, it shows that female moqutio will look for shelter as compare to consume blood.  "
   ]
  },
  {
   "cell_type": "markdown",
   "id": "9ea51cb2",
   "metadata": {},
   "source": [
    "## 5.3 Distribution of mosquitoes species"
   ]
  },
  {
   "cell_type": "code",
   "execution_count": 102,
   "id": "5bba8474",
   "metadata": {
    "tags": []
   },
   "outputs": [
    {
     "data": {
      "image/png": "[encoded data removed]",
      "text/plain": [
       "<Figure size 800x600 with 1 Axes>"
      ]
     },
     "metadata": {},
     "output_type": "display_data"
    }
   ],
   "source": [
    "plt.figure(figsize=(8,6))\n",
    "sns.countplot(data=train_df, y='species', hue='wnvpresent')\n",
    "plt.show()"
   ]
  },
  {
   "cell_type": "markdown",
   "id": "5dde3717",
   "metadata": {},
   "source": [
    "CULEX PIPIENS and CULEX PIPIENS/RESTUANS seem to be the two species with the most significant number of samples showing the presence of the virus."
   ]
  },
  {
   "cell_type": "markdown",
   "id": "0908b7ab",
   "metadata": {},
   "source": [
    "## 5.4 Plotting 'nummosquitos', 'wnvpresent' and spray data vs 'week'\n",
    "\n",
    "We would like to analyze whether the number of mosquito has an impact to the presence of West Nile Viruses.By logical assumptions the higher the number of mosqutio the higher presence of West Nile Virues should be found in mosqutioes.\n",
    "\n",
    "We also would like to find out the number of spray times, does it bring down the mosquitos numbers and the presence of West Nile Viruses?"
   ]
  },
  {
   "cell_type": "code",
   "execution_count": 103,
   "id": "fd2d896b",
   "metadata": {},
   "outputs": [
    {
     "data": {
      "image/png": "[encoded data removed]",
      "text/plain": [
       "<Figure size 1500x2000 with 8 Axes>"
      ]
     },
     "metadata": {},
     "output_type": "display_data"
    }
   ],
   "source": [
    "# groupby 'year' and 'week' and aggregate data\n",
    "grouped_data = merge_train.groupby(['year', 'week']).agg({'nummosquitos':'sum', 'wnvpresent':'sum'}).reset_index()\n",
    "spray_counts = spray_df.groupby(['year', 'week']).size().reset_index(name='spray_count')\n",
    "\n",
    "# splitting the chart based on years\n",
    "unique_years = grouped_data['year'].unique()\n",
    "num_years = len(unique_years)\n",
    "plt.figure(figsize=(15, num_years * 5))\n",
    "\n",
    "for i, year in enumerate(unique_years, 1):\n",
    "    yearly_data = grouped_data[grouped_data['year'] == year]\n",
    "    yearly_spray_data = spray_counts[spray_counts['year'] == year]\n",
    "\n",
    "    # Mosquito data\n",
    "    ax1 = plt.subplot(num_years, 1, i)\n",
    "    ax1.plot(yearly_data['week'], yearly_data['nummosquitos'], label='Num Mosquitos', marker='o', color='b')\n",
    "    ax1.set_xlabel('Week')\n",
    "    ax1.set_ylabel('Num Mosquitos', color='b')\n",
    "    ax1.tick_params(axis='y', labelcolor='b')\n",
    "    ax1.grid(True)\n",
    "\n",
    "    # WNV data\n",
    "    ax2 = ax1.twinx()\n",
    "    ax2.plot(yearly_data['week'], yearly_data['wnvpresent'], label='WNV Present', linestyle='--', color='r')\n",
    "    ax2.set_ylabel(\"WNV Present\", color='r')\n",
    "    ax2.tick_params(axis='y', labelcolor='r')\n",
    "\n",
    "    # Spray weeks\n",
    "    for week in yearly_spray_data['week']:\n",
    "        label = 'Spray Week' if week == yearly_spray_data['week'].iloc[0] else \"\"\n",
    "        ax1.axvline(x=week, color='g', linestyle='-', linewidth=2, alpha=0.7, label=label)\n",
    "\n",
    "    # Combining legends from both ax1 and ax2\n",
    "    lines, labels = ax1.get_legend_handles_labels()\n",
    "    lines2, labels2 = ax2.get_legend_handles_labels()\n",
    "    ax2.legend(lines + lines2, labels + labels2, loc='upper left')\n",
    "\n",
    "    plt.title(f\"Year {year}\", ha='center')\n",
    "\n",
    "plt.tight_layout()\n",
    "plt.show()"
   ]
  },
  {
   "cell_type": "markdown",
   "id": "00758185",
   "metadata": {},
   "source": [
    "### 'nummosquitos', 'wnvpresent' and spray data vs 'week'\n",
    "\n",
    "According to the data, in the years 2007, 2009, 2011 and 2013, the number of mosqutioes does not have any direct impact with West Nile Virus as shown in the chart.\n",
    "\n",
    "Is spraying useful in preventing number of mosquitoes? The answer is NO. It does not have any direct impact on the presence of West Nile Virus found in mosquitoes and number of mosquitoes caught in the trap."
   ]
  },
  {
   "cell_type": "markdown",
   "id": "31e42044",
   "metadata": {},
   "source": [
    "## 5.5 WNV Presence Vs Month"
   ]
  },
  {
   "cell_type": "code",
   "execution_count": 104,
   "id": "c0103c1c",
   "metadata": {},
   "outputs": [
    {
     "data": {
      "image/png": "[encoded data removed]",
      "text/plain": [
       "<Figure size 800x800 with 1 Axes>"
      ]
     },
     "metadata": {},
     "output_type": "display_data"
    }
   ],
   "source": [
    "# Grouping by year and month to aggregate WNV presence\n",
    "time_series_data = merge_train.groupby(['year', 'month'])['wnvpresent'].sum().reset_index()\n",
    "\n",
    "# Creating a 'year_month' column for plotting\n",
    "time_series_data['year_month'] = time_series_data['year'].astype(str) + '-' + time_series_data['month'].astype(str).str.zfill(2)\n",
    "\n",
    "# Plotting the time series data by year on the same chart\n",
    "plt.figure(figsize=(8, 8))\n",
    "sns.lineplot(data=time_series_data, x='month', y='wnvpresent', hue='year', marker='o', palette='tab10')\n",
    "plt.title('Monthly Trend of WNV Presence Split by Year')\n",
    "plt.xlabel('Month')\n",
    "plt.ylabel('Number of WNV Detections')\n",
    "plt.grid(True, which='both', linestyle='--', linewidth=0.5)\n",
    "plt.legend(title='Year')\n",
    "plt.tight_layout()\n",
    "plt.show()"
   ]
  },
  {
   "cell_type": "markdown",
   "id": "1f61c018",
   "metadata": {},
   "source": [
    "From the chart above, the month of August always has the highest amount of West Nile virus presence.  "
   ]
  },
  {
   "cell_type": "markdown",
   "id": "65748e87-1f58-4ddb-8387-841a28e8bc2f",
   "metadata": {},
   "source": [
    "## 5.6 WNV Presence Vs Street Direction"
   ]
  },
  {
   "cell_type": "code",
   "execution_count": 105,
   "id": "e53d2f7b-7a0a-4792-8a46-1929053b3496",
   "metadata": {
    "tags": []
   },
   "outputs": [
    {
     "data": {
      "image/png": "[encoded data removed]",
      "text/plain": [
       "<Figure size 640x480 with 1 Axes>"
      ]
     },
     "metadata": {},
     "output_type": "display_data"
    }
   ],
   "source": [
    "total = encoded_train.groupby('direction')['wnvpresent'].sum().sum()\n",
    "\n",
    "percentages = (encoded_train.groupby('direction')['wnvpresent'].sum() * 100 / total)\n",
    "\n",
    "tavg_values = encoded_train[encoded_train['wnvpresent'] == 1].groupby('direction')['tavg'].mean()\n",
    "\n",
    "ax = percentages.plot(kind=\"barh\", color=\"turquoise\")\n",
    "plt.yticks(ticks=[0, 1, 2, 3], labels=[\"North\", \"West\", \"South\", \"East\"])\n",
    "plt.ylabel('Street Direction')\n",
    "plt.xlabel('Percentage of WNV Present')\n",
    "plt.title('Effect of Direction on Presence of Virus')\n",
    "\n",
    "for i, (percentage, tavg) in enumerate(zip(percentages, tavg_values)):\n",
    "    ax.text(1, i, f\"{tavg:.2f}°F\", va='baseline', fontweight='bold')\n",
    "\n",
    "plt.tight_layout()\n",
    "plt.show()"
   ]
  },
  {
   "cell_type": "markdown",
   "id": "be97d818-651c-4f4f-a2e5-3a74de419e59",
   "metadata": {},
   "source": [
    "From the plot above, we can see that there seems to be a correlation between street direction and presence of west nile virus.  \n",
    "The plot also shows the average temperature for each street. The mosquitoes seem to thrive in lower temperatures in the north facing streets."
   ]
  },
  {
   "cell_type": "code",
   "execution_count": null,
   "id": "1e3c89b3-4840-4063-ba9f-5709825f02f1",
   "metadata": {},
   "outputs": [],
   "source": []
  }
 ],
 "metadata": {
  "kernelspec": {
   "display_name": "Python 3 (ipykernel)",
   "language": "python",
   "name": "python3"
  },
  "language_info": {
   "codemirror_mode": {
    "name": "ipython",
    "version": 3
   },
   "file_extension": ".py",
   "mimetype": "text/x-python",
   "name": "python",
   "nbconvert_exporter": "python",
   "pygments_lexer": "ipython3",
   "version": "3.11.6"
  }
 },
 "nbformat": 4,
 "nbformat_minor": 5
}
