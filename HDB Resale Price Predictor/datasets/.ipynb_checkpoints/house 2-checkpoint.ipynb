{
 "cells": [
  {
   "cell_type": "code",
   "execution_count": 1,
   "id": "dc8f762b-1e96-48b3-b5c1-38f06460d3b6",
   "metadata": {
    "tags": []
   },
   "outputs": [],
   "source": [
    "import pandas as pd\n",
    "import matplotlib.pyplot as plt\n",
    "import seaborn as sns\n",
    "\n",
    "df = pd.read_csv('train.csv',low_memory=False)"
   ]
  },
  {
   "cell_type": "code",
   "execution_count": null,
   "id": "f2576f31-3d77-434e-ac2c-df1d50ab12a6",
   "metadata": {
    "tags": []
   },
   "outputs": [],
   "source": [
    "int_columns = df.select_dtypes(include=['int64']).columns\n",
    "\n",
    "for col in int_columns:\n",
    "    df[col].plot(kind='bar')"
   ]
  },
  {
   "cell_type": "code",
   "execution_count": null,
   "id": "61264684-93d9-412f-bfa0-31177353aaf7",
   "metadata": {
    "tags": []
   },
   "outputs": [],
   "source": [
    "df.keys()"
   ]
  },
  {
   "cell_type": "code",
   "execution_count": null,
   "id": "5720f783-64de-4634-bca3-e842d8888718",
   "metadata": {},
   "outputs": [],
   "source": []
  }
 ],
 "metadata": {
  "kernelspec": {
   "display_name": "Python 3 (ipykernel)",
   "language": "python",
   "name": "python3"
  },
  "language_info": {
   "codemirror_mode": {
    "name": "ipython",
    "version": 3
   },
   "file_extension": ".py",
   "mimetype": "text/x-python",
   "name": "python",
   "nbconvert_exporter": "python",
   "pygments_lexer": "ipython3",
   "version": "3.11.3"
  }
 },
 "nbformat": 4,
 "nbformat_minor": 5
}
